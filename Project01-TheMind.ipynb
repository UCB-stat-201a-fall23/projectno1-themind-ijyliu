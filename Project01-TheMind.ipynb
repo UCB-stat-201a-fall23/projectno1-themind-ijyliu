{
 "cells": [
  {
   "cell_type": "markdown",
   "id": "4f2e3179-b4ae-4243-92eb-ed8d86df7c10",
   "metadata": {
    "user_expressions": []
   },
   "source": [
    "## Project No1 - The Mind\n",
    "\n",
    "Refer to the `README.md` for further information about how to play the game and the objectives for this first project. \n",
    "\n",
    "When writing code, we recommend you to be as modular as possible. For example, if you are running multiple experiments for different choices of parameters, it may be convenient to write a function that does one experiment and then make multiple calls to the same function. Follow the _do not repeat yourself_ rule when writing code! "
   ]
  },
  {
   "cell_type": "code",
   "execution_count": 1,
   "id": "130e891e-23be-4df7-8209-9c95c8ec6852",
   "metadata": {},
   "outputs": [],
   "source": [
    "import numpy as np\n",
    "import matplotlib.pyplot as plt"
   ]
  },
  {
   "cell_type": "code",
   "execution_count": 2,
   "id": "f6b1a276",
   "metadata": {},
   "outputs": [],
   "source": [
    "# Set seed for replicability\n",
    "import random\n",
    "random.seed(1234)"
   ]
  },
  {
   "cell_type": "markdown",
   "id": "d44bf2d2-6100-47ca-a6d3-55911388bc7e",
   "metadata": {
    "user_expressions": []
   },
   "source": [
    "Let's start by creating a function that generates one sample of the game. Feel free to change this code as you find it suitable, for example by changing how the sampling is created or if you want to sample cards with replacement (this could be useful for the last questions)."
   ]
  },
  {
   "cell_type": "code",
   "execution_count": 3,
   "id": "e4c2b253-1621-459a-ba5a-a76d6f46a64b",
   "metadata": {},
   "outputs": [],
   "source": [
    "def sample_cards(N, n, k):\n",
    "    \"\"\"\n",
    "    Generates a simulated sample of how the cards are shuffled among players. \n",
    "    \n",
    "    Arguments: \n",
    "        - N : Total number of cards\n",
    "        - n : Number of players\n",
    "        - k : Number of cards per player\n",
    "        \n",
    "    Returns: \n",
    "        - 2D numpy array where each row represent each player and each column their card in ascending order. \n",
    "    \"\"\"\n",
    "    \n",
    "    assert n * k <= N, \"There are not enough cards for all the players!\"\n",
    "    \n",
    "    _cards = np.random.choice(a=np.arange(1, N+1), size=n*k, replace=False)\n",
    "    _cards = _cards.reshape(n,k)\n",
    "    _cards.sort(axis=1)\n",
    "    return _cards"
   ]
  },
  {
   "cell_type": "markdown",
   "id": "efee53b7-0463-4c51-b106-e5d26fdc5a7e",
   "metadata": {
    "user_expressions": []
   },
   "source": [
    "Now we can just generate how cards are distributed among players by simply making a call to this function with the desired parameters. "
   ]
  },
  {
   "cell_type": "code",
   "execution_count": 4,
   "id": "1331d9b0-e485-4417-8c7d-4ce407c6e693",
   "metadata": {},
   "outputs": [
    {
     "data": {
      "text/plain": [
       "array([[15, 46, 47],\n",
       "       [20, 80, 82],\n",
       "       [84, 93, 96],\n",
       "       [ 1, 42, 69],\n",
       "       [21, 26, 81],\n",
       "       [44, 48, 64]])"
      ]
     },
     "execution_count": 4,
     "metadata": {},
     "output_type": "execute_result"
    }
   ],
   "source": [
    "cards = sample_cards(100, 6, 3)\n",
    "cards"
   ]
  },
  {
   "cell_type": "markdown",
   "id": "2f7cfb3b-b3bc-4064-92a4-35e96df2847d",
   "metadata": {
    "user_expressions": []
   },
   "source": [
    "and access the cards of each player with "
   ]
  },
  {
   "cell_type": "code",
   "execution_count": 5,
   "id": "36f4998e-61e0-4acd-b292-b447a0d6a8ed",
   "metadata": {},
   "outputs": [
    {
     "data": {
      "text/plain": [
       "(array([15, 46, 47]), array([20, 80, 82]))"
      ]
     },
     "execution_count": 5,
     "metadata": {},
     "output_type": "execute_result"
    }
   ],
   "source": [
    "player0 = cards[0,:]\n",
    "player1 = cards[1,:]\n",
    "player0, player1"
   ]
  },
  {
   "cell_type": "markdown",
   "id": "08d9de1a-3dc6-49ba-b08c-dba034839906",
   "metadata": {
    "user_expressions": []
   },
   "source": [
    "The lowest card in the game is"
   ]
  },
  {
   "cell_type": "code",
   "execution_count": 6,
   "id": "a68f743d",
   "metadata": {},
   "outputs": [
    {
     "data": {
      "text/plain": [
       "1"
      ]
     },
     "execution_count": 6,
     "metadata": {},
     "output_type": "execute_result"
    }
   ],
   "source": [
    "np.min(cards)"
   ]
  },
  {
   "cell_type": "markdown",
   "id": "68f581ae",
   "metadata": {},
   "source": [
    "This function creates a sequence of values from start (1) to stop (5) minus 1. "
   ]
  },
  {
   "cell_type": "code",
   "execution_count": 7,
   "id": "2f4766c6-7334-4d24-a0b5-20e5bfd44a63",
   "metadata": {},
   "outputs": [
    {
     "data": {
      "text/plain": [
       "array([1, 2, 3, 4])"
      ]
     },
     "execution_count": 7,
     "metadata": {},
     "output_type": "execute_result"
    }
   ],
   "source": [
    "np.arange(1, 5)"
   ]
  },
  {
   "cell_type": "markdown",
   "id": "755260c8-4ec3-49ed-a783-99629dd51cb8",
   "metadata": {
    "user_expressions": []
   },
   "source": [
    "### 1. What is the distribution of the lowest number? \n",
    "\n",
    "Repeat the sampling of the cards multiple times for the same choice of `N`, `n` and `k` and plot the distribution of the lowest number in the sample. Use an [histogram](https://matplotlib.org/stable/api/_as_gen/matplotlib.pyplot.hist.html) to plot the distribution and set the bins to be the available integer number cards. "
   ]
  },
  {
   "cell_type": "code",
   "execution_count": 8,
   "id": "12fe9c17-000b-472a-8380-915f6dfda5df",
   "metadata": {},
   "outputs": [
    {
     "data": {
      "text/plain": [
       "[array([[  7,  63,  98],\n",
       "        [  8,  20,  81],\n",
       "        [ 15,  17,  58],\n",
       "        [ 60,  95, 100],\n",
       "        [ 18,  34,  46],\n",
       "        [ 49,  55,  69]]),\n",
       " array([[31, 92, 99],\n",
       "        [73, 82, 97],\n",
       "        [ 8, 12, 14],\n",
       "        [11, 61, 74],\n",
       "        [42, 76, 90],\n",
       "        [13, 46, 80]]),\n",
       " array([[66, 88, 97],\n",
       "        [32, 34, 83],\n",
       "        [16, 61, 87],\n",
       "        [ 6, 13, 65],\n",
       "        [17, 27, 62],\n",
       "        [24, 29, 85]]),\n",
       " array([[21, 41, 86],\n",
       "        [ 5, 64, 95],\n",
       "        [28, 39, 99],\n",
       "        [ 2, 44, 52],\n",
       "        [11, 72, 81],\n",
       "        [ 4, 49, 60]]),\n",
       " array([[  1,  30,  83],\n",
       "        [  5,  45,  65],\n",
       "        [ 16,  42,  89],\n",
       "        [ 17,  31,  92],\n",
       "        [ 29,  66, 100],\n",
       "        [ 52,  57,  90]]),\n",
       " array([[45, 48, 51],\n",
       "        [54, 78, 79],\n",
       "        [ 3, 85, 99],\n",
       "        [ 4, 69, 87],\n",
       "        [ 8, 22, 34],\n",
       "        [21, 67, 83]]),\n",
       " array([[10, 21, 89],\n",
       "        [53, 77, 78],\n",
       "        [38, 68, 86],\n",
       "        [40, 46, 63],\n",
       "        [16, 51, 65],\n",
       "        [ 7, 75, 90]]),\n",
       " array([[ 6, 16, 21],\n",
       "        [19, 28, 40],\n",
       "        [43, 49, 82],\n",
       "        [66, 75, 94],\n",
       "        [57, 91, 92],\n",
       "        [62, 93, 95]]),\n",
       " array([[16, 28, 51],\n",
       "        [18, 25, 45],\n",
       "        [31, 46, 54],\n",
       "        [63, 82, 87],\n",
       "        [36, 49, 68],\n",
       "        [ 2, 77, 83]]),\n",
       " array([[  2,  96,  97],\n",
       "        [  6,  19,  58],\n",
       "        [ 53,  74,  85],\n",
       "        [ 10,  11,  73],\n",
       "        [ 20,  62, 100],\n",
       "        [  5,  31,  40]]),\n",
       " array([[ 27,  45, 100],\n",
       "        [ 36,  63,  90],\n",
       "        [ 19,  43,  99],\n",
       "        [ 46,  56,  79],\n",
       "        [ 21,  53,  59],\n",
       "        [ 10,  16,  44]]),\n",
       " array([[ 8, 47, 95],\n",
       "        [24, 29, 64],\n",
       "        [ 1, 28, 68],\n",
       "        [17, 51, 76],\n",
       "        [55, 67, 78],\n",
       "        [11, 48, 99]]),\n",
       " array([[44, 60, 95],\n",
       "        [11, 14, 59],\n",
       "        [19, 48, 82],\n",
       "        [26, 34, 54],\n",
       "        [24, 69, 85],\n",
       "        [ 3, 21, 39]]),\n",
       " array([[  7,  24, 100],\n",
       "        [ 31,  43,  65],\n",
       "        [ 55,  59,  78],\n",
       "        [ 19,  20,  91],\n",
       "        [ 17,  49,  60],\n",
       "        [  6,  39,  62]]),\n",
       " array([[ 2, 46, 86],\n",
       "        [29, 57, 93],\n",
       "        [44, 55, 88],\n",
       "        [48, 53, 61],\n",
       "        [14, 33, 64],\n",
       "        [65, 71, 77]]),\n",
       " array([[11, 30, 91],\n",
       "        [49, 83, 94],\n",
       "        [52, 96, 98],\n",
       "        [ 3, 26, 92],\n",
       "        [14, 33, 41],\n",
       "        [ 9, 58, 85]]),\n",
       " array([[56, 91, 97],\n",
       "        [10, 26, 71],\n",
       "        [35, 92, 95],\n",
       "        [ 7, 37, 51],\n",
       "        [ 6, 25, 70],\n",
       "        [41, 52, 84]]),\n",
       " array([[ 5, 43, 92],\n",
       "        [38, 40, 55],\n",
       "        [21, 35, 70],\n",
       "        [61, 73, 87],\n",
       "        [45, 56, 80],\n",
       "        [32, 58, 75]]),\n",
       " array([[23, 33, 61],\n",
       "        [ 5, 71, 93],\n",
       "        [50, 72, 73],\n",
       "        [ 6,  9, 97],\n",
       "        [44, 60, 63],\n",
       "        [ 1, 12, 28]]),\n",
       " array([[29, 65, 73],\n",
       "        [12, 16, 84],\n",
       "        [19, 30, 94],\n",
       "        [ 6, 33, 97],\n",
       "        [36, 37, 88],\n",
       "        [57, 61, 62]]),\n",
       " array([[11, 77, 86],\n",
       "        [18, 40, 82],\n",
       "        [45, 52, 76],\n",
       "        [ 7, 64, 91],\n",
       "        [16, 49, 93],\n",
       "        [19, 42, 53]]),\n",
       " array([[37, 62, 76],\n",
       "        [24, 83, 84],\n",
       "        [ 1, 20, 93],\n",
       "        [ 6,  8, 53],\n",
       "        [ 4, 79, 87],\n",
       "        [21, 81, 88]]),\n",
       " array([[36, 43, 66],\n",
       "        [ 5, 29, 89],\n",
       "        [10, 18, 28],\n",
       "        [53, 64, 92],\n",
       "        [ 7, 17, 72],\n",
       "        [38, 56, 88]]),\n",
       " array([[15, 63, 94],\n",
       "        [ 7, 51, 54],\n",
       "        [33, 85, 99],\n",
       "        [17, 43, 69],\n",
       "        [23, 76, 97],\n",
       "        [ 8,  9, 46]]),\n",
       " array([[33, 42, 60],\n",
       "        [23, 29, 89],\n",
       "        [16, 25, 82],\n",
       "        [24, 59, 80],\n",
       "        [10, 34, 49],\n",
       "        [56, 61, 77]]),\n",
       " array([[43, 61, 64],\n",
       "        [17, 49, 90],\n",
       "        [19, 33, 47],\n",
       "        [34, 39, 40],\n",
       "        [ 1, 83, 86],\n",
       "        [ 5, 21, 95]]),\n",
       " array([[31, 79, 84],\n",
       "        [26, 82, 95],\n",
       "        [ 4,  5, 40],\n",
       "        [35, 51, 96],\n",
       "        [13, 55, 65],\n",
       "        [56, 73, 87]]),\n",
       " array([[61, 84, 85],\n",
       "        [ 1,  6, 23],\n",
       "        [22, 45, 70],\n",
       "        [ 2, 24, 95],\n",
       "        [32, 43, 74],\n",
       "        [41, 81, 96]]),\n",
       " array([[ 6,  8, 63],\n",
       "        [37, 41, 56],\n",
       "        [16, 47, 71],\n",
       "        [31, 62, 76],\n",
       "        [22, 65, 67],\n",
       "        [ 2, 19, 44]]),\n",
       " array([[ 3,  6, 10],\n",
       "        [38, 40, 70],\n",
       "        [17, 28, 41],\n",
       "        [30, 45, 59],\n",
       "        [22, 58, 97],\n",
       "        [34, 64, 88]]),\n",
       " array([[ 54,  86,  90],\n",
       "        [ 22,  28, 100],\n",
       "        [  9,  40,  44],\n",
       "        [ 50,  64,  73],\n",
       "        [ 68,  87,  99],\n",
       "        [ 12,  83,  84]]),\n",
       " array([[28, 48, 86],\n",
       "        [ 2, 44, 83],\n",
       "        [ 7, 33, 99],\n",
       "        [19, 21, 80],\n",
       "        [ 5, 32, 64],\n",
       "        [35, 39, 74]]),\n",
       " array([[ 5, 20, 83],\n",
       "        [71, 78, 96],\n",
       "        [13, 51, 91],\n",
       "        [21, 35, 63],\n",
       "        [40, 65, 98],\n",
       "        [ 1, 10, 75]]),\n",
       " array([[41, 69, 72],\n",
       "        [19, 63, 79],\n",
       "        [21, 61, 64],\n",
       "        [ 4, 31, 88],\n",
       "        [ 6, 35, 94],\n",
       "        [39, 40, 57]]),\n",
       " array([[21, 36, 39],\n",
       "        [33, 44, 60],\n",
       "        [14, 78, 81],\n",
       "        [24, 41, 99],\n",
       "        [30, 66, 71],\n",
       "        [18, 23, 47]]),\n",
       " array([[26, 48, 53],\n",
       "        [ 7, 46, 98],\n",
       "        [ 3, 74, 80],\n",
       "        [ 6, 47, 83],\n",
       "        [30, 45, 93],\n",
       "        [15, 33, 91]]),\n",
       " array([[11, 17, 42],\n",
       "        [ 1, 91, 96],\n",
       "        [ 7, 48, 92],\n",
       "        [13, 80, 85],\n",
       "        [71, 73, 99],\n",
       "        [15, 18, 78]]),\n",
       " array([[ 8, 35, 56],\n",
       "        [ 3, 91, 96],\n",
       "        [53, 82, 95],\n",
       "        [ 4, 51, 64],\n",
       "        [36, 69, 98],\n",
       "        [18, 20, 29]]),\n",
       " array([[19, 27, 38],\n",
       "        [34, 76, 83],\n",
       "        [14, 21, 61],\n",
       "        [11, 23, 25],\n",
       "        [10, 31, 51],\n",
       "        [ 1, 62, 64]]),\n",
       " array([[ 7, 40, 48],\n",
       "        [25, 81, 96],\n",
       "        [19, 30, 97],\n",
       "        [38, 42, 94],\n",
       "        [15, 37, 90],\n",
       "        [ 4, 20, 67]]),\n",
       " array([[13, 69, 70],\n",
       "        [38, 73, 96],\n",
       "        [10, 51, 65],\n",
       "        [14, 17, 43],\n",
       "        [28, 52, 58],\n",
       "        [16, 66, 84]]),\n",
       " array([[20, 32, 80],\n",
       "        [38, 47, 63],\n",
       "        [42, 55, 88],\n",
       "        [23, 65, 94],\n",
       "        [35, 44, 58],\n",
       "        [10, 34, 91]]),\n",
       " array([[44, 92, 98],\n",
       "        [36, 47, 77],\n",
       "        [29, 38, 71],\n",
       "        [31, 66, 96],\n",
       "        [74, 76, 86],\n",
       "        [65, 80, 87]]),\n",
       " array([[54, 84, 93],\n",
       "        [ 4, 33, 51],\n",
       "        [ 8, 63, 97],\n",
       "        [58, 79, 86],\n",
       "        [ 7, 40, 57],\n",
       "        [ 2, 42, 52]]),\n",
       " array([[21, 29, 98],\n",
       "        [50, 66, 99],\n",
       "        [ 9, 31, 80],\n",
       "        [30, 74, 85],\n",
       "        [35, 37, 82],\n",
       "        [45, 61, 93]]),\n",
       " array([[25, 35, 55],\n",
       "        [ 3, 13, 34],\n",
       "        [16, 74, 78],\n",
       "        [56, 59, 94],\n",
       "        [53, 65, 76],\n",
       "        [48, 54, 69]]),\n",
       " array([[ 57,  67,  76],\n",
       "        [ 11,  31,  52],\n",
       "        [  4,  89,  99],\n",
       "        [ 56,  58,  63],\n",
       "        [  1,   3,  97],\n",
       "        [ 83,  84, 100]]),\n",
       " array([[ 5, 63, 76],\n",
       "        [25, 55, 92],\n",
       "        [ 7, 56, 84],\n",
       "        [ 4, 27, 29],\n",
       "        [11, 52, 85],\n",
       "        [41, 57, 72]]),\n",
       " array([[16, 46, 62],\n",
       "        [11, 13, 45],\n",
       "        [17, 60, 64],\n",
       "        [ 4,  9, 82],\n",
       "        [15, 85, 94],\n",
       "        [10, 38, 61]]),\n",
       " array([[39, 69, 74],\n",
       "        [31, 44, 79],\n",
       "        [14, 28, 42],\n",
       "        [15, 30, 95],\n",
       "        [19, 64, 80],\n",
       "        [ 4, 11, 91]]),\n",
       " array([[ 9, 23, 46],\n",
       "        [58, 80, 84],\n",
       "        [17, 28, 47],\n",
       "        [43, 52, 78],\n",
       "        [65, 66, 67],\n",
       "        [18, 60, 74]]),\n",
       " array([[33, 57, 60],\n",
       "        [24, 36, 75],\n",
       "        [37, 49, 78],\n",
       "        [ 5, 38, 42],\n",
       "        [23, 27, 87],\n",
       "        [ 4, 16, 90]]),\n",
       " array([[  2,  37,  87],\n",
       "        [ 44,  84,  85],\n",
       "        [ 22,  78, 100],\n",
       "        [ 12,  26,  38],\n",
       "        [ 35,  72,  73],\n",
       "        [ 33,  51,  63]]),\n",
       " array([[26, 67, 75],\n",
       "        [ 6,  8, 38],\n",
       "        [13, 19, 81],\n",
       "        [11, 78, 87],\n",
       "        [35, 50, 90],\n",
       "        [31, 64, 95]]),\n",
       " array([[70, 74, 96],\n",
       "        [ 9, 51, 54],\n",
       "        [19, 77, 87],\n",
       "        [36, 47, 62],\n",
       "        [ 5, 26, 73],\n",
       "        [20, 57, 83]]),\n",
       " array([[22, 26, 38],\n",
       "        [ 6, 47, 82],\n",
       "        [42, 46, 65],\n",
       "        [48, 75, 98],\n",
       "        [44, 49, 66],\n",
       "        [80, 84, 86]]),\n",
       " array([[ 29,  40, 100],\n",
       "        [ 25,  72,  76],\n",
       "        [ 54,  92,  96],\n",
       "        [ 24,  57,  87],\n",
       "        [ 14,  26,  48],\n",
       "        [ 63,  91,  97]]),\n",
       " array([[12, 21, 73],\n",
       "        [ 1, 37, 66],\n",
       "        [17, 28, 99],\n",
       "        [42, 76, 91],\n",
       "        [44, 51, 61],\n",
       "        [55, 62, 84]]),\n",
       " array([[ 6, 31, 92],\n",
       "        [15, 51, 64],\n",
       "        [10, 49, 97],\n",
       "        [21, 32, 76],\n",
       "        [38, 90, 94],\n",
       "        [55, 58, 80]]),\n",
       " array([[19, 60, 77],\n",
       "        [15, 26, 51],\n",
       "        [ 5, 41, 69],\n",
       "        [66, 95, 97],\n",
       "        [ 4, 23, 79],\n",
       "        [45, 82, 88]]),\n",
       " array([[17, 66, 81],\n",
       "        [27, 43, 44],\n",
       "        [ 3, 19, 59],\n",
       "        [26, 54, 79],\n",
       "        [52, 83, 90],\n",
       "        [ 5, 46, 49]]),\n",
       " array([[24, 83, 89],\n",
       "        [ 6, 33, 37],\n",
       "        [ 8, 47, 76],\n",
       "        [10, 41, 74],\n",
       "        [40, 52, 80],\n",
       "        [15, 58, 82]]),\n",
       " array([[52, 61, 99],\n",
       "        [50, 56, 59],\n",
       "        [43, 55, 64],\n",
       "        [23, 34, 75],\n",
       "        [ 8, 91, 97],\n",
       "        [45, 66, 86]]),\n",
       " array([[26, 28, 55],\n",
       "        [19, 69, 98],\n",
       "        [29, 53, 72],\n",
       "        [ 5, 58, 83],\n",
       "        [ 6, 47, 96],\n",
       "        [38, 63, 87]]),\n",
       " array([[ 25,  38,  43],\n",
       "        [  1,  37,  91],\n",
       "        [ 36,  55,  75],\n",
       "        [ 21,  51, 100],\n",
       "        [ 46,  66,  96],\n",
       "        [ 28,  68,  94]]),\n",
       " array([[16, 32, 44],\n",
       "        [23, 36, 99],\n",
       "        [49, 58, 67],\n",
       "        [ 4, 22, 52],\n",
       "        [ 6, 56, 66],\n",
       "        [ 8, 29, 92]]),\n",
       " array([[ 12,  82,  92],\n",
       "        [  1,  31,  85],\n",
       "        [ 54,  86, 100],\n",
       "        [  3,  29,  72],\n",
       "        [ 14,  20,  93],\n",
       "        [ 17,  34,  88]]),\n",
       " array([[19, 35, 71],\n",
       "        [23, 42, 83],\n",
       "        [24, 66, 82],\n",
       "        [ 4, 26, 96],\n",
       "        [16, 54, 75],\n",
       "        [44, 70, 76]]),\n",
       " array([[ 30,  71,  77],\n",
       "        [ 16,  35,  52],\n",
       "        [ 29,  53,  81],\n",
       "        [ 31,  74, 100],\n",
       "        [ 20,  23,  69],\n",
       "        [  3,  15,  17]]),\n",
       " array([[33, 81, 83],\n",
       "        [ 6, 89, 96],\n",
       "        [11, 22, 76],\n",
       "        [16, 63, 74],\n",
       "        [ 3, 37, 80],\n",
       "        [58, 69, 98]]),\n",
       " array([[57, 71, 73],\n",
       "        [ 3,  4, 94],\n",
       "        [ 5,  8, 63],\n",
       "        [ 2, 25, 51],\n",
       "        [47, 83, 90],\n",
       "        [35, 49, 92]]),\n",
       " array([[24, 32, 78],\n",
       "        [44, 66, 77],\n",
       "        [15, 64, 87],\n",
       "        [ 2, 13, 37],\n",
       "        [42, 43, 69],\n",
       "        [20, 27, 83]]),\n",
       " array([[ 9, 33, 82],\n",
       "        [13, 24, 48],\n",
       "        [11, 37, 76],\n",
       "        [63, 81, 97],\n",
       "        [35, 68, 69],\n",
       "        [22, 55, 87]]),\n",
       " array([[43, 46, 58],\n",
       "        [42, 77, 82],\n",
       "        [48, 61, 80],\n",
       "        [ 5, 17, 53],\n",
       "        [14, 32, 69],\n",
       "        [30, 67, 90]]),\n",
       " array([[16, 69, 83],\n",
       "        [44, 51, 58],\n",
       "        [ 5, 42, 59],\n",
       "        [ 2, 54, 68],\n",
       "        [24, 74, 89],\n",
       "        [27, 41, 50]]),\n",
       " array([[60, 76, 78],\n",
       "        [17, 34, 42],\n",
       "        [29, 49, 95],\n",
       "        [10, 66, 93],\n",
       "        [50, 65, 84],\n",
       "        [ 3, 44, 46]]),\n",
       " array([[ 2, 62, 84],\n",
       "        [ 3, 47, 49],\n",
       "        [48, 61, 89],\n",
       "        [23, 76, 99],\n",
       "        [20, 93, 96],\n",
       "        [ 9, 55, 56]]),\n",
       " array([[32, 33, 85],\n",
       "        [ 9, 37, 55],\n",
       "        [48, 65, 90],\n",
       "        [29, 30, 66],\n",
       "        [ 1, 73, 94],\n",
       "        [20, 36, 89]]),\n",
       " array([[ 6, 75, 94],\n",
       "        [20, 76, 79],\n",
       "        [17, 29, 67],\n",
       "        [22, 40, 85],\n",
       "        [16, 37, 77],\n",
       "        [ 3, 68, 72]]),\n",
       " array([[ 26,  70,  83],\n",
       "        [ 73,  93, 100],\n",
       "        [ 22,  28,  96],\n",
       "        [  1,  25,  30],\n",
       "        [ 36,  46,  48],\n",
       "        [ 61,  92,  94]]),\n",
       " array([[53, 66, 77],\n",
       "        [19, 81, 83],\n",
       "        [ 9, 49, 62],\n",
       "        [42, 78, 79],\n",
       "        [13, 35, 39],\n",
       "        [26, 44, 87]]),\n",
       " array([[18, 39, 85],\n",
       "        [17, 64, 99],\n",
       "        [34, 40, 60],\n",
       "        [27, 68, 92],\n",
       "        [ 2,  6, 41],\n",
       "        [35, 59, 77]]),\n",
       " array([[  1,  28,  55],\n",
       "        [ 57,  79,  93],\n",
       "        [ 19,  39,  42],\n",
       "        [ 30,  68, 100],\n",
       "        [  9,  20,  74],\n",
       "        [ 50,  78,  82]]),\n",
       " array([[11, 30, 39],\n",
       "        [20, 25, 94],\n",
       "        [14, 60, 98],\n",
       "        [35, 41, 49],\n",
       "        [ 8, 68, 92],\n",
       "        [29, 91, 93]]),\n",
       " array([[ 14,  21,  65],\n",
       "        [ 49,  70,  94],\n",
       "        [ 42,  54,  99],\n",
       "        [ 27,  37, 100],\n",
       "        [ 17,  66,  89],\n",
       "        [ 31,  53,  90]]),\n",
       " array([[ 70,  90,  94],\n",
       "        [ 52,  85,  92],\n",
       "        [ 12,  14,  21],\n",
       "        [ 15,  40,  49],\n",
       "        [  6,  16,  20],\n",
       "        [  9,  22, 100]]),\n",
       " array([[ 2, 14, 37],\n",
       "        [10, 11, 76],\n",
       "        [54, 64, 68],\n",
       "        [21, 36, 57],\n",
       "        [ 8, 47, 52],\n",
       "        [63, 72, 92]]),\n",
       " array([[34, 45, 86],\n",
       "        [ 2,  9, 60],\n",
       "        [31, 82, 88],\n",
       "        [11, 35, 78],\n",
       "        [28, 48, 63],\n",
       "        [43, 50, 90]]),\n",
       " array([[ 67,  81,  99],\n",
       "        [ 18,  57, 100],\n",
       "        [ 11,  75,  90],\n",
       "        [ 38,  40,  50],\n",
       "        [  2,   8,  23],\n",
       "        [ 54,  63,  64]]),\n",
       " array([[17, 23, 96],\n",
       "        [42, 73, 98],\n",
       "        [30, 53, 75],\n",
       "        [72, 76, 82],\n",
       "        [52, 87, 90],\n",
       "        [13, 46, 65]]),\n",
       " array([[ 9, 42, 48],\n",
       "        [39, 52, 81],\n",
       "        [41, 60, 74],\n",
       "        [21, 24, 46],\n",
       "        [62, 66, 92],\n",
       "        [31, 50, 58]]),\n",
       " array([[82, 83, 90],\n",
       "        [62, 86, 94],\n",
       "        [30, 72, 89],\n",
       "        [12, 33, 60],\n",
       "        [35, 50, 79],\n",
       "        [28, 64, 74]]),\n",
       " array([[27, 47, 67],\n",
       "        [ 7, 56, 99],\n",
       "        [33, 49, 87],\n",
       "        [22, 23, 35],\n",
       "        [28, 31, 91],\n",
       "        [12, 57, 60]]),\n",
       " array([[ 5,  8, 50],\n",
       "        [ 1, 44, 54],\n",
       "        [40, 41, 98],\n",
       "        [ 3, 32, 77],\n",
       "        [ 7, 69, 90],\n",
       "        [ 6, 21, 27]]),\n",
       " array([[ 7, 67, 74],\n",
       "        [ 1, 33, 58],\n",
       "        [ 5, 49, 76],\n",
       "        [35, 51, 83],\n",
       "        [25, 28, 62],\n",
       "        [ 8, 21, 59]]),\n",
       " array([[ 3, 21, 44],\n",
       "        [27, 29, 93],\n",
       "        [35, 40, 61],\n",
       "        [ 8, 33, 63],\n",
       "        [ 1, 26, 56],\n",
       "        [17, 45, 79]]),\n",
       " array([[ 6, 58, 61],\n",
       "        [ 9, 11, 37],\n",
       "        [25, 49, 64],\n",
       "        [14, 33, 97],\n",
       "        [10, 71, 77],\n",
       "        [31, 90, 99]]),\n",
       " array([[10, 59, 71],\n",
       "        [ 2, 58, 76],\n",
       "        [36, 66, 80],\n",
       "        [ 9, 16, 48],\n",
       "        [79, 89, 93],\n",
       "        [29, 42, 96]]),\n",
       " array([[  8,  24,  52],\n",
       "        [ 18,  31,  59],\n",
       "        [ 55,  73,  93],\n",
       "        [ 15,  49,  75],\n",
       "        [ 39,  41,  48],\n",
       "        [ 45,  64, 100]]),\n",
       " array([[53, 59, 66],\n",
       "        [40, 81, 90],\n",
       "        [12, 35, 38],\n",
       "        [ 4, 80, 99],\n",
       "        [47, 75, 92],\n",
       "        [11, 19, 33]])]"
      ]
     },
     "execution_count": 8,
     "metadata": {},
     "output_type": "execute_result"
    }
   ],
   "source": [
    "# Make 100 draws\n",
    "card_draws = [sample_cards(100, 6, 3) for i in range(100)]\n",
    "card_draws"
   ]
  },
  {
   "cell_type": "code",
   "execution_count": 9,
   "id": "279964cb",
   "metadata": {},
   "outputs": [
    {
     "data": {
      "text/plain": [
       "[7,\n",
       " 8,\n",
       " 6,\n",
       " 2,\n",
       " 1,\n",
       " 3,\n",
       " 7,\n",
       " 6,\n",
       " 2,\n",
       " 2,\n",
       " 10,\n",
       " 1,\n",
       " 3,\n",
       " 6,\n",
       " 2,\n",
       " 3,\n",
       " 6,\n",
       " 5,\n",
       " 1,\n",
       " 6,\n",
       " 7,\n",
       " 1,\n",
       " 5,\n",
       " 7,\n",
       " 10,\n",
       " 1,\n",
       " 4,\n",
       " 1,\n",
       " 2,\n",
       " 3,\n",
       " 9,\n",
       " 2,\n",
       " 1,\n",
       " 4,\n",
       " 14,\n",
       " 3,\n",
       " 1,\n",
       " 3,\n",
       " 1,\n",
       " 4,\n",
       " 10,\n",
       " 10,\n",
       " 29,\n",
       " 2,\n",
       " 9,\n",
       " 3,\n",
       " 1,\n",
       " 4,\n",
       " 4,\n",
       " 4,\n",
       " 9,\n",
       " 4,\n",
       " 2,\n",
       " 6,\n",
       " 5,\n",
       " 6,\n",
       " 14,\n",
       " 1,\n",
       " 6,\n",
       " 4,\n",
       " 3,\n",
       " 6,\n",
       " 8,\n",
       " 5,\n",
       " 1,\n",
       " 4,\n",
       " 1,\n",
       " 4,\n",
       " 3,\n",
       " 3,\n",
       " 2,\n",
       " 2,\n",
       " 9,\n",
       " 5,\n",
       " 2,\n",
       " 3,\n",
       " 2,\n",
       " 1,\n",
       " 3,\n",
       " 1,\n",
       " 9,\n",
       " 2,\n",
       " 1,\n",
       " 8,\n",
       " 14,\n",
       " 6,\n",
       " 2,\n",
       " 2,\n",
       " 2,\n",
       " 13,\n",
       " 9,\n",
       " 12,\n",
       " 7,\n",
       " 1,\n",
       " 1,\n",
       " 1,\n",
       " 6,\n",
       " 2,\n",
       " 8,\n",
       " 4]"
      ]
     },
     "execution_count": 9,
     "metadata": {},
     "output_type": "execute_result"
    }
   ],
   "source": [
    "# Get minimum for each draw. Loop over draws, take array minimum\n",
    "draw_minimums = [np.min(a) for a in card_draws]\n",
    "draw_minimums"
   ]
  },
  {
   "cell_type": "code",
   "execution_count": 10,
   "id": "ce26cc59",
   "metadata": {},
   "outputs": [
    {
     "data": {
      "image/png": "[encoded data removed]",
      "text/plain": [
       "<Figure size 640x480 with 1 Axes>"
      ]
     },
     "metadata": {},
     "output_type": "display_data"
    }
   ],
   "source": [
    "# Histogram, N bins for N cards available\n",
    "plt.hist(draw_minimums, bins = 100)\n",
    "# X ticks from 0 to largest value of the min\n",
    "plt.xticks(range(int(np.min(draw_minimums)), int(np.max(draw_minimums) + 1)))\n",
    "# Show plot\n",
    "plt.show()"
   ]
  },
  {
   "cell_type": "markdown",
   "id": "b9b63c3c-5cd0-4090-910b-06ded98c5497",
   "metadata": {
    "user_expressions": []
   },
   "source": [
    "### 2. What is the distribution of the largest gap?\n",
    "\n",
    "For each simulation, find the largest distance between consecutive numbers in the game. To make this easy, let us first consider the largest gap among the pool of **all** the cards among players (if the largest gap is happening in the hand of one single player, that is ok). This will make the analysis more simple. "
   ]
  },
  {
   "cell_type": "code",
   "execution_count": 11,
   "id": "e5f8d4c0",
   "metadata": {},
   "outputs": [],
   "source": [
    "# Function: Given a game/draw of cards, compute the maximum gap between consecutive cards\n",
    "def get_max_consecutive_gap(cards):\n",
    "    # Flatten array to one dimension\n",
    "    flat_cards = cards.flatten()\n",
    "    # Get the ordered list of indices that would sort flat_cards\n",
    "    order_ids = np.argsort(flat_cards)\n",
    "    # Compute differences between between consecutively ordered cards\n",
    "    gap_cards = np.diff(flat_cards[order_ids])\n",
    "    # Return maximum gap between between ordered cards\n",
    "    return np.max(gap_cards)"
   ]
  },
  {
   "cell_type": "code",
   "execution_count": 12,
   "id": "11dde92c",
   "metadata": {},
   "outputs": [
    {
     "name": "stdout",
     "output_type": "stream",
     "text": [
      "[[30 90]\n",
      " [ 2 25]]\n",
      "60\n"
     ]
    }
   ],
   "source": [
    "# Test function on a known result\n",
    "# player 1: {30, 90}\n",
    "# player 2: {2, 25}\n",
    "test_cards = np.array([[30, 90], [2, 25]])\n",
    "print(test_cards)\n",
    "# Should be 60\n",
    "print(get_max_consecutive_gap(test_cards))"
   ]
  },
  {
   "cell_type": "markdown",
   "id": "6c0d3228-b157-4b86-a28a-1e5dc629a17c",
   "metadata": {
    "user_expressions": []
   },
   "source": [
    "Repeat the experiment but now compute the largest gap between cards of different players. This is the gap that actually matters for the purposes of the game: what is the maximum number of numbers that a player will have to wait before playing the next card?"
   ]
  },
  {
   "cell_type": "code",
   "execution_count": 13,
   "id": "80c70a7d",
   "metadata": {},
   "outputs": [],
   "source": [
    "# Function: Given a game/draw of cards, compute the maximum gap between consecutive cards from different players\n",
    "# Similar to the earlier function, except that we now keep track of and test differences in player ids, keeping non-zero ones\n",
    "def get_max_consecutive_gap_between_players(cards):\n",
    "    # Number of players (n) is the number of rows\n",
    "    num_players = np.shape(cards)[0]\n",
    "    # Number of cards per player (k) is the number of columns\n",
    "    num_cards_per_player = np.shape(cards)[1]\n",
    "    # Create a template with the same shape as the cards, but with player id numbers for tracking after sorting\n",
    "    # arange creates an array of the player ids ([1, 2, 3, 4, 5, 6], etc.)\n",
    "    # tile repeats the array k/num_cards times, each time on a new row (since we passed k as a row argument, 1 as col argument)\n",
    "    # We transpose the result to match the card array shape\n",
    "    player_ids = np.tile(np.arange(1, num_players + 1), (num_cards_per_player, 1)).T\n",
    "    # Flatten arrays to one dimension\n",
    "    flat_cards, flat_ids = cards.flatten(), player_ids.flatten()\n",
    "    # Get the ordered list of indices that would sort flat_cards\n",
    "    order_ids = np.argsort(flat_cards)\n",
    "    # Compute differences between consecutively ordered cards\n",
    "    gap_cards = np.diff(flat_cards[order_ids])\n",
    "    # Compute gap in ids as well so we can see if the gap is between players with the same id\n",
    "    gap_ids = np.diff(flat_ids[order_ids])\n",
    "    # Set the gap to 0 when it is within the same player\n",
    "    # Element wise multiplication of gap_cards with an array of indicators for whether the gap is between cards of the same player\n",
    "    gap_unique = gap_cards * (gap_ids != 0)\n",
    "    # Return maximum gap between players\n",
    "    return np.max(gap_unique)"
   ]
  },
  {
   "cell_type": "code",
   "execution_count": 14,
   "id": "0fe3748d",
   "metadata": {},
   "outputs": [
    {
     "name": "stdout",
     "output_type": "stream",
     "text": [
      "[[50 75 78]\n",
      " [15 21 46]\n",
      " [14 39 77]\n",
      " [63 70 96]\n",
      " [19 26 33]]\n",
      "18\n"
     ]
    }
   ],
   "source": [
    "# Testing the function on a known result\n",
    "test_cards = np.array([[50, 75, 78], [15, 21, 46], [14, 39, 77], [63, 70, 96], [19, 26, 33]])\n",
    "print(test_cards)\n",
    "# Should be 18\n",
    "print(get_max_consecutive_gap_between_players(test_cards))"
   ]
  },
  {
   "cell_type": "code",
   "execution_count": 15,
   "id": "70b886f8",
   "metadata": {},
   "outputs": [
    {
     "name": "stdout",
     "output_type": "stream",
     "text": [
      "[[30 90]\n",
      " [ 2 25]]\n",
      "5\n"
     ]
    }
   ],
   "source": [
    "# Test function on a known result\n",
    "# player 1: {30, 90}\n",
    "# player 2: {2, 25}\n",
    "test_cards = np.array([[30, 90], [2, 25]])\n",
    "print(test_cards)\n",
    "# Should be 5\n",
    "print(get_max_consecutive_gap_between_players(test_cards))"
   ]
  },
  {
   "cell_type": "markdown",
   "id": "d16b0bb5-9d21-4b46-99ec-15b385e5214a",
   "metadata": {
    "user_expressions": []
   },
   "source": [
    "How do these compare? "
   ]
  },
  {
   "cell_type": "code",
   "execution_count": 16,
   "id": "6ebd8516",
   "metadata": {},
   "outputs": [],
   "source": [
    "# Compute max gaps under both methods in our original 100 card draws (card_draws)\n",
    "all_cards_max_gaps = [get_max_consecutive_gap(cards) for cards in card_draws]\n",
    "between_players_max_gaps = [get_max_consecutive_gap_between_players(cards) for cards in card_draws]"
   ]
  },
  {
   "cell_type": "code",
   "execution_count": 17,
   "id": "c81c4569",
   "metadata": {},
   "outputs": [
    {
     "name": "stdout",
     "output_type": "stream",
     "text": [
      "16.15\n",
      "15.74\n"
     ]
    }
   ],
   "source": [
    "# Going to check the mean\n",
    "print(np.mean(all_cards_max_gaps))\n",
    "print(np.mean(between_players_max_gaps))"
   ]
  },
  {
   "cell_type": "code",
   "execution_count": 18,
   "id": "eb6f69cd",
   "metadata": {},
   "outputs": [
    {
     "data": {
      "image/png": "[encoded data removed]",
      "text/plain": [
       "<Figure size 640x480 with 1 Axes>"
      ]
     },
     "metadata": {},
     "output_type": "display_data"
    },
    {
     "data": {
      "image/png": "[encoded data removed]",
      "text/plain": [
       "<Figure size 640x480 with 1 Axes>"
      ]
     },
     "metadata": {},
     "output_type": "display_data"
    }
   ],
   "source": [
    "# Plot histogram of distribution of max gaps under each method\n",
    "# Use the same x axis on both plots to make comparison easy\n",
    "\n",
    "plt.hist(all_cards_max_gaps, bins = 100)\n",
    "plt.xticks(range(5, 30))\n",
    "plt.title('All card comparisons')\n",
    "plt.show()\n",
    "\n",
    "plt.hist(between_players_max_gaps, bins = 100)\n",
    "plt.xticks(range(5, 30))\n",
    "plt.title('Comparisons between players')\n",
    "plt.show()\n",
    "\n",
    "\n",
    "# JUST SHOWING SHIFTING DISTRIBUTION"
   ]
  },
  {
   "cell_type": "markdown",
   "id": "05fadc12",
   "metadata": {},
   "source": [
    "Answer: Gaps are slightly larger when we consider all card comparisons, not just those between players, though they are close."
   ]
  },
  {
   "cell_type": "markdown",
   "id": "dd731299",
   "metadata": {},
   "source": [
    "Run simulations for different choices of the number of cards and players and see when the difference between these two is larger.\n",
    "\n",
    "Compute the mean of the two distributions. When is this difference larger? How does this depends of the total number of players `n`?"
   ]
  },
  {
   "cell_type": "code",
   "execution_count": 19,
   "id": "7817dedb",
   "metadata": {},
   "outputs": [],
   "source": [
    "# Lists of N, n, and k to try\n",
    "# - N : Total number of cards\n",
    "# - n : Number of players\n",
    "# - k : Number of cards per player\n",
    "N_to_try = [50, 100, 200]\n",
    "n_to_try = [3, 6, 10]\n",
    "k_to_try = [2, 3, 5]\n",
    "\n",
    "# Empty dataframe to store results\n",
    "# For now, going to store the means\n",
    "import pandas as pd\n",
    "means_df = pd.DataFrame(columns=['N', 'n', 'k', 'All Comparisons Mean', 'Between Player Mean'])\n",
    "\n",
    "# Create list of 100 draws for each combination of N, n, k\n",
    "for N in N_to_try:\n",
    "    for n in n_to_try:\n",
    "        for k in k_to_try:\n",
    "            # Create 100 draws\n",
    "            parameter_draws = [sample_cards(N, n, k) for i in range(100)]\n",
    "            # List of max gaps with an entry for each of the 100 draws\n",
    "            ac_max_gaps = [get_max_consecutive_gap(cards) for cards in parameter_draws]\n",
    "            bp_max_gaps = [get_max_consecutive_gap_between_players(cards) for cards in parameter_draws]\n",
    "            # Compute means\n",
    "            mean_ac = np.mean(ac_max_gaps)\n",
    "            mean_bp = np.mean(bp_max_gaps)\n",
    "            # Add parameters and means to dataframe\n",
    "            means_df = pd.concat([means_df, pd.DataFrame([[N, n, k, mean_ac, mean_bp]], columns=['N', 'n', 'k', 'All Comparisons Mean', 'Between Player Mean'])])"
   ]
  },
  {
   "cell_type": "code",
   "execution_count": 20,
   "id": "b9a3d8e5",
   "metadata": {},
   "outputs": [],
   "source": [
    "# Add difference in means as a column\n",
    "means_df['AC minus BP'] = means_df['All Comparisons Mean'] - means_df['Between Player Mean']"
   ]
  },
  {
   "cell_type": "code",
   "execution_count": 21,
   "id": "608c3240",
   "metadata": {},
   "outputs": [
    {
     "name": "stdout",
     "output_type": "stream",
     "text": [
      "     N   n  k  All Comparisons Mean  Between Player Mean  AC minus BP\n",
      "0   50  10  5                  1.00                 1.00         0.00\n",
      "0   50  10  3                  4.74                 4.67         0.07\n",
      "0   50  10  2                  7.32                 7.23         0.09\n",
      "0  100  10  2                 16.02                15.92         0.10\n",
      "0   50   6  5                  4.68                 4.55         0.13\n",
      "0   50   6  2                 10.34                10.19         0.15\n",
      "0  100   6  2                 21.64                21.46         0.18\n",
      "0  100  10  5                  6.86                 6.66         0.20\n",
      "0  100   6  5                 11.22                11.02         0.20\n",
      "0  200  10  3                 24.70                24.48         0.22\n",
      "0   50   6  3                  8.20                 7.92         0.28\n",
      "0  100  10  3                 11.34                11.05         0.29\n",
      "0  200  10  5                 15.53                15.21         0.32\n",
      "0  100   6  3                 17.07                16.64         0.43\n",
      "0   50   3  3                 12.65                11.89         0.76\n",
      "0  200   6  5                 24.16                23.17         0.99\n",
      "0  200  10  2                 31.95                30.89         1.06\n",
      "0   50   3  5                  9.27                 8.13         1.14\n",
      "0   50   3  2                 16.61                15.35         1.26\n",
      "0  200   6  3                 35.74                34.35         1.39\n",
      "0  200   6  2                 45.62                44.05         1.57\n",
      "0  100   3  5                 19.60                17.59         2.01\n",
      "0  100   3  3                 26.62                24.57         2.05\n",
      "0  100   3  2                 31.68                28.51         3.17\n",
      "0  200   3  3                 53.61                49.24         4.37\n",
      "0  200   3  5                 39.29                34.06         5.23\n",
      "0  200   3  2                 64.26                57.40         6.86\n"
     ]
    }
   ],
   "source": [
    "# Print dataframe. Sort by AC minus BP\n",
    "print(means_df.sort_values(by='AC minus BP'))"
   ]
  },
  {
   "cell_type": "code",
   "execution_count": 22,
   "id": "e54ff325",
   "metadata": {},
   "outputs": [
    {
     "name": "stdout",
     "output_type": "stream",
     "text": [
      "[[ 2  3 11 22 35]\n",
      " [ 4 14 16 23 28]\n",
      " [12 18 19 40 50]\n",
      " [ 9 13 26 30 33]\n",
      " [15 20 25 27 48]\n",
      " [ 5  6 44 45 47]\n",
      " [ 1 31 38 41 49]\n",
      " [ 7 17 29 37 42]\n",
      " [10 21 24 34 39]\n",
      " [ 8 32 36 43 46]]\n",
      "1\n"
     ]
    }
   ],
   "source": [
    "# PROBLEM - for N = 50, n = 10, k = 5, why is the between player mean 1? \n",
    "# Though all the cards are in play, it seems like at least some comparisons would be ruled out...\n",
    "\n",
    "# NOTE - not a problem. when all cards are in play, the max gap between players should always be 1.\n",
    "# This is because we are computing the gaps, based on the order statistics, first (all 1). \n",
    "# Then we are throwing out those gaps that are not between players. The max of what remains is 1.\n",
    "\n",
    "# Try to test\n",
    "test_draw = sample_cards(50, 10, 5)\n",
    "print(test_draw)\n",
    "print(get_max_consecutive_gap_between_players(test_draw))"
   ]
  },
  {
   "cell_type": "code",
   "execution_count": 23,
   "id": "695a8b6e",
   "metadata": {},
   "outputs": [
    {
     "name": "stdout",
     "output_type": "stream",
     "text": [
      "     N   n  k  All Comparisons Mean  Between Player Mean  AC minus BP\n",
      "0   50  10  2                  7.32                 7.23         0.09\n",
      "0   50   6  2                 10.34                10.19         0.15\n",
      "0   50   3  2                 16.61                15.35         1.26\n",
      "0   50  10  3                  4.74                 4.67         0.07\n",
      "0   50   6  3                  8.20                 7.92         0.28\n",
      "0   50   3  3                 12.65                11.89         0.76\n",
      "0   50  10  5                  1.00                 1.00         0.00\n",
      "0   50   6  5                  4.68                 4.55         0.13\n",
      "0   50   3  5                  9.27                 8.13         1.14\n",
      "0  100  10  2                 16.02                15.92         0.10\n",
      "0  100   6  2                 21.64                21.46         0.18\n",
      "0  100   3  2                 31.68                28.51         3.17\n",
      "0  100  10  3                 11.34                11.05         0.29\n",
      "0  100   6  3                 17.07                16.64         0.43\n",
      "0  100   3  3                 26.62                24.57         2.05\n",
      "0  100  10  5                  6.86                 6.66         0.20\n",
      "0  100   6  5                 11.22                11.02         0.20\n",
      "0  100   3  5                 19.60                17.59         2.01\n",
      "0  200  10  2                 31.95                30.89         1.06\n",
      "0  200   6  2                 45.62                44.05         1.57\n",
      "0  200   3  2                 64.26                57.40         6.86\n",
      "0  200  10  3                 24.70                24.48         0.22\n",
      "0  200   6  3                 35.74                34.35         1.39\n",
      "0  200   3  3                 53.61                49.24         4.37\n",
      "0  200  10  5                 15.53                15.21         0.32\n",
      "0  200   6  5                 24.16                23.17         0.99\n",
      "0  200   3  5                 39.29                34.06         5.23\n"
     ]
    }
   ],
   "source": [
    "# Sort by N and k to see impact of n\n",
    "print(means_df.sort_values(by=['N', 'k', 'AC minus BP']))"
   ]
  },
  {
   "cell_type": "markdown",
   "id": "ff4856c3",
   "metadata": {},
   "source": [
    "We can see that the difference in mean maximum gaps tends to be largest when number of players `n` is low. When there are few players, limiting to gaps in between players has a large effect, as many more pairings of cards are not allowed when calculating the max."
   ]
  },
  {
   "cell_type": "markdown",
   "id": "c14b7f5b-23b7-4a73-b67b-8d4433fae9e2",
   "metadata": {
    "user_expressions": []
   },
   "source": [
    "### 3. Deriving distributions\n",
    "\n",
    "For this section, we are going to use the random sampling generating process from _The Mind_ to investigate and find some familiar distributions."
   ]
  },
  {
   "cell_type": "markdown",
   "id": "366396c5-7a5f-461c-a86e-0a5b528e3791",
   "metadata": {
    "user_expressions": []
   },
   "source": [
    "### 3.1. Binomial Distribution \n",
    "\n",
    "Can you think about any way of deriving the binomial distribution? Based on the output of one single game (function `sample_game()`), try to derive something that has Binomial distribution for certain parameter $p$. Run multiple simulations to see this and compare the obtained empirical distribution with the distribution of the binomial distribution (check `numpy.random.binomial` and `scipy.stats.binom`). "
   ]
  },
  {
   "cell_type": "markdown",
   "id": "7f18484b",
   "metadata": {},
   "source": [
    "If we modify our draws of cards for the game to be with replacement, the number of cards above `N/2` will be distributed binomial. The binomial parameter `n` is the number of cards in play (`n*k` for our card game sampling). A card is above `N/2` with probability `p = 1/2`."
   ]
  },
  {
   "cell_type": "code",
   "execution_count": 24,
   "id": "34da5242",
   "metadata": {},
   "outputs": [],
   "source": [
    "# Here I modify the card sampling to be with replacement\n",
    "def sample_cards_w_replacement(N, n, k):\n",
    "    \"\"\"\n",
    "    Generates a simulated sample of how the cards are shuffled among players. \n",
    "    \n",
    "    Arguments: \n",
    "        - N : Total number of cards\n",
    "        - n : Number of players\n",
    "        - k : Number of cards per player\n",
    "        \n",
    "    Returns: \n",
    "        - 2D numpy array where each row represent each player and each column their card in ascending order. \n",
    "    \"\"\"\n",
    "    \n",
    "    assert n * k <= N, \"There are not enough cards for all the players!\"\n",
    "    \n",
    "    _cards = np.random.choice(a=np.arange(1, N+1), size=n*k, replace=True)\n",
    "    _cards = _cards.reshape(n,k)\n",
    "    _cards.sort(axis=1)\n",
    "    return _cards"
   ]
  },
  {
   "cell_type": "code",
   "execution_count": 25,
   "id": "0b42a0be",
   "metadata": {},
   "outputs": [],
   "source": [
    "# Vector to store number of cards over N/2\n",
    "game_num_cards_over = []\n",
    "# Run 100 new games\n",
    "for game in range(100):\n",
    "    # Sample with replacement!\n",
    "    new_game = sample_cards_w_replacement(100, 6, 3)\n",
    "    # Count cards over N/2\n",
    "    num_cards_over_N_over_2 = len([card for card in new_game.flatten() if card > (100 / 2)])\n",
    "    # Append to list\n",
    "    game_num_cards_over.append(num_cards_over_N_over_2)"
   ]
  },
  {
   "cell_type": "code",
   "execution_count": 26,
   "id": "2a7d1bb2",
   "metadata": {},
   "outputs": [
    {
     "data": {
      "image/png": "[encoded data removed]",
      "text/plain": [
       "<Figure size 640x480 with 1 Axes>"
      ]
     },
     "metadata": {},
     "output_type": "display_data"
    }
   ],
   "source": [
    "# Plot distribution\n",
    "plt.hist(game_num_cards_over, bins = 100)\n",
    "plt.xticks(range(0, 19))\n",
    "plt.show()"
   ]
  },
  {
   "cell_type": "code",
   "execution_count": 27,
   "id": "e6e09c8b",
   "metadata": {},
   "outputs": [
    {
     "data": {
      "image/png": "[encoded data removed]",
      "text/plain": [
       "<Figure size 640x480 with 1 Axes>"
      ]
     },
     "metadata": {},
     "output_type": "display_data"
    }
   ],
   "source": [
    "# Numpy distribution to compare to\n",
    "actual_bin = np.random.binomial(n = 18, p = 0.5, size = 100)\n",
    "# Plot distribution\n",
    "plt.hist(actual_bin, bins = 100)\n",
    "plt.xticks(range(0, 19))\n",
    "plt.show()"
   ]
  },
  {
   "cell_type": "code",
   "execution_count": 28,
   "id": "e1533d63",
   "metadata": {},
   "outputs": [
    {
     "data": {
      "image/png": "[encoded data removed]",
      "text/plain": [
       "<Figure size 640x480 with 1 Axes>"
      ]
     },
     "metadata": {},
     "output_type": "display_data"
    }
   ],
   "source": [
    "# Scipy distribution to compare to\n",
    "# I couldn't get actual draws to work (maybe this is deprecated since the docs seem to reference numpy)\n",
    "# But we can still plot the pmf\n",
    "import scipy\n",
    "#actual_bin = scipy.stats.binom(n=18, p=0.5, size=100)\n",
    "# Plot distribution\n",
    "#plt.hist(actual_bin, bins = 100)\n",
    "#plt.xticks(range(0, 19))\n",
    "x = range(0, 19)\n",
    "pmf = scipy.stats.binom.pmf(x, 18, 0.5)\n",
    "plt.plot(x,pmf)\n",
    "plt.xticks(range(0, 19))\n",
    "plt.show()"
   ]
  },
  {
   "cell_type": "markdown",
   "id": "4fd361e5-2c9c-4c78-9987-d73833be1f19",
   "metadata": {
    "user_expressions": []
   },
   "source": [
    "### 3.2. Beta Distribution\n",
    "\n",
    "The [order statistics](https://en.wikipedia.org/wiki/Order_statistic) of the uniform distribution follow a Beta distribution. While here we are not exactly sampling real numbers in $[0,1]$ following the uniform distribution, you can imagine that sampling one single number without repetition from $\\{ 1, 2, 3, \\ldots, N \\}$ is not very different...\n",
    "\n",
    "Compare the distribution of the lowest number in the sample (Part 1) with a [Beta distribution](https://en.wikipedia.org/wiki/Beta_distribution) with adequate choices of parameters. In order to do this, notice that the $k$th order statistics of a sample of $n$ uniformly distributed points in $[0,1]$ is $\\text{Beta}(k, n+1-k)$ (These $n$ and $k$ are not the same as before, you need to pick the right values of these)."
   ]
  },
  {
   "cell_type": "code",
   "execution_count": 29,
   "id": "a323b0ca-7bf6-48c1-a9f1-b87bc08d080c",
   "metadata": {},
   "outputs": [
    {
     "data": {
      "image/png": "[encoded data removed]",
      "text/plain": [
       "<Figure size 640x480 with 1 Axes>"
      ]
     },
     "metadata": {},
     "output_type": "display_data"
    }
   ],
   "source": [
    "# Repeat our plot from part 1 of draw minimums\n",
    "plt.hist(draw_minimums, bins = 100)\n",
    "plt.xticks(range(int(np.min(draw_minimums)), int(np.max(draw_minimums) + 1)))\n",
    "plt.show()"
   ]
  },
  {
   "cell_type": "code",
   "execution_count": 30,
   "id": "6508f4b6",
   "metadata": {},
   "outputs": [
    {
     "data": {
      "image/png": "[encoded data removed]",
      "text/plain": [
       "<Figure size 640x480 with 1 Axes>"
      ]
     },
     "metadata": {},
     "output_type": "display_data"
    }
   ],
   "source": [
    "# SWITCH TO DENSITY\n",
    "\n",
    "# We are looking for the 1st order statistic (1st smallest value), so in the beta k = 1\n",
    "beta_k = 1\n",
    "# In part 1 our sample was of size n*k = 18, so in the beta n = 18\n",
    "beta_n = 18\n",
    "# Numpy distribution to compare to\n",
    "actual_beta = np.random.beta(a = beta_k, b = beta_n + 1 - beta_k, size = 100)\n",
    "# Plot distribution\n",
    "plt.hist(actual_beta, bins = 100)\n",
    "plt.show()"
   ]
  },
  {
   "cell_type": "markdown",
   "id": "5bc7456e-e4f1-48af-92ef-cbe4177f9871",
   "metadata": {
    "user_expressions": []
   },
   "source": [
    "### 3.3. Exponential Distribution\n",
    "\n",
    "If we call $U_1$ the minimum number in the sample (Part 1), then make an histogram with the distribution of the transformed random variable given by \n",
    "$$\n",
    "X = - \\ln \\left( 1 - \\frac{U_1}{N} \\right)\n",
    "$$\n",
    "and compare this with the distribution of an exponential random variable with parameter $nk$, the total number of cards in the game. "
   ]
  },
  {
   "cell_type": "code",
   "execution_count": 31,
   "id": "103113a0",
   "metadata": {},
   "outputs": [
    {
     "data": {
      "image/png": "[encoded data removed]",
      "text/plain": [
       "<Figure size 640x480 with 1 Axes>"
      ]
     },
     "metadata": {},
     "output_type": "display_data"
    }
   ],
   "source": [
    "# For 100 draws, use min number in the sample to calculate transformed variable X\n",
    "# N = 100\n",
    "X_vals = [- np.log(1 - (sample_min / 100)) for sample_min in draw_minimums]\n",
    "\n",
    "# Plot distribution\n",
    "plt.hist(X_vals, bins = 100)\n",
    "plt.show()"
   ]
  },
  {
   "cell_type": "code",
   "execution_count": 32,
   "id": "abe974d1",
   "metadata": {},
   "outputs": [
    {
     "data": {
      "image/png": "[encoded data removed]",
      "text/plain": [
       "<Figure size 640x480 with 1 Axes>"
      ]
     },
     "metadata": {},
     "output_type": "display_data"
    }
   ],
   "source": [
    "# SWITCH TO DENSITY\n",
    "\n",
    "# Plot 100 exponential draws with parameter n*k (6*3 = 18 in our initial game)\n",
    "actual_expo = np.random.exponential(scale = 6*3, size = 100)\n",
    "# Plot distribution\n",
    "plt.hist(actual_expo, bins = 100)\n",
    "plt.show()"
   ]
  },
  {
   "cell_type": "markdown",
   "id": "0ad19b6e-5603-4b66-b379-6b79f5aaedf6",
   "metadata": {
    "user_expressions": []
   },
   "source": [
    "### 4. What happens when $n * k << N$?\n",
    "\n",
    "Some of the distributions we saw in previous sections are just approximate. Study what happens when we increase the number of cards. Try to understand how the cases of sampling with and without replacement compare as $n * k << N$. What do you expect to see in these cases? When will the difference between the two sampling strategies lead to similar or different results?"
   ]
  },
  {
   "cell_type": "markdown",
   "id": "188dffc9",
   "metadata": {},
   "source": [
    "We expect to see convergence of sampling with and without replacement when $n * k << N$. When N is large removing a number from the potential outcomes for a draw when you sample without replacement does not have much of an impact on overall probabilities. Here I keep `n*k` fixed and increase `N`."
   ]
  },
  {
   "cell_type": "code",
   "execution_count": 33,
   "id": "51994000",
   "metadata": {},
   "outputs": [
    {
     "name": "stdout",
     "output_type": "stream",
     "text": [
      "N is 20\n",
      "without replacement\n"
     ]
    },
    {
     "data": {
      "image/png": "[encoded data removed]",
      "text/plain": [
       "<Figure size 640x480 with 1 Axes>"
      ]
     },
     "metadata": {},
     "output_type": "display_data"
    },
    {
     "name": "stdout",
     "output_type": "stream",
     "text": [
      "with replacement\n"
     ]
    },
    {
     "data": {
      "image/png": "[encoded data removed]",
      "text/plain": [
       "<Figure size 640x480 with 1 Axes>"
      ]
     },
     "metadata": {},
     "output_type": "display_data"
    },
    {
     "name": "stdout",
     "output_type": "stream",
     "text": [
      "N is 50\n",
      "without replacement\n"
     ]
    },
    {
     "data": {
      "image/png": "[encoded data removed]",
      "text/plain": [
       "<Figure size 640x480 with 1 Axes>"
      ]
     },
     "metadata": {},
     "output_type": "display_data"
    },
    {
     "name": "stdout",
     "output_type": "stream",
     "text": [
      "with replacement\n"
     ]
    },
    {
     "data": {
      "image/png": "[encoded data removed]",
      "text/plain": [
       "<Figure size 640x480 with 1 Axes>"
      ]
     },
     "metadata": {},
     "output_type": "display_data"
    },
    {
     "name": "stdout",
     "output_type": "stream",
     "text": [
      "N is 100\n",
      "without replacement\n"
     ]
    },
    {
     "data": {
      "image/png": "[encoded data removed]",
      "text/plain": [
       "<Figure size 640x480 with 1 Axes>"
      ]
     },
     "metadata": {},
     "output_type": "display_data"
    },
    {
     "name": "stdout",
     "output_type": "stream",
     "text": [
      "with replacement\n"
     ]
    },
    {
     "data": {
      "image/png": "[encoded data removed]",
      "text/plain": [
       "<Figure size 640x480 with 1 Axes>"
      ]
     },
     "metadata": {},
     "output_type": "display_data"
    },
    {
     "name": "stdout",
     "output_type": "stream",
     "text": [
      "N is 500\n",
      "without replacement\n"
     ]
    },
    {
     "data": {
      "image/png": "[encoded data removed]",
      "text/plain": [
       "<Figure size 640x480 with 1 Axes>"
      ]
     },
     "metadata": {},
     "output_type": "display_data"
    },
    {
     "name": "stdout",
     "output_type": "stream",
     "text": [
      "with replacement\n"
     ]
    },
    {
     "data": {
      "image/png": "[encoded data removed]",
      "text/plain": [
       "<Figure size 640x480 with 1 Axes>"
      ]
     },
     "metadata": {},
     "output_type": "display_data"
    },
    {
     "name": "stdout",
     "output_type": "stream",
     "text": [
      "N is 1000\n",
      "without replacement\n"
     ]
    },
    {
     "data": {
      "image/png": "[encoded data removed]",
      "text/plain": [
       "<Figure size 640x480 with 1 Axes>"
      ]
     },
     "metadata": {},
     "output_type": "display_data"
    },
    {
     "name": "stdout",
     "output_type": "stream",
     "text": [
      "with replacement\n"
     ]
    },
    {
     "data": {
      "image/png": "[encoded data removed]",
      "text/plain": [
       "<Figure size 640x480 with 1 Axes>"
      ]
     },
     "metadata": {},
     "output_type": "display_data"
    }
   ],
   "source": [
    "growing_N = [20, 50, 100, 500, 1000]\n",
    "# INCREASE AS NEEDED TO SHOW THEY ARE THE SAME\n",
    "\n",
    "# Overlay histograms of cards from draws without and with replacement\n",
    "for N in growing_N:\n",
    "    draw_without_replacement = sample_cards(N, 6, 3)\n",
    "    draw_with_replacement = sample_cards_w_replacement(N, 6, 3)\n",
    "    print(\"N is \" + str(N))\n",
    "    print('without replacement')\n",
    "    plt.hist(draw_without_replacement.flatten(), bins = 100)\n",
    "    plt.show()\n",
    "    print('with replacement')\n",
    "    plt.hist(draw_with_replacement.flatten(), bins = 100)\n",
    "    plt.show()\n",
    "\n",
    "# Potentially need means? Or some other summary statistic? Can't just plot results and necessarily expect it to work out..."
   ]
  },
  {
   "cell_type": "markdown",
   "id": "d944ef54-38c2-46dc-a74f-2383625f9021",
   "metadata": {
    "user_expressions": []
   },
   "source": [
    "### Contribution statement\n",
    "\n",
    "Please include a list of the students you worked with during this project (including yourself). Include both names and GitHub usernames of the people you collaborated with. Maximum of three persons per group. \n",
    "- Member No1: Isaac Liu (ijyliu)\n",
    "- Member No2: \n",
    "- Member No3:"
   ]
  }
 ],
 "metadata": {
  "kernelspec": {
   "display_name": "Python 3 (ipykernel)",
   "language": "python",
   "name": "python3"
  },
  "language_info": {
   "codemirror_mode": {
    "name": "ipython",
    "version": 3
   },
   "file_extension": ".py",
   "mimetype": "text/x-python",
   "name": "python",
   "nbconvert_exporter": "python",
   "pygments_lexer": "ipython3",
   "version": "3.11.4"
  }
 },
 "nbformat": 4,
 "nbformat_minor": 5
}
