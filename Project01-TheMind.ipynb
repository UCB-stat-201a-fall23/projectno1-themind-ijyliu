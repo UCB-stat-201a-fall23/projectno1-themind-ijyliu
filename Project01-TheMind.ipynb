{
 "cells": [
  {
   "cell_type": "markdown",
   "id": "4f2e3179-b4ae-4243-92eb-ed8d86df7c10",
   "metadata": {
    "user_expressions": []
   },
   "source": [
    "## Project No1 - The Mind\n",
    "\n",
    "Refer to the `README.md` for further information about how to play the game and the objectives for this first project. \n",
    "\n",
    "When writing code, we recommend you to be as modular as possible. For example, if you are running multiple experiments for different choices of parameters, it may be convenient to write a function that does one experiment and then make multiple calls to the same function. Follow the _do not repeat yourself_ rule when writing code! "
   ]
  },
  {
   "cell_type": "code",
   "execution_count": 41,
   "id": "130e891e-23be-4df7-8209-9c95c8ec6852",
   "metadata": {},
   "outputs": [],
   "source": [
    "import numpy as np\n",
    "import matplotlib.pyplot as plt\n",
    "from scipy import stats\n",
    "import matplotlib.patches as mpatches\n",
    "import pandas as pd"
   ]
  },
  {
   "cell_type": "code",
   "execution_count": 42,
   "id": "f6b1a276",
   "metadata": {},
   "outputs": [],
   "source": [
    "# Set seed for replicability\n",
    "import random\n",
    "random.seed(1234)"
   ]
  },
  {
   "cell_type": "markdown",
   "id": "d44bf2d2-6100-47ca-a6d3-55911388bc7e",
   "metadata": {
    "user_expressions": []
   },
   "source": [
    "Let's start by creating a function that generates one sample of the game. Feel free to change this code as you find it suitable, for example by changing how the sampling is created or if you want to sample cards with replacement (this could be useful for the last questions)."
   ]
  },
  {
   "cell_type": "code",
   "execution_count": 43,
   "id": "e4c2b253-1621-459a-ba5a-a76d6f46a64b",
   "metadata": {},
   "outputs": [],
   "source": [
    "def sample_cards(N, n, k):\n",
    "    \"\"\"\n",
    "    Generates a simulated sample of how the cards are shuffled among players. \n",
    "    \n",
    "    Arguments: \n",
    "        - N : Total number of cards\n",
    "        - n : Number of players\n",
    "        - k : Number of cards per player\n",
    "        \n",
    "    Returns: \n",
    "        - 2D numpy array where each row represent each player and each column their card in ascending order. \n",
    "    \"\"\"\n",
    "    \n",
    "    assert n * k <= N, \"There are not enough cards for all the players!\"\n",
    "    \n",
    "    _cards = np.random.choice(a=np.arange(1, N+1), size=n*k, replace=False)\n",
    "    _cards = _cards.reshape(n,k)\n",
    "    _cards.sort(axis=1)\n",
    "    return _cards"
   ]
  },
  {
   "cell_type": "markdown",
   "id": "efee53b7-0463-4c51-b106-e5d26fdc5a7e",
   "metadata": {
    "user_expressions": []
   },
   "source": [
    "Now we can just generate how cards are distributed among players by simply making a call to this function with the desired parameters. "
   ]
  },
  {
   "cell_type": "code",
   "execution_count": 44,
   "id": "1331d9b0-e485-4417-8c7d-4ce407c6e693",
   "metadata": {},
   "outputs": [
    {
     "data": {
      "text/plain": [
       "array([[28, 39, 72],\n",
       "       [23, 59, 74],\n",
       "       [19, 55, 86],\n",
       "       [14, 29, 54],\n",
       "       [30, 46, 51],\n",
       "       [82, 98, 99]])"
      ]
     },
     "execution_count": 44,
     "metadata": {},
     "output_type": "execute_result"
    }
   ],
   "source": [
    "cards = sample_cards(100, 6, 3)\n",
    "cards"
   ]
  },
  {
   "cell_type": "markdown",
   "id": "2f7cfb3b-b3bc-4064-92a4-35e96df2847d",
   "metadata": {
    "user_expressions": []
   },
   "source": [
    "and access the cards of each player with "
   ]
  },
  {
   "cell_type": "code",
   "execution_count": 45,
   "id": "36f4998e-61e0-4acd-b292-b447a0d6a8ed",
   "metadata": {},
   "outputs": [
    {
     "data": {
      "text/plain": [
       "(array([28, 39, 72]), array([23, 59, 74]))"
      ]
     },
     "execution_count": 45,
     "metadata": {},
     "output_type": "execute_result"
    }
   ],
   "source": [
    "player0 = cards[0,:]\n",
    "player1 = cards[1,:]\n",
    "player0, player1"
   ]
  },
  {
   "cell_type": "markdown",
   "id": "08d9de1a-3dc6-49ba-b08c-dba034839906",
   "metadata": {
    "user_expressions": []
   },
   "source": [
    "The lowest card in the game is"
   ]
  },
  {
   "cell_type": "code",
   "execution_count": 46,
   "id": "a68f743d",
   "metadata": {},
   "outputs": [
    {
     "data": {
      "text/plain": [
       "14"
      ]
     },
     "execution_count": 46,
     "metadata": {},
     "output_type": "execute_result"
    }
   ],
   "source": [
    "np.min(cards)"
   ]
  },
  {
   "cell_type": "markdown",
   "id": "68f581ae",
   "metadata": {},
   "source": [
    "This function creates a sequence of values from start (1) to stop (5) minus 1. "
   ]
  },
  {
   "cell_type": "code",
   "execution_count": 47,
   "id": "2f4766c6-7334-4d24-a0b5-20e5bfd44a63",
   "metadata": {},
   "outputs": [
    {
     "data": {
      "text/plain": [
       "array([1, 2, 3, 4])"
      ]
     },
     "execution_count": 47,
     "metadata": {},
     "output_type": "execute_result"
    }
   ],
   "source": [
    "np.arange(1, 5)"
   ]
  },
  {
   "cell_type": "markdown",
   "id": "755260c8-4ec3-49ed-a783-99629dd51cb8",
   "metadata": {
    "user_expressions": []
   },
   "source": [
    "### 1. What is the distribution of the lowest number? \n",
    "\n",
    "Repeat the sampling of the cards multiple times for the same choice of `N`, `n` and `k` and plot the distribution of the lowest number in the sample. Use an [histogram](https://matplotlib.org/stable/api/_as_gen/matplotlib.pyplot.hist.html) to plot the distribution and set the bins to be the available integer number cards. "
   ]
  },
  {
   "cell_type": "code",
   "execution_count": 48,
   "id": "12fe9c17-000b-472a-8380-915f6dfda5df",
   "metadata": {},
   "outputs": [
    {
     "data": {
      "text/plain": [
       "[array([[71, 80, 83],\n",
       "        [18, 48, 53],\n",
       "        [12, 16, 56],\n",
       "        [17, 24, 64],\n",
       "        [41, 79, 89],\n",
       "        [ 4, 85, 99]]),\n",
       " array([[ 8, 36, 78],\n",
       "        [40, 81, 86],\n",
       "        [42, 89, 97],\n",
       "        [17, 25, 26],\n",
       "        [24, 46, 76],\n",
       "        [ 4,  6, 39]]),\n",
       " array([[67, 78, 97],\n",
       "        [16, 71, 73],\n",
       "        [41, 70, 89],\n",
       "        [27, 30, 42],\n",
       "        [ 8, 56, 77],\n",
       "        [65, 80, 85]]),\n",
       " array([[43, 44, 80],\n",
       "        [56, 83, 94],\n",
       "        [ 8, 25, 37],\n",
       "        [57, 63, 79],\n",
       "        [ 5, 32, 58],\n",
       "        [19, 48, 69]]),\n",
       " array([[ 6, 30, 32],\n",
       "        [ 9, 46, 90],\n",
       "        [49, 78, 82],\n",
       "        [ 8, 50, 59],\n",
       "        [21, 38, 52],\n",
       "        [43, 53, 64]]),\n",
       " array([[49, 69, 77],\n",
       "        [ 5, 20, 99],\n",
       "        [19, 31, 58],\n",
       "        [ 7, 25, 27],\n",
       "        [26, 30, 40],\n",
       "        [ 3, 34, 67]]),\n",
       " array([[59, 66, 77],\n",
       "        [47, 67, 83],\n",
       "        [ 1, 71, 82],\n",
       "        [33, 37, 93],\n",
       "        [ 2, 14, 92],\n",
       "        [12, 20, 39]]),\n",
       " array([[23, 45, 63],\n",
       "        [ 5, 11, 67],\n",
       "        [13, 46, 90],\n",
       "        [ 3, 69, 86],\n",
       "        [18, 33, 39],\n",
       "        [30, 64, 76]]),\n",
       " array([[ 4, 10, 38],\n",
       "        [48, 50, 80],\n",
       "        [ 2,  9, 63],\n",
       "        [18, 40, 86],\n",
       "        [28, 87, 93],\n",
       "        [39, 58, 96]]),\n",
       " array([[26, 29, 79],\n",
       "        [ 4, 23, 42],\n",
       "        [ 8, 16, 40],\n",
       "        [44, 55, 75],\n",
       "        [45, 60, 76],\n",
       "        [70, 84, 99]]),\n",
       " array([[80, 84, 91],\n",
       "        [51, 77, 88],\n",
       "        [37, 42, 62],\n",
       "        [ 3, 20, 93],\n",
       "        [55, 67, 79],\n",
       "        [36, 40, 76]]),\n",
       " array([[ 2,  5, 47],\n",
       "        [ 7, 19, 35],\n",
       "        [49, 74, 76],\n",
       "        [83, 84, 97],\n",
       "        [16, 33, 42],\n",
       "        [10, 17, 20]]),\n",
       " array([[ 4, 11, 63],\n",
       "        [10, 50, 97],\n",
       "        [ 6,  9, 31],\n",
       "        [14, 25, 93],\n",
       "        [19, 27, 39],\n",
       "        [46, 51, 68]]),\n",
       " array([[ 70,  71,  81],\n",
       "        [  1,  31,  62],\n",
       "        [ 25,  59,  77],\n",
       "        [  5,  13,  39],\n",
       "        [ 15,  24, 100],\n",
       "        [ 29,  38,  51]]),\n",
       " array([[ 2,  9, 26],\n",
       "        [ 5, 31, 51],\n",
       "        [34, 40, 97],\n",
       "        [ 1, 54, 87],\n",
       "        [55, 80, 84],\n",
       "        [ 3, 46, 68]]),\n",
       " array([[64, 65, 87],\n",
       "        [ 8, 84, 90],\n",
       "        [37, 46, 56],\n",
       "        [75, 88, 93],\n",
       "        [41, 42, 48],\n",
       "        [24, 36, 91]]),\n",
       " array([[60, 75, 87],\n",
       "        [27, 32, 78],\n",
       "        [24, 54, 55],\n",
       "        [57, 84, 94],\n",
       "        [ 8, 47, 58],\n",
       "        [42, 62, 74]]),\n",
       " array([[33, 65, 69],\n",
       "        [ 1, 12, 96],\n",
       "        [43, 56, 99],\n",
       "        [38, 85, 89],\n",
       "        [37, 52, 82],\n",
       "        [34, 94, 95]]),\n",
       " array([[ 5, 75, 94],\n",
       "        [41, 52, 98],\n",
       "        [51, 54, 67],\n",
       "        [27, 43, 99],\n",
       "        [15, 68, 91],\n",
       "        [32, 34, 49]]),\n",
       " array([[31, 64, 92],\n",
       "        [49, 70, 79],\n",
       "        [15, 74, 76],\n",
       "        [28, 41, 91],\n",
       "        [ 6, 11, 96],\n",
       "        [45, 63, 86]]),\n",
       " array([[ 5, 28, 42],\n",
       "        [ 4, 72, 96],\n",
       "        [19, 29, 32],\n",
       "        [ 1, 43, 81],\n",
       "        [39, 46, 79],\n",
       "        [84, 92, 97]]),\n",
       " array([[33, 45, 54],\n",
       "        [ 9, 21, 27],\n",
       "        [29, 31, 56],\n",
       "        [13, 16, 78],\n",
       "        [ 3, 61, 99],\n",
       "        [ 7, 14, 74]]),\n",
       " array([[18, 26, 76],\n",
       "        [15, 61, 94],\n",
       "        [37, 45, 55],\n",
       "        [ 3, 32, 51],\n",
       "        [ 6, 22, 39],\n",
       "        [33, 60, 91]]),\n",
       " array([[60, 80, 82],\n",
       "        [42, 87, 93],\n",
       "        [81, 84, 92],\n",
       "        [35, 38, 54],\n",
       "        [ 6, 17, 28],\n",
       "        [11, 45, 95]]),\n",
       " array([[27, 41, 44],\n",
       "        [30, 80, 89],\n",
       "        [ 5, 24, 95],\n",
       "        [18, 19, 93],\n",
       "        [ 3, 13, 98],\n",
       "        [64, 69, 92]]),\n",
       " array([[16, 24, 72],\n",
       "        [ 4, 11, 48],\n",
       "        [10, 35, 45],\n",
       "        [13, 42, 97],\n",
       "        [32, 81, 95],\n",
       "        [26, 55, 70]]),\n",
       " array([[ 6, 80, 82],\n",
       "        [33, 38, 70],\n",
       "        [10, 46, 92],\n",
       "        [ 1, 61, 94],\n",
       "        [47, 51, 90],\n",
       "        [17, 19, 93]]),\n",
       " array([[58, 86, 95],\n",
       "        [ 2, 42, 55],\n",
       "        [24, 87, 98],\n",
       "        [14, 15, 50],\n",
       "        [20, 63, 78],\n",
       "        [51, 54, 71]]),\n",
       " array([[ 3, 42, 94],\n",
       "        [38, 48, 95],\n",
       "        [22, 47, 83],\n",
       "        [ 6, 37, 39],\n",
       "        [ 2, 35, 99],\n",
       "        [26, 36, 92]]),\n",
       " array([[24, 25, 69],\n",
       "        [17, 57, 64],\n",
       "        [30, 78, 94],\n",
       "        [66, 73, 76],\n",
       "        [ 5,  6, 29],\n",
       "        [14, 28, 32]]),\n",
       " array([[ 75,  86,  94],\n",
       "        [  4,  42,  72],\n",
       "        [ 16,  32,  60],\n",
       "        [ 27,  49,  65],\n",
       "        [ 53,  73, 100],\n",
       "        [  9,  14,  58]]),\n",
       " array([[11, 21, 92],\n",
       "        [20, 31, 94],\n",
       "        [57, 74, 84],\n",
       "        [35, 50, 83],\n",
       "        [33, 89, 96],\n",
       "        [52, 86, 88]]),\n",
       " array([[46, 73, 77],\n",
       "        [18, 54, 94],\n",
       "        [22, 31, 56],\n",
       "        [ 9, 17, 36],\n",
       "        [ 8, 25, 52],\n",
       "        [78, 98, 99]]),\n",
       " array([[ 1, 11, 20],\n",
       "        [ 4, 44, 86],\n",
       "        [10, 37, 93],\n",
       "        [60, 72, 89],\n",
       "        [62, 81, 95],\n",
       "        [46, 51, 90]]),\n",
       " array([[ 1,  4, 38],\n",
       "        [21, 95, 97],\n",
       "        [28, 44, 50],\n",
       "        [19, 64, 69],\n",
       "        [24, 66, 84],\n",
       "        [12, 33, 51]]),\n",
       " array([[67, 77, 99],\n",
       "        [26, 38, 75],\n",
       "        [21, 41, 94],\n",
       "        [25, 79, 84],\n",
       "        [74, 78, 85],\n",
       "        [34, 60, 71]]),\n",
       " array([[12, 24, 67],\n",
       "        [10, 76, 85],\n",
       "        [65, 71, 94],\n",
       "        [ 4,  6, 25],\n",
       "        [33, 47, 56],\n",
       "        [23, 72, 99]]),\n",
       " array([[ 2, 65, 66],\n",
       "        [19, 46, 52],\n",
       "        [30, 51, 95],\n",
       "        [ 4, 50, 90],\n",
       "        [13, 70, 73],\n",
       "        [80, 84, 98]]),\n",
       " array([[40, 73, 80],\n",
       "        [14, 89, 97],\n",
       "        [15, 20, 74],\n",
       "        [ 5, 11, 62],\n",
       "        [28, 38, 75],\n",
       "        [13, 24, 68]]),\n",
       " array([[ 5, 12, 67],\n",
       "        [ 1,  7, 52],\n",
       "        [30, 86, 92],\n",
       "        [15, 64, 81],\n",
       "        [21, 46, 78],\n",
       "        [17, 68, 96]]),\n",
       " array([[19, 55, 85],\n",
       "        [ 2, 23, 41],\n",
       "        [ 8, 63, 74],\n",
       "        [26, 29, 64],\n",
       "        [ 1, 16, 18],\n",
       "        [39, 42, 99]]),\n",
       " array([[ 3, 57, 91],\n",
       "        [ 5, 16, 58],\n",
       "        [15, 25, 86],\n",
       "        [62, 81, 99],\n",
       "        [40, 44, 61],\n",
       "        [31, 79, 82]]),\n",
       " array([[15, 29, 61],\n",
       "        [17, 25, 70],\n",
       "        [62, 73, 88],\n",
       "        [37, 40, 86],\n",
       "        [ 2,  9, 22],\n",
       "        [ 3, 53, 97]]),\n",
       " array([[ 5, 40, 67],\n",
       "        [44, 87, 89],\n",
       "        [18, 29, 73],\n",
       "        [ 7, 12, 57],\n",
       "        [20, 42, 45],\n",
       "        [11, 31, 51]]),\n",
       " array([[ 1, 19, 34],\n",
       "        [48, 57, 88],\n",
       "        [44, 50, 52],\n",
       "        [32, 86, 99],\n",
       "        [69, 72, 95],\n",
       "        [51, 55, 77]]),\n",
       " array([[  3,  13,  37],\n",
       "        [ 21,  62,  95],\n",
       "        [ 18,  88, 100],\n",
       "        [  8,  48,  73],\n",
       "        [ 23,  55,  66],\n",
       "        [ 61,  94,  97]]),\n",
       " array([[11, 21, 38],\n",
       "        [63, 65, 95],\n",
       "        [ 1, 20, 32],\n",
       "        [22, 33, 49],\n",
       "        [19, 34, 69],\n",
       "        [ 4, 60, 83]]),\n",
       " array([[32, 54, 74],\n",
       "        [56, 70, 94],\n",
       "        [18, 35, 50],\n",
       "        [28, 64, 93],\n",
       "        [34, 47, 80],\n",
       "        [27, 55, 62]]),\n",
       " array([[10, 26, 68],\n",
       "        [64, 87, 89],\n",
       "        [41, 50, 77],\n",
       "        [24, 48, 59],\n",
       "        [60, 67, 98],\n",
       "        [33, 46, 93]]),\n",
       " array([[50, 61, 67],\n",
       "        [23, 54, 98],\n",
       "        [12, 78, 99],\n",
       "        [ 5, 36, 73],\n",
       "        [13, 18, 25],\n",
       "        [ 2, 44, 45]]),\n",
       " array([[51, 58, 95],\n",
       "        [19, 59, 91],\n",
       "        [ 6, 29, 77],\n",
       "        [17, 32, 36],\n",
       "        [10, 82, 92],\n",
       "        [ 2, 55, 81]]),\n",
       " array([[39, 46, 47],\n",
       "        [17, 19, 58],\n",
       "        [20, 25, 75],\n",
       "        [14, 16, 94],\n",
       "        [33, 84, 93],\n",
       "        [29, 36, 57]]),\n",
       " array([[45, 68, 95],\n",
       "        [12, 14, 61],\n",
       "        [70, 80, 82],\n",
       "        [ 2, 26, 32],\n",
       "        [ 4, 66, 86],\n",
       "        [37, 93, 98]]),\n",
       " array([[ 18,  19,  87],\n",
       "        [ 22,  36,  64],\n",
       "        [ 34,  88, 100],\n",
       "        [ 15,  76,  95],\n",
       "        [ 23,  44,  77],\n",
       "        [ 11,  55,  82]]),\n",
       " array([[ 6, 26, 32],\n",
       "        [37, 62, 71],\n",
       "        [ 5, 38, 86],\n",
       "        [55, 78, 92],\n",
       "        [33, 53, 61],\n",
       "        [ 4, 30, 68]]),\n",
       " array([[20, 26, 69],\n",
       "        [ 6, 12, 54],\n",
       "        [44, 56, 81],\n",
       "        [18, 66, 90],\n",
       "        [ 9, 70, 77],\n",
       "        [39, 95, 99]]),\n",
       " array([[ 21,  63,  94],\n",
       "        [  1,  25,  28],\n",
       "        [  9,  10,  67],\n",
       "        [ 13,  22,  46],\n",
       "        [ 71,  79, 100],\n",
       "        [ 17,  19,  53]]),\n",
       " array([[11, 67, 82],\n",
       "        [ 1, 35, 83],\n",
       "        [24, 30, 37],\n",
       "        [84, 86, 89],\n",
       "        [42, 65, 95],\n",
       "        [ 2,  7, 76]]),\n",
       " array([[10, 59, 80],\n",
       "        [33, 74, 85],\n",
       "        [13, 64, 76],\n",
       "        [24, 71, 72],\n",
       "        [ 6, 25, 26],\n",
       "        [42, 78, 94]]),\n",
       " array([[77, 88, 99],\n",
       "        [32, 71, 95],\n",
       "        [ 5, 61, 92],\n",
       "        [55, 66, 98],\n",
       "        [20, 22, 86],\n",
       "        [41, 81, 85]]),\n",
       " array([[ 4,  5, 87],\n",
       "        [63, 68, 85],\n",
       "        [33, 34, 77],\n",
       "        [23, 56, 61],\n",
       "        [40, 57, 76],\n",
       "        [17, 54, 90]]),\n",
       " array([[12, 18, 97],\n",
       "        [24, 27, 77],\n",
       "        [17, 64, 89],\n",
       "        [21, 63, 73],\n",
       "        [37, 43, 87],\n",
       "        [11, 47, 66]]),\n",
       " array([[ 24,  29,  32],\n",
       "        [ 10,  33,  36],\n",
       "        [ 12,  19,  82],\n",
       "        [ 42,  57,  90],\n",
       "        [ 26,  39, 100],\n",
       "        [ 16,  55,  80]]),\n",
       " array([[ 21,  35,  39],\n",
       "        [ 38,  46,  66],\n",
       "        [  2,  67,  99],\n",
       "        [ 19,  69,  95],\n",
       "        [  1,  90, 100],\n",
       "        [ 42,  76,  92]]),\n",
       " array([[45, 47, 98],\n",
       "        [ 1,  8, 81],\n",
       "        [24, 69, 70],\n",
       "        [28, 65, 66],\n",
       "        [12, 52, 73],\n",
       "        [ 4,  5, 96]]),\n",
       " array([[16, 23, 84],\n",
       "        [24, 57, 87],\n",
       "        [46, 51, 99],\n",
       "        [ 8, 13, 65],\n",
       "        [ 3, 75, 81],\n",
       "        [ 4, 22, 83]]),\n",
       " array([[57, 80, 86],\n",
       "        [26, 62, 87],\n",
       "        [35, 69, 74],\n",
       "        [88, 96, 98],\n",
       "        [ 8, 17, 47],\n",
       "        [ 5, 36, 71]]),\n",
       " array([[ 7, 43, 82],\n",
       "        [24, 36, 79],\n",
       "        [26, 66, 78],\n",
       "        [68, 70, 94],\n",
       "        [ 6, 75, 84],\n",
       "        [ 9, 35, 58]]),\n",
       " array([[75, 80, 94],\n",
       "        [30, 36, 82],\n",
       "        [12, 29, 56],\n",
       "        [58, 59, 86],\n",
       "        [ 4, 23, 81],\n",
       "        [13, 38, 74]]),\n",
       " array([[48, 79, 93],\n",
       "        [24, 72, 87],\n",
       "        [27, 37, 40],\n",
       "        [13, 46, 73],\n",
       "        [ 1,  2, 19],\n",
       "        [65, 84, 91]]),\n",
       " array([[ 1, 36, 85],\n",
       "        [11, 67, 70],\n",
       "        [ 7, 31, 33],\n",
       "        [41, 87, 88],\n",
       "        [57, 68, 77],\n",
       "        [52, 80, 83]]),\n",
       " array([[ 7, 46, 67],\n",
       "        [36, 77, 79],\n",
       "        [33, 37, 95],\n",
       "        [48, 61, 65],\n",
       "        [63, 69, 72],\n",
       "        [13, 42, 59]]),\n",
       " array([[17, 63, 66],\n",
       "        [ 6, 60, 88],\n",
       "        [10, 12, 34],\n",
       "        [11, 15, 83],\n",
       "        [14, 53, 58],\n",
       "        [35, 64, 67]]),\n",
       " array([[20, 63, 70],\n",
       "        [71, 78, 88],\n",
       "        [ 2, 15, 37],\n",
       "        [18, 59, 68],\n",
       "        [22, 41, 73],\n",
       "        [ 8, 69, 86]]),\n",
       " array([[20, 49, 96],\n",
       "        [12, 29, 82],\n",
       "        [43, 51, 68],\n",
       "        [27, 39, 64],\n",
       "        [40, 71, 84],\n",
       "        [ 2, 85, 90]]),\n",
       " array([[ 3, 16, 56],\n",
       "        [39, 52, 82],\n",
       "        [45, 79, 87],\n",
       "        [35, 38, 76],\n",
       "        [11, 20, 50],\n",
       "        [12, 58, 64]]),\n",
       " array([[ 5, 28, 87],\n",
       "        [20, 72, 83],\n",
       "        [ 7, 14, 16],\n",
       "        [50, 70, 88],\n",
       "        [34, 35, 97],\n",
       "        [40, 67, 86]]),\n",
       " array([[  7,  23,  39],\n",
       "        [ 42,  52, 100],\n",
       "        [ 30,  67,  72],\n",
       "        [ 38,  64,  65],\n",
       "        [ 12,  45,  73],\n",
       "        [ 11,  13,  20]]),\n",
       " array([[23, 29, 88],\n",
       "        [ 7, 19, 91],\n",
       "        [17, 61, 74],\n",
       "        [39, 68, 95],\n",
       "        [12, 26, 35],\n",
       "        [18, 33, 65]]),\n",
       " array([[15, 64, 90],\n",
       "        [ 7, 91, 93],\n",
       "        [26, 81, 85],\n",
       "        [ 3, 25, 31],\n",
       "        [ 5, 13, 40],\n",
       "        [10, 14, 95]]),\n",
       " array([[ 34,  75,  81],\n",
       "        [ 11,  52, 100],\n",
       "        [ 17,  31,  97],\n",
       "        [ 63,  69,  86],\n",
       "        [ 55,  78,  89],\n",
       "        [ 22,  54,  56]]),\n",
       " array([[49, 66, 99],\n",
       "        [30, 41, 84],\n",
       "        [35, 82, 98],\n",
       "        [42, 61, 88],\n",
       "        [29, 71, 90],\n",
       "        [32, 51, 57]]),\n",
       " array([[22, 64, 73],\n",
       "        [18, 51, 77],\n",
       "        [ 4,  9, 33],\n",
       "        [26, 62, 69],\n",
       "        [ 2, 80, 98],\n",
       "        [35, 68, 95]]),\n",
       " array([[73, 90, 99],\n",
       "        [28, 46, 82],\n",
       "        [69, 74, 96],\n",
       "        [18, 48, 61],\n",
       "        [20, 81, 95],\n",
       "        [26, 60, 77]]),\n",
       " array([[  5,   8,  79],\n",
       "        [ 14,  41,  82],\n",
       "        [  9,  33,  69],\n",
       "        [ 12,  16,  85],\n",
       "        [  7,  88, 100],\n",
       "        [ 34,  74,  92]]),\n",
       " array([[ 7, 29, 69],\n",
       "        [48, 72, 77],\n",
       "        [43, 56, 98],\n",
       "        [50, 54, 95],\n",
       "        [10, 16, 30],\n",
       "        [38, 41, 68]]),\n",
       " array([[16, 58, 97],\n",
       "        [22, 78, 99],\n",
       "        [51, 52, 54],\n",
       "        [44, 46, 88],\n",
       "        [ 5, 38, 72],\n",
       "        [31, 33, 60]]),\n",
       " array([[31, 60, 99],\n",
       "        [ 9, 86, 87],\n",
       "        [47, 72, 79],\n",
       "        [16, 21, 55],\n",
       "        [10, 76, 81],\n",
       "        [36, 48, 91]]),\n",
       " array([[  2,  24,  83],\n",
       "        [ 30,  34,  49],\n",
       "        [ 44,  75,  99],\n",
       "        [  3,  36,  57],\n",
       "        [ 26,  32, 100],\n",
       "        [  8,  41,  43]]),\n",
       " array([[19, 25, 70],\n",
       "        [ 3, 40, 63],\n",
       "        [67, 75, 82],\n",
       "        [ 2, 33, 73],\n",
       "        [48, 77, 81],\n",
       "        [35, 50, 96]]),\n",
       " array([[ 9, 28, 87],\n",
       "        [ 4,  6, 77],\n",
       "        [37, 68, 99],\n",
       "        [36, 46, 93],\n",
       "        [ 7, 58, 69],\n",
       "        [15, 73, 91]]),\n",
       " array([[19, 55, 75],\n",
       "        [53, 95, 97],\n",
       "        [16, 45, 58],\n",
       "        [ 2, 41, 44],\n",
       "        [ 1, 21, 83],\n",
       "        [ 5, 46, 77]]),\n",
       " array([[ 45,  61,  69],\n",
       "        [ 18,  37,  52],\n",
       "        [ 46,  66,  84],\n",
       "        [ 12,  59,  98],\n",
       "        [ 67,  97, 100],\n",
       "        [ 21,  47,  83]]),\n",
       " array([[33, 38, 43],\n",
       "        [78, 81, 90],\n",
       "        [27, 48, 49],\n",
       "        [ 1, 13, 47],\n",
       "        [46, 83, 97],\n",
       "        [31, 87, 94]]),\n",
       " array([[19, 49, 52],\n",
       "        [53, 63, 73],\n",
       "        [69, 70, 79],\n",
       "        [40, 85, 87],\n",
       "        [37, 62, 89],\n",
       "        [14, 22, 92]]),\n",
       " array([[  2,  20,  21],\n",
       "        [ 54,  85, 100],\n",
       "        [ 24,  55,  74],\n",
       "        [ 45,  82,  89],\n",
       "        [ 36,  46,  93],\n",
       "        [  9,  12,  57]]),\n",
       " array([[15, 54, 92],\n",
       "        [ 9, 14, 18],\n",
       "        [53, 82, 96],\n",
       "        [ 8, 55, 66],\n",
       "        [41, 69, 74],\n",
       "        [22, 23, 94]]),\n",
       " array([[12, 17, 43],\n",
       "        [19, 35, 70],\n",
       "        [37, 44, 52],\n",
       "        [54, 76, 87],\n",
       "        [59, 61, 77],\n",
       "        [ 2, 53, 74]]),\n",
       " array([[18, 70, 83],\n",
       "        [41, 43, 45],\n",
       "        [40, 52, 66],\n",
       "        [ 9, 15, 62],\n",
       "        [25, 26, 47],\n",
       "        [33, 34, 54]]),\n",
       " array([[31, 56, 63],\n",
       "        [ 6, 64, 75],\n",
       "        [21, 45, 60],\n",
       "        [49, 54, 79],\n",
       "        [20, 27, 53],\n",
       "        [71, 87, 94]])]"
      ]
     },
     "execution_count": 48,
     "metadata": {},
     "output_type": "execute_result"
    }
   ],
   "source": [
    "# Make 100 draws\n",
    "card_draws = [sample_cards(100, 6, 3) for i in range(100)]\n",
    "card_draws"
   ]
  },
  {
   "cell_type": "code",
   "execution_count": 49,
   "id": "279964cb",
   "metadata": {},
   "outputs": [
    {
     "data": {
      "text/plain": [
       "[4,\n",
       " 4,\n",
       " 8,\n",
       " 5,\n",
       " 6,\n",
       " 3,\n",
       " 1,\n",
       " 3,\n",
       " 2,\n",
       " 4,\n",
       " 3,\n",
       " 2,\n",
       " 4,\n",
       " 1,\n",
       " 1,\n",
       " 8,\n",
       " 8,\n",
       " 1,\n",
       " 5,\n",
       " 6,\n",
       " 1,\n",
       " 3,\n",
       " 3,\n",
       " 6,\n",
       " 3,\n",
       " 4,\n",
       " 1,\n",
       " 2,\n",
       " 2,\n",
       " 5,\n",
       " 4,\n",
       " 11,\n",
       " 8,\n",
       " 1,\n",
       " 1,\n",
       " 21,\n",
       " 4,\n",
       " 2,\n",
       " 5,\n",
       " 1,\n",
       " 1,\n",
       " 3,\n",
       " 2,\n",
       " 5,\n",
       " 1,\n",
       " 3,\n",
       " 1,\n",
       " 18,\n",
       " 10,\n",
       " 2,\n",
       " 2,\n",
       " 14,\n",
       " 2,\n",
       " 11,\n",
       " 4,\n",
       " 6,\n",
       " 1,\n",
       " 1,\n",
       " 6,\n",
       " 5,\n",
       " 4,\n",
       " 11,\n",
       " 10,\n",
       " 1,\n",
       " 1,\n",
       " 3,\n",
       " 5,\n",
       " 6,\n",
       " 4,\n",
       " 1,\n",
       " 1,\n",
       " 7,\n",
       " 6,\n",
       " 2,\n",
       " 2,\n",
       " 3,\n",
       " 5,\n",
       " 7,\n",
       " 7,\n",
       " 3,\n",
       " 11,\n",
       " 29,\n",
       " 2,\n",
       " 18,\n",
       " 5,\n",
       " 7,\n",
       " 5,\n",
       " 9,\n",
       " 2,\n",
       " 2,\n",
       " 4,\n",
       " 1,\n",
       " 12,\n",
       " 1,\n",
       " 14,\n",
       " 2,\n",
       " 8,\n",
       " 2,\n",
       " 9,\n",
       " 6]"
      ]
     },
     "execution_count": 49,
     "metadata": {},
     "output_type": "execute_result"
    }
   ],
   "source": [
    "# Get minimum for each draw. Loop over draws, take array minimum\n",
    "draw_minimums = [np.min(a) for a in card_draws]\n",
    "draw_minimums"
   ]
  },
  {
   "cell_type": "code",
   "execution_count": 50,
   "id": "ce26cc59",
   "metadata": {},
   "outputs": [
    {
     "data": {
      "image/png": "[encoded data removed]",
      "text/plain": [
       "<Figure size 640x480 with 1 Axes>"
      ]
     },
     "metadata": {},
     "output_type": "display_data"
    }
   ],
   "source": [
    "# Histogram, N bins for N cards available\n",
    "plt.hist(draw_minimums, bins = 100)\n",
    "# X ticks from 0 to largest value of the min\n",
    "plt.xticks(range(int(np.min(draw_minimums)), int(np.max(draw_minimums) + 1)))\n",
    "# Reduce size of X ticks\n",
    "plt.xticks(size = 8)\n",
    "# Y ticks from 0 to the number of values of the most frequent value\n",
    "plt.yticks(range(0, len([i for i in list(draw_minimums) if i == stats.mode(draw_minimums)[0]]) + 1))\n",
    "# Show plot\n",
    "plt.show()"
   ]
  },
  {
   "cell_type": "markdown",
   "id": "b9b63c3c-5cd0-4090-910b-06ded98c5497",
   "metadata": {
    "user_expressions": []
   },
   "source": [
    "### 2. What is the distribution of the largest gap?\n",
    "\n",
    "For each simulation, find the largest distance between consecutive numbers in the game. To make this easy, let us first consider the largest gap among the pool of **all** the cards among players (if the largest gap is happening in the hand of one single player, that is ok). This will make the analysis more simple. "
   ]
  },
  {
   "cell_type": "code",
   "execution_count": 51,
   "id": "e5f8d4c0",
   "metadata": {},
   "outputs": [],
   "source": [
    "# Function: Given a game/draw of cards, compute the maximum gap between consecutive cards\n",
    "def get_max_consecutive_gap(cards):\n",
    "    # Flatten array to one dimension\n",
    "    flat_cards = cards.flatten()\n",
    "    # Get the ordered list of indices that would sort flat_cards\n",
    "    order_ids = np.argsort(flat_cards)\n",
    "    # Compute differences between between consecutively ordered cards\n",
    "    gap_cards = np.diff(flat_cards[order_ids])\n",
    "    # Return maximum gap between between ordered cards\n",
    "    return np.max(gap_cards)"
   ]
  },
  {
   "cell_type": "code",
   "execution_count": 52,
   "id": "11dde92c",
   "metadata": {},
   "outputs": [
    {
     "name": "stdout",
     "output_type": "stream",
     "text": [
      "[[30 90]\n",
      " [ 2 25]]\n",
      "60\n"
     ]
    }
   ],
   "source": [
    "# Test function on a known result\n",
    "# player 1: {30, 90}\n",
    "# player 2: {2, 25}\n",
    "test_cards = np.array([[30, 90], [2, 25]])\n",
    "print(test_cards)\n",
    "# Should be 60\n",
    "print(get_max_consecutive_gap(test_cards))"
   ]
  },
  {
   "cell_type": "markdown",
   "id": "6c0d3228-b157-4b86-a28a-1e5dc629a17c",
   "metadata": {
    "user_expressions": []
   },
   "source": [
    "Repeat the experiment but now compute the largest gap between cards of different players. This is the gap that actually matters for the purposes of the game: what is the maximum number of numbers that a player will have to wait before playing the next card?"
   ]
  },
  {
   "cell_type": "code",
   "execution_count": 53,
   "id": "80c70a7d",
   "metadata": {},
   "outputs": [],
   "source": [
    "# Function: Given a game/draw of cards, compute the maximum gap between consecutive cards from different players\n",
    "# Similar to the earlier function, except that we now keep track of and test differences in player ids, keeping non-zero ones\n",
    "def get_max_consecutive_gap_between_players(cards):\n",
    "    # Number of players (n) is the number of rows\n",
    "    num_players = np.shape(cards)[0]\n",
    "    # Number of cards per player (k) is the number of columns\n",
    "    num_cards_per_player = np.shape(cards)[1]\n",
    "    # Create a template with the same shape as the cards, but with player id numbers for tracking after sorting\n",
    "    # arange creates an array of the player ids ([1, 2, 3, 4, 5, 6], etc.)\n",
    "    # tile repeats the array k/num_cards times, each time on a new row (since we passed k as a row argument, 1 as col argument)\n",
    "    # We transpose the result to match the card array shape\n",
    "    player_ids = np.tile(np.arange(1, num_players + 1), (num_cards_per_player, 1)).T\n",
    "    # Flatten arrays to one dimension\n",
    "    flat_cards, flat_ids = cards.flatten(), player_ids.flatten()\n",
    "    # Get the ordered list of indices that would sort flat_cards\n",
    "    order_ids = np.argsort(flat_cards)\n",
    "    # Compute differences between consecutively ordered cards\n",
    "    gap_cards = np.diff(flat_cards[order_ids])\n",
    "    # Compute gap in ids as well so we can see if the gap is between players with the same id\n",
    "    gap_ids = np.diff(flat_ids[order_ids])\n",
    "    # Set the gap to 0 when it is within the same player\n",
    "    # Element wise multiplication of gap_cards with an array of indicators for whether the gap is between cards of the same player\n",
    "    gap_unique = gap_cards * (gap_ids != 0)\n",
    "    # Return maximum gap between players\n",
    "    return np.max(gap_unique)"
   ]
  },
  {
   "cell_type": "code",
   "execution_count": 54,
   "id": "0fe3748d",
   "metadata": {},
   "outputs": [
    {
     "name": "stdout",
     "output_type": "stream",
     "text": [
      "[[50 75 78]\n",
      " [15 21 46]\n",
      " [14 39 77]\n",
      " [63 70 96]\n",
      " [19 26 33]]\n",
      "18\n"
     ]
    }
   ],
   "source": [
    "# Testing the function on a known result\n",
    "test_cards = np.array([[50, 75, 78], [15, 21, 46], [14, 39, 77], [63, 70, 96], [19, 26, 33]])\n",
    "print(test_cards)\n",
    "# Should be 18\n",
    "print(get_max_consecutive_gap_between_players(test_cards))"
   ]
  },
  {
   "cell_type": "code",
   "execution_count": 55,
   "id": "70b886f8",
   "metadata": {},
   "outputs": [
    {
     "name": "stdout",
     "output_type": "stream",
     "text": [
      "[[30 90]\n",
      " [ 2 25]]\n",
      "5\n"
     ]
    }
   ],
   "source": [
    "# Test function on a known result\n",
    "# player 1: {30, 90}\n",
    "# player 2: {2, 25}\n",
    "test_cards = np.array([[30, 90], [2, 25]])\n",
    "print(test_cards)\n",
    "# Should be 5\n",
    "print(get_max_consecutive_gap_between_players(test_cards))"
   ]
  },
  {
   "cell_type": "markdown",
   "id": "d16b0bb5-9d21-4b46-99ec-15b385e5214a",
   "metadata": {
    "user_expressions": []
   },
   "source": [
    "How do these compare? "
   ]
  },
  {
   "cell_type": "code",
   "execution_count": 56,
   "id": "6ebd8516",
   "metadata": {},
   "outputs": [],
   "source": [
    "# Compute max gaps under both methods in our original 100 card draws (card_draws)\n",
    "all_cards_max_gaps = [get_max_consecutive_gap(cards) for cards in card_draws]\n",
    "between_players_max_gaps = [get_max_consecutive_gap_between_players(cards) for cards in card_draws]"
   ]
  },
  {
   "cell_type": "code",
   "execution_count": 57,
   "id": "c81c4569",
   "metadata": {},
   "outputs": [
    {
     "name": "stdout",
     "output_type": "stream",
     "text": [
      "mean max gap considering all cards:\n",
      "17.55\n",
      "mean max gap considering only between players:\n",
      "16.47\n"
     ]
    }
   ],
   "source": [
    "# Going to check the mean\n",
    "print('mean max gap considering all cards:')\n",
    "print(np.mean(all_cards_max_gaps))\n",
    "print('mean max gap considering only between players:')\n",
    "print(np.mean(between_players_max_gaps))"
   ]
  },
  {
   "cell_type": "code",
   "execution_count": 58,
   "id": "1871b923",
   "metadata": {},
   "outputs": [
    {
     "data": {
      "image/png": "[encoded data removed]",
      "text/plain": [
       "<Figure size 640x480 with 1 Axes>"
      ]
     },
     "metadata": {},
     "output_type": "display_data"
    }
   ],
   "source": [
    "# Overlaid histogram\n",
    "plt.hist(all_cards_max_gaps, bins = 100, alpha = 0.5, label = 'All cards')\n",
    "plt.hist(between_players_max_gaps, bins = 100, alpha = 0.5, label = 'Between players')\n",
    "# X ticks standardized for both all cards and between players runs\n",
    "plt.xticks(range(0, 41))\n",
    "# Reduce size of X ticks\n",
    "plt.xticks(size = 6)\n",
    "# Y ticks from 0 to the number of values of the most frequent value\n",
    "plt.yticks(range(0, np.max([len([i for i in list(all_cards_max_gaps) if i == stats.mode(all_cards_max_gaps)[0]]), len([i for i in list(all_cards_max_gaps) if i == stats.mode(all_cards_max_gaps)[0]])]) + 1))\n",
    "plt.title('Draw/Game Largest Gap')\n",
    "plt.legend(loc = 'upper right')\n",
    "plt.show()"
   ]
  },
  {
   "cell_type": "markdown",
   "id": "05fadc12",
   "metadata": {},
   "source": [
    "Answer: Gaps are slightly larger when we consider all card comparisons, not just those between players, though they are close."
   ]
  },
  {
   "cell_type": "markdown",
   "id": "dd731299",
   "metadata": {},
   "source": [
    "Run simulations for different choices of the number of cards and players and see when the difference between these two is larger.\n",
    "\n",
    "Compute the mean of the two distributions. When is this difference larger? How does this depends of the total number of players `n`?"
   ]
  },
  {
   "cell_type": "code",
   "execution_count": 59,
   "id": "7817dedb",
   "metadata": {},
   "outputs": [],
   "source": [
    "# Lists of N, n, and k to try\n",
    "# - N : Total number of cards\n",
    "# - n : Number of players\n",
    "# - k : Number of cards per player\n",
    "N_to_try = [50, 100, 200]\n",
    "n_to_try = [3, 6, 10]\n",
    "k_to_try = [2, 3, 5]\n",
    "\n",
    "# Empty dataframe to store results\n",
    "# For now, going to store the means\n",
    "means_df = pd.DataFrame(columns=['N', 'n', 'k', 'All Comparisons Mean', 'Between Player Mean'])\n",
    "\n",
    "# Create list of 100 draws for each combination of N, n, k\n",
    "for N in N_to_try:\n",
    "    for n in n_to_try:\n",
    "        for k in k_to_try:\n",
    "            # Create 100 draws\n",
    "            parameter_draws = [sample_cards(N, n, k) for i in range(100)]\n",
    "            # List of max gaps with an entry for each of the 100 draws\n",
    "            ac_max_gaps = [get_max_consecutive_gap(cards) for cards in parameter_draws]\n",
    "            bp_max_gaps = [get_max_consecutive_gap_between_players(cards) for cards in parameter_draws]\n",
    "            # Compute means\n",
    "            mean_ac = np.mean(ac_max_gaps)\n",
    "            mean_bp = np.mean(bp_max_gaps)\n",
    "            # Add parameters and means to dataframe\n",
    "            means_df = pd.concat([means_df, pd.DataFrame([[N, n, k, mean_ac, mean_bp]], columns=['N', 'n', 'k', 'All Comparisons Mean', 'Between Player Mean'])])\n",
    "\n",
    "# Add difference in means as a column\n",
    "means_df['AC minus BP'] = means_df['All Comparisons Mean'] - means_df['Between Player Mean']"
   ]
  },
  {
   "cell_type": "code",
   "execution_count": 80,
   "id": "695a8b6e",
   "metadata": {},
   "outputs": [
    {
     "data": {
      "text/html": [
       "<div>\n",
       "<style scoped>\n",
       "    .dataframe tbody tr th:only-of-type {\n",
       "        vertical-align: middle;\n",
       "    }\n",
       "\n",
       "    .dataframe tbody tr th {\n",
       "        vertical-align: top;\n",
       "    }\n",
       "\n",
       "    .dataframe thead th {\n",
       "        text-align: right;\n",
       "    }\n",
       "</style>\n",
       "<table border=\"1\" class=\"dataframe\">\n",
       "  <thead>\n",
       "    <tr style=\"text-align: right;\">\n",
       "      <th></th>\n",
       "      <th>N</th>\n",
       "      <th>n</th>\n",
       "      <th>k</th>\n",
       "      <th>All Comparisons Mean</th>\n",
       "      <th>Between Player Mean</th>\n",
       "      <th>AC minus BP</th>\n",
       "    </tr>\n",
       "  </thead>\n",
       "  <tbody>\n",
       "    <tr>\n",
       "      <th>0</th>\n",
       "      <td>50</td>\n",
       "      <td>3</td>\n",
       "      <td>2</td>\n",
       "      <td>17.01</td>\n",
       "      <td>15.40</td>\n",
       "      <td>1.61</td>\n",
       "    </tr>\n",
       "    <tr>\n",
       "      <th>0</th>\n",
       "      <td>50</td>\n",
       "      <td>6</td>\n",
       "      <td>2</td>\n",
       "      <td>10.47</td>\n",
       "      <td>10.28</td>\n",
       "      <td>0.19</td>\n",
       "    </tr>\n",
       "    <tr>\n",
       "      <th>0</th>\n",
       "      <td>50</td>\n",
       "      <td>10</td>\n",
       "      <td>2</td>\n",
       "      <td>7.41</td>\n",
       "      <td>7.41</td>\n",
       "      <td>0.00</td>\n",
       "    </tr>\n",
       "    <tr>\n",
       "      <th>0</th>\n",
       "      <td>50</td>\n",
       "      <td>3</td>\n",
       "      <td>3</td>\n",
       "      <td>12.86</td>\n",
       "      <td>11.68</td>\n",
       "      <td>1.18</td>\n",
       "    </tr>\n",
       "    <tr>\n",
       "      <th>0</th>\n",
       "      <td>50</td>\n",
       "      <td>6</td>\n",
       "      <td>3</td>\n",
       "      <td>8.09</td>\n",
       "      <td>7.64</td>\n",
       "      <td>0.45</td>\n",
       "    </tr>\n",
       "    <tr>\n",
       "      <th>0</th>\n",
       "      <td>50</td>\n",
       "      <td>10</td>\n",
       "      <td>3</td>\n",
       "      <td>4.58</td>\n",
       "      <td>4.55</td>\n",
       "      <td>0.03</td>\n",
       "    </tr>\n",
       "    <tr>\n",
       "      <th>0</th>\n",
       "      <td>50</td>\n",
       "      <td>3</td>\n",
       "      <td>5</td>\n",
       "      <td>9.05</td>\n",
       "      <td>8.49</td>\n",
       "      <td>0.56</td>\n",
       "    </tr>\n",
       "    <tr>\n",
       "      <th>0</th>\n",
       "      <td>50</td>\n",
       "      <td>6</td>\n",
       "      <td>5</td>\n",
       "      <td>4.89</td>\n",
       "      <td>4.76</td>\n",
       "      <td>0.13</td>\n",
       "    </tr>\n",
       "    <tr>\n",
       "      <th>0</th>\n",
       "      <td>50</td>\n",
       "      <td>10</td>\n",
       "      <td>5</td>\n",
       "      <td>1.00</td>\n",
       "      <td>1.00</td>\n",
       "      <td>0.00</td>\n",
       "    </tr>\n",
       "    <tr>\n",
       "      <th>0</th>\n",
       "      <td>100</td>\n",
       "      <td>3</td>\n",
       "      <td>2</td>\n",
       "      <td>31.33</td>\n",
       "      <td>27.21</td>\n",
       "      <td>4.12</td>\n",
       "    </tr>\n",
       "    <tr>\n",
       "      <th>0</th>\n",
       "      <td>100</td>\n",
       "      <td>6</td>\n",
       "      <td>2</td>\n",
       "      <td>22.81</td>\n",
       "      <td>21.67</td>\n",
       "      <td>1.14</td>\n",
       "    </tr>\n",
       "    <tr>\n",
       "      <th>0</th>\n",
       "      <td>100</td>\n",
       "      <td>10</td>\n",
       "      <td>2</td>\n",
       "      <td>15.40</td>\n",
       "      <td>15.07</td>\n",
       "      <td>0.33</td>\n",
       "    </tr>\n",
       "    <tr>\n",
       "      <th>0</th>\n",
       "      <td>100</td>\n",
       "      <td>3</td>\n",
       "      <td>3</td>\n",
       "      <td>27.60</td>\n",
       "      <td>23.19</td>\n",
       "      <td>4.41</td>\n",
       "    </tr>\n",
       "    <tr>\n",
       "      <th>0</th>\n",
       "      <td>100</td>\n",
       "      <td>6</td>\n",
       "      <td>3</td>\n",
       "      <td>16.48</td>\n",
       "      <td>15.58</td>\n",
       "      <td>0.90</td>\n",
       "    </tr>\n",
       "    <tr>\n",
       "      <th>0</th>\n",
       "      <td>100</td>\n",
       "      <td>10</td>\n",
       "      <td>3</td>\n",
       "      <td>11.44</td>\n",
       "      <td>11.17</td>\n",
       "      <td>0.27</td>\n",
       "    </tr>\n",
       "    <tr>\n",
       "      <th>0</th>\n",
       "      <td>100</td>\n",
       "      <td>3</td>\n",
       "      <td>5</td>\n",
       "      <td>19.54</td>\n",
       "      <td>17.43</td>\n",
       "      <td>2.11</td>\n",
       "    </tr>\n",
       "    <tr>\n",
       "      <th>0</th>\n",
       "      <td>100</td>\n",
       "      <td>6</td>\n",
       "      <td>5</td>\n",
       "      <td>11.42</td>\n",
       "      <td>10.89</td>\n",
       "      <td>0.53</td>\n",
       "    </tr>\n",
       "    <tr>\n",
       "      <th>0</th>\n",
       "      <td>100</td>\n",
       "      <td>10</td>\n",
       "      <td>5</td>\n",
       "      <td>7.02</td>\n",
       "      <td>6.87</td>\n",
       "      <td>0.15</td>\n",
       "    </tr>\n",
       "    <tr>\n",
       "      <th>0</th>\n",
       "      <td>200</td>\n",
       "      <td>3</td>\n",
       "      <td>2</td>\n",
       "      <td>63.75</td>\n",
       "      <td>59.95</td>\n",
       "      <td>3.80</td>\n",
       "    </tr>\n",
       "    <tr>\n",
       "      <th>0</th>\n",
       "      <td>200</td>\n",
       "      <td>6</td>\n",
       "      <td>2</td>\n",
       "      <td>45.48</td>\n",
       "      <td>44.37</td>\n",
       "      <td>1.11</td>\n",
       "    </tr>\n",
       "    <tr>\n",
       "      <th>0</th>\n",
       "      <td>200</td>\n",
       "      <td>10</td>\n",
       "      <td>2</td>\n",
       "      <td>35.47</td>\n",
       "      <td>34.85</td>\n",
       "      <td>0.62</td>\n",
       "    </tr>\n",
       "    <tr>\n",
       "      <th>0</th>\n",
       "      <td>200</td>\n",
       "      <td>3</td>\n",
       "      <td>3</td>\n",
       "      <td>54.40</td>\n",
       "      <td>49.35</td>\n",
       "      <td>5.05</td>\n",
       "    </tr>\n",
       "    <tr>\n",
       "      <th>0</th>\n",
       "      <td>200</td>\n",
       "      <td>6</td>\n",
       "      <td>3</td>\n",
       "      <td>33.97</td>\n",
       "      <td>33.03</td>\n",
       "      <td>0.94</td>\n",
       "    </tr>\n",
       "    <tr>\n",
       "      <th>0</th>\n",
       "      <td>200</td>\n",
       "      <td>10</td>\n",
       "      <td>3</td>\n",
       "      <td>23.77</td>\n",
       "      <td>23.24</td>\n",
       "      <td>0.53</td>\n",
       "    </tr>\n",
       "    <tr>\n",
       "      <th>0</th>\n",
       "      <td>200</td>\n",
       "      <td>3</td>\n",
       "      <td>5</td>\n",
       "      <td>39.79</td>\n",
       "      <td>35.78</td>\n",
       "      <td>4.01</td>\n",
       "    </tr>\n",
       "    <tr>\n",
       "      <th>0</th>\n",
       "      <td>200</td>\n",
       "      <td>6</td>\n",
       "      <td>5</td>\n",
       "      <td>24.42</td>\n",
       "      <td>23.65</td>\n",
       "      <td>0.77</td>\n",
       "    </tr>\n",
       "    <tr>\n",
       "      <th>0</th>\n",
       "      <td>200</td>\n",
       "      <td>10</td>\n",
       "      <td>5</td>\n",
       "      <td>15.77</td>\n",
       "      <td>15.33</td>\n",
       "      <td>0.44</td>\n",
       "    </tr>\n",
       "  </tbody>\n",
       "</table>\n",
       "</div>"
      ],
      "text/plain": [
       "     N   n  k  All Comparisons Mean  Between Player Mean  AC minus BP\n",
       "0   50   3  2                 17.01                15.40         1.61\n",
       "0   50   6  2                 10.47                10.28         0.19\n",
       "0   50  10  2                  7.41                 7.41         0.00\n",
       "0   50   3  3                 12.86                11.68         1.18\n",
       "0   50   6  3                  8.09                 7.64         0.45\n",
       "0   50  10  3                  4.58                 4.55         0.03\n",
       "0   50   3  5                  9.05                 8.49         0.56\n",
       "0   50   6  5                  4.89                 4.76         0.13\n",
       "0   50  10  5                  1.00                 1.00         0.00\n",
       "0  100   3  2                 31.33                27.21         4.12\n",
       "0  100   6  2                 22.81                21.67         1.14\n",
       "0  100  10  2                 15.40                15.07         0.33\n",
       "0  100   3  3                 27.60                23.19         4.41\n",
       "0  100   6  3                 16.48                15.58         0.90\n",
       "0  100  10  3                 11.44                11.17         0.27\n",
       "0  100   3  5                 19.54                17.43         2.11\n",
       "0  100   6  5                 11.42                10.89         0.53\n",
       "0  100  10  5                  7.02                 6.87         0.15\n",
       "0  200   3  2                 63.75                59.95         3.80\n",
       "0  200   6  2                 45.48                44.37         1.11\n",
       "0  200  10  2                 35.47                34.85         0.62\n",
       "0  200   3  3                 54.40                49.35         5.05\n",
       "0  200   6  3                 33.97                33.03         0.94\n",
       "0  200  10  3                 23.77                23.24         0.53\n",
       "0  200   3  5                 39.79                35.78         4.01\n",
       "0  200   6  5                 24.42                23.65         0.77\n",
       "0  200  10  5                 15.77                15.33         0.44"
      ]
     },
     "execution_count": 80,
     "metadata": {},
     "output_type": "execute_result"
    }
   ],
   "source": [
    "# Sort by N, k, then n to see the impact of n\n",
    "means_df.sort_values(by=['N', 'k', 'n'])"
   ]
  },
  {
   "cell_type": "markdown",
   "id": "ff4856c3",
   "metadata": {},
   "source": [
    "We can see that (when holding the other variables constant) the difference in mean maximum gaps is largest when number of players `n` is low. When there are few players, limiting to gaps in between players has a large effect, as many more gaps between cards are not allowed when calculating the max.\n",
    "\n",
    "(Sidenote: The game is deterministic when `N = n*k`. Gaps between consecutive cards are always 1. The maximum gap in all cases, between player or not, is then 1.)"
   ]
  },
  {
   "cell_type": "markdown",
   "id": "c14b7f5b-23b7-4a73-b67b-8d4433fae9e2",
   "metadata": {
    "user_expressions": []
   },
   "source": [
    "### 3. Deriving distributions\n",
    "\n",
    "For this section, we are going to use the random sampling generating process from _The Mind_ to investigate and find some familiar distributions."
   ]
  },
  {
   "cell_type": "markdown",
   "id": "366396c5-7a5f-461c-a86e-0a5b528e3791",
   "metadata": {
    "user_expressions": []
   },
   "source": [
    "### 3.1. Binomial Distribution \n",
    "\n",
    "Can you think about any way of deriving the binomial distribution? Based on the output of one single game (function `sample_game()`), try to derive something that has Binomial distribution for certain parameter $p$. Run multiple simulations to see this and compare the obtained empirical distribution with the distribution of the binomial distribution (check `numpy.random.binomial` and `scipy.stats.binom`). "
   ]
  },
  {
   "cell_type": "markdown",
   "id": "7f18484b",
   "metadata": {},
   "source": [
    "If we modify our draws of cards for the game to be with replacement, the number of cards above `N/2` will be distributed binomial. The binomial parameter `n` is the number of cards in play (`n*k` for our card game sampling). A card is above `N/2` with probability `p = 1/2`."
   ]
  },
  {
   "cell_type": "code",
   "execution_count": 61,
   "id": "34da5242",
   "metadata": {},
   "outputs": [],
   "source": [
    "# Here I modify the card sampling to be with replacement\n",
    "def sample_cards_w_replacement(N, n, k):\n",
    "    \"\"\"\n",
    "    Generates a simulated sample of how the cards are shuffled among players. \n",
    "    \n",
    "    Arguments: \n",
    "        - N : Total number of cards\n",
    "        - n : Number of players\n",
    "        - k : Number of cards per player\n",
    "        \n",
    "    Returns: \n",
    "        - 2D numpy array where each row represent each player and each column their card in ascending order. \n",
    "    \"\"\"\n",
    "    \n",
    "    assert n * k <= N, \"There are not enough cards for all the players!\"\n",
    "    \n",
    "    _cards = np.random.choice(a=np.arange(1, N+1), size=n*k, replace=True)\n",
    "    _cards = _cards.reshape(n,k)\n",
    "    _cards.sort(axis=1)\n",
    "    return _cards"
   ]
  },
  {
   "cell_type": "code",
   "execution_count": 62,
   "id": "0b42a0be",
   "metadata": {},
   "outputs": [],
   "source": [
    "# Vector to store number of cards over N/2\n",
    "game_num_cards_over = []\n",
    "# Run 100 new games\n",
    "for game in range(100):\n",
    "    # Sample with replacement!\n",
    "    new_game = sample_cards_w_replacement(100, 6, 3)\n",
    "    # Count cards over N/2\n",
    "    num_cards_over_N_over_2 = len([card for card in new_game.flatten() if card > (100 / 2)])\n",
    "    # Append to list\n",
    "    game_num_cards_over.append(num_cards_over_N_over_2)"
   ]
  },
  {
   "cell_type": "code",
   "execution_count": 63,
   "id": "ebb2e459",
   "metadata": {},
   "outputs": [
    {
     "data": {
      "image/png": "[encoded data removed]",
      "text/plain": [
       "<Figure size 640x480 with 1 Axes>"
      ]
     },
     "metadata": {},
     "output_type": "display_data"
    }
   ],
   "source": [
    "# Numpy distribution to compare to\n",
    "actual_bin = np.random.binomial(n = 18, p = 0.5, size = 100)\n",
    "# Overlaid histogram\n",
    "plt.hist(game_num_cards_over, bins = 100, alpha = 0.5, label = 'Game Number of Cards Over N/2')\n",
    "plt.hist(actual_bin, bins = 100, alpha = 0.5, label = 'Draws from Binomial Distribution')\n",
    "# X ticks standardized for both all cards and between players runs\n",
    "plt.xticks(range(0, 19))\n",
    "# Y ticks from 0 to the number of values of the most frequent value\n",
    "plt.yticks(range(0, np.max([len([i for i in list(game_num_cards_over) if i == stats.mode(game_num_cards_over)[0]]), len([i for i in list(actual_bin) if i == stats.mode(actual_bin)[0]])]) + 1))\n",
    "plt.title('Draw Counts vs. Binomial Draws')\n",
    "plt.legend(loc = 'upper right')\n",
    "plt.show()"
   ]
  },
  {
   "cell_type": "code",
   "execution_count": 64,
   "id": "5b3a5446",
   "metadata": {},
   "outputs": [
    {
     "data": {
      "image/png": "[encoded data removed]",
      "text/plain": [
       "<Figure size 640x480 with 2 Axes>"
      ]
     },
     "metadata": {},
     "output_type": "display_data"
    }
   ],
   "source": [
    "# Scipy pmf to compare to\n",
    "x = range(0, 19)\n",
    "pmf = stats.binom.pmf(x, 18, 0.5)\n",
    "# Overlaid plot with two axes, appropriate labels and axis titles\n",
    "fig, ax1 = plt.subplots()\n",
    "ax1.hist(game_num_cards_over, bins = 100, color = '#1f77b4', label = 'Draw Cards Over N/2')\n",
    "ax1.set_ylabel('Frequency')\n",
    "ax2 = ax1.twinx()\n",
    "ax2.plot(x, pmf, color = '#ff7f0e', label = 'Binomial Density')\n",
    "ax2.set_ylabel('Probability Density')\n",
    "plt.xticks(range(0, 19))\n",
    "plt.title('Draw Counts vs. Binomial Density')\n",
    "patch_1 = mpatches.Patch(color='#1f77b4', label = 'Draw Counts')\n",
    "patch_2 = mpatches.Patch(color='#ff7f0e', label = 'Binomial Density')\n",
    "plt.legend(handles=[patch_1, patch_2])\n",
    "plt.show()"
   ]
  },
  {
   "cell_type": "markdown",
   "id": "4fd361e5-2c9c-4c78-9987-d73833be1f19",
   "metadata": {
    "user_expressions": []
   },
   "source": [
    "### 3.2. Beta Distribution\n",
    "\n",
    "The [order statistics](https://en.wikipedia.org/wiki/Order_statistic) of the uniform distribution follow a Beta distribution. While here we are not exactly sampling real numbers in $[0,1]$ following the uniform distribution, you can imagine that sampling one single number without repetition from $\\{ 1, 2, 3, \\ldots, N \\}$ is not very different...\n",
    "\n",
    "Compare the distribution of the lowest number in the sample (Part 1) with a [Beta distribution](https://en.wikipedia.org/wiki/Beta_distribution) with adequate choices of parameters. In order to do this, notice that the $k$-th order statistic of a sample of $n$ uniformly distributed points in $[0,1]$ is $\\text{Beta}(k, n+1-k)$ (These $n$ and $k$ are not the same as before, you need to pick the right values of these)."
   ]
  },
  {
   "cell_type": "code",
   "execution_count": 74,
   "id": "a323b0ca-7bf6-48c1-a9f1-b87bc08d080c",
   "metadata": {},
   "outputs": [
    {
     "data": {
      "image/png": "[encoded data removed]",
      "text/plain": [
       "<Figure size 640x480 with 1 Axes>"
      ]
     },
     "metadata": {},
     "output_type": "display_data"
    }
   ],
   "source": [
    "# Repeat plot from part 1\n",
    "# Histogram, N bins for N cards available\n",
    "plt.hist(draw_minimums, bins = 100)\n",
    "# X ticks from 0 to largest value of the min\n",
    "plt.xticks(range(int(np.min(draw_minimums)), int(np.max(draw_minimums) + 1)))\n",
    "# Reduce size of X ticks\n",
    "plt.xticks(size = 8)\n",
    "# Y ticks from 0 to the number of values of the most frequent value\n",
    "plt.yticks(range(0, len([i for i in list(draw_minimums) if i == stats.mode(draw_minimums)[0]]) + 1))\n",
    "# Show plot\n",
    "plt.show()"
   ]
  },
  {
   "cell_type": "code",
   "execution_count": 66,
   "id": "6508f4b6",
   "metadata": {},
   "outputs": [
    {
     "data": {
      "image/png": "[encoded data removed]",
      "text/plain": [
       "<Figure size 640x480 with 1 Axes>"
      ]
     },
     "metadata": {},
     "output_type": "display_data"
    }
   ],
   "source": [
    "# Draws from a beta distribution\n",
    "# We are looking for the 1st order statistic (1st smallest value), so in the beta k = 1\n",
    "beta_k = 1\n",
    "# In part 1 our sample was of size n*k = 18, so in the beta n = 18\n",
    "beta_n = 18\n",
    "# Numpy distribution to compare to\n",
    "actual_beta = np.random.beta(a = beta_k, b = beta_n + 1 - beta_k, size = 100)\n",
    "# Plot distribution\n",
    "plt.hist(actual_beta, bins = 100)\n",
    "plt.show()"
   ]
  },
  {
   "cell_type": "code",
   "execution_count": 78,
   "id": "398fc8a8",
   "metadata": {},
   "outputs": [
    {
     "data": {
      "image/png": "[encoded data removed]",
      "text/plain": [
       "<Figure size 640x480 with 2 Axes>"
      ]
     },
     "metadata": {},
     "output_type": "display_data"
    }
   ],
   "source": [
    "# Scipy pdf to compare to\n",
    "# We are looking for the 1st order statistic (1st smallest value), so in the beta k = 1\n",
    "beta_k = 1\n",
    "# In part 1 our sample was of size n*k = 18, so in the beta n = 18\n",
    "beta_n = 18\n",
    "# X values for the beta pdf\n",
    "x = np.linspace(0.01, 1, 100)\n",
    "pdf = stats.beta.pdf(x, a = beta_k, b = beta_n + 1 - beta_k)\n",
    "# Overlaid plot with two axes, appropriate labels and axis titles\n",
    "fig, ax1 = plt.subplots()\n",
    "# Divide draw_minimums data by 100 to match the scale of the beta pdf (1 to 100 now becomes 0.01 to 1)\n",
    "ax1.hist([min / 100 for min in draw_minimums], bins = 100, color = '#1f77b4')\n",
    "ax1.set_ylabel('Frequency')\n",
    "ax2 = ax1.twinx()\n",
    "ax2.plot(x, pdf, color = '#ff7f0e')\n",
    "ax2.set_ylabel('Probability Density')\n",
    "plt.xticks(np.linspace(0, 1, 11))\n",
    "plt.title('Draw Minimums vs. Beta Density')\n",
    "patch_1 = mpatches.Patch(color='#1f77b4', label = 'Draw Minimum / 100')\n",
    "patch_2 = mpatches.Patch(color='#ff7f0e', label = 'Beta Density')\n",
    "plt.legend(handles=[patch_1, patch_2])\n",
    "plt.show()"
   ]
  },
  {
   "cell_type": "markdown",
   "id": "5bc7456e-e4f1-48af-92ef-cbe4177f9871",
   "metadata": {
    "user_expressions": []
   },
   "source": [
    "### 3.3. Exponential Distribution\n",
    "\n",
    "If we call $U_1$ the minimum number in the sample (Part 1), then make an histogram with the distribution of the transformed random variable given by \n",
    "$$\n",
    "X = - \\ln \\left( 1 - \\frac{U_1}{N} \\right)\n",
    "$$\n",
    "and compare this with the distribution of an exponential random variable with parameter $nk$, the total number of cards in the game. "
   ]
  },
  {
   "cell_type": "code",
   "execution_count": 68,
   "id": "103113a0",
   "metadata": {},
   "outputs": [],
   "source": [
    "# For 100 draws, use min number in the sample to calculate transformed variable X\n",
    "# N = 100\n",
    "X_vals = [- np.log(1 - (sample_min / 100)) for sample_min in draw_minimums]"
   ]
  },
  {
   "cell_type": "code",
   "execution_count": 79,
   "id": "9e2f82dc",
   "metadata": {},
   "outputs": [
    {
     "data": {
      "image/png": "[encoded data removed]",
      "text/plain": [
       "<Figure size 640x480 with 1 Axes>"
      ]
     },
     "metadata": {},
     "output_type": "display_data"
    }
   ],
   "source": [
    "# Plot distribution\n",
    "plt.hist(X_vals, bins = 100)\n",
    "# Y ticks from 0 to the number of values of the most frequent value\n",
    "plt.yticks(range(0, len([i for i in list(X_vals) if i == stats.mode(X_vals)[0]]) + 1))\n",
    "plt.show()"
   ]
  },
  {
   "cell_type": "code",
   "execution_count": 70,
   "id": "abe974d1",
   "metadata": {},
   "outputs": [
    {
     "data": {
      "image/png": "[encoded data removed]",
      "text/plain": [
       "<Figure size 640x480 with 1 Axes>"
      ]
     },
     "metadata": {},
     "output_type": "display_data"
    }
   ],
   "source": [
    "# Plot 100 exponential draws with parameter n*k (6*3 = 18 in our initial game)\n",
    "# We invert the parameter to comply with numpy's implementation\n",
    "actual_expo = np.random.exponential(scale = (1 / (6 * 3)), size = 100)\n",
    "# Plot distribution\n",
    "plt.hist(actual_expo, bins = 100)\n",
    "plt.show()"
   ]
  },
  {
   "cell_type": "code",
   "execution_count": 71,
   "id": "269eb6ba",
   "metadata": {},
   "outputs": [
    {
     "data": {
      "image/png": "[encoded data removed]",
      "text/plain": [
       "<Figure size 640x480 with 2 Axes>"
      ]
     },
     "metadata": {},
     "output_type": "display_data"
    }
   ],
   "source": [
    "# Scipy pdf to compare to\n",
    "# X values for the exponential pdf\n",
    "x = np.linspace(0, 1, 101)\n",
    "# Exponential pdf with parameter n*k (6*3 = 18 in our initial game)\n",
    "# We invert the parameter to comply with scipy's implementation\n",
    "pdf = stats.expon.pdf(x, scale = (1 / (6 * 3)))\n",
    "# Overlaid plot with two axes, appropriate labels and axis titles\n",
    "fig, ax1 = plt.subplots()\n",
    "ax1.hist(X_vals, bins = 100, color = '#1f77b4')\n",
    "ax1.set_ylabel('Frequency')\n",
    "ax2 = ax1.twinx()\n",
    "ax2.plot(x, pdf, color = '#ff7f0e')\n",
    "ax2.set_ylabel('Probability Density')\n",
    "plt.xticks(np.linspace(0, 1, 11))\n",
    "plt.title('Transformed Draw Minimums vs. Exponential Density')\n",
    "patch_1 = mpatches.Patch(color='#1f77b4', label = 'Transformed Draw Minimum')\n",
    "patch_2 = mpatches.Patch(color='#ff7f0e', label = 'Exponential Density')\n",
    "plt.legend(handles=[patch_1, patch_2])\n",
    "plt.show()"
   ]
  },
  {
   "cell_type": "markdown",
   "id": "0ad19b6e-5603-4b66-b379-6b79f5aaedf6",
   "metadata": {
    "user_expressions": []
   },
   "source": [
    "### 4. What happens when $n * k << N$?\n",
    "\n",
    "Some of the distributions we saw in previous sections are just approximate. Study what happens when we increase the number of cards. Try to understand how the cases of sampling with and without replacement compare as $n * k << N$. What do you expect to see in these cases? When will the difference between the two sampling strategies lead to similar or different results?"
   ]
  },
  {
   "cell_type": "markdown",
   "id": "188dffc9",
   "metadata": {},
   "source": [
    "We expect to see convergence of sampling with and without replacement when $n * k << N$. When N is large removing a number from the potential outcomes for a draw when you sample without replacement does not have much of an impact on overall probabilities. Here I keep `n*k` fixed and increase `N`."
   ]
  },
  {
   "cell_type": "code",
   "execution_count": 72,
   "id": "51994000",
   "metadata": {},
   "outputs": [
    {
     "name": "stdout",
     "output_type": "stream",
     "text": [
      "N is 20\n",
      "without replacement\n"
     ]
    },
    {
     "data": {
      "image/png": "[encoded data removed]",
      "text/plain": [
       "<Figure size 640x480 with 1 Axes>"
      ]
     },
     "metadata": {},
     "output_type": "display_data"
    },
    {
     "name": "stdout",
     "output_type": "stream",
     "text": [
      "with replacement\n"
     ]
    },
    {
     "data": {
      "image/png": "[encoded data removed]",
      "text/plain": [
       "<Figure size 640x480 with 1 Axes>"
      ]
     },
     "metadata": {},
     "output_type": "display_data"
    },
    {
     "name": "stdout",
     "output_type": "stream",
     "text": [
      "N is 50\n",
      "without replacement\n"
     ]
    },
    {
     "data": {
      "image/png": "[encoded data removed]",
      "text/plain": [
       "<Figure size 640x480 with 1 Axes>"
      ]
     },
     "metadata": {},
     "output_type": "display_data"
    },
    {
     "name": "stdout",
     "output_type": "stream",
     "text": [
      "with replacement\n"
     ]
    },
    {
     "data": {
      "image/png": "[encoded data removed]",
      "text/plain": [
       "<Figure size 640x480 with 1 Axes>"
      ]
     },
     "metadata": {},
     "output_type": "display_data"
    },
    {
     "name": "stdout",
     "output_type": "stream",
     "text": [
      "N is 100\n",
      "without replacement\n"
     ]
    },
    {
     "data": {
      "image/png": "[encoded data removed]",
      "text/plain": [
       "<Figure size 640x480 with 1 Axes>"
      ]
     },
     "metadata": {},
     "output_type": "display_data"
    },
    {
     "name": "stdout",
     "output_type": "stream",
     "text": [
      "with replacement\n"
     ]
    },
    {
     "data": {
      "image/png": "[encoded data removed]",
      "text/plain": [
       "<Figure size 640x480 with 1 Axes>"
      ]
     },
     "metadata": {},
     "output_type": "display_data"
    },
    {
     "name": "stdout",
     "output_type": "stream",
     "text": [
      "N is 500\n",
      "without replacement\n"
     ]
    },
    {
     "data": {
      "image/png": "[encoded data removed]",
      "text/plain": [
       "<Figure size 640x480 with 1 Axes>"
      ]
     },
     "metadata": {},
     "output_type": "display_data"
    },
    {
     "name": "stdout",
     "output_type": "stream",
     "text": [
      "with replacement\n"
     ]
    },
    {
     "data": {
      "image/png": "[encoded data removed]",
      "text/plain": [
       "<Figure size 640x480 with 1 Axes>"
      ]
     },
     "metadata": {},
     "output_type": "display_data"
    },
    {
     "name": "stdout",
     "output_type": "stream",
     "text": [
      "N is 1000\n",
      "without replacement\n"
     ]
    },
    {
     "data": {
      "image/png": "[encoded data removed]",
      "text/plain": [
       "<Figure size 640x480 with 1 Axes>"
      ]
     },
     "metadata": {},
     "output_type": "display_data"
    },
    {
     "name": "stdout",
     "output_type": "stream",
     "text": [
      "with replacement\n"
     ]
    },
    {
     "data": {
      "image/png": "[encoded data removed]",
      "text/plain": [
       "<Figure size 640x480 with 1 Axes>"
      ]
     },
     "metadata": {},
     "output_type": "display_data"
    }
   ],
   "source": [
    "growing_N = [20, 50, 100, 500, 1000]\n",
    "# INCREASE AS NEEDED TO SHOW THEY ARE THE SAME\n",
    "\n",
    "# Overlay histograms of cards from draws without and with replacement\n",
    "for N in growing_N:\n",
    "    draws_without_replacement_cards = []\n",
    "    draws_with_replacement_cards = []\n",
    "    for _ in range(100):\n",
    "        draws_without_replacement_cards.append(sample_cards(N, 6, 3).flatten())\n",
    "        draws_with_replacement_cards.append(sample_cards_w_replacement(N, 6, 3).flatten())\n",
    "    print(\"N is \" + str(N))\n",
    "    print('without replacement')\n",
    "    plt.hist(draws_without_replacement_cards, bins = 100)\n",
    "    plt.show()\n",
    "    print('with replacement')\n",
    "    plt.hist(draws_with_replacement_cards, bins = 100)\n",
    "    plt.show()\n",
    "\n",
    "# Potentially need means? Or some other summary statistic? Can't just plot results and necessarily expect it to work out..."
   ]
  },
  {
   "cell_type": "code",
   "execution_count": 73,
   "id": "1e2c33cf",
   "metadata": {},
   "outputs": [],
   "source": [
    "# Show for specific distribution\n",
    "\n",
    "# Try for beta distribution"
   ]
  },
  {
   "cell_type": "markdown",
   "id": "d944ef54-38c2-46dc-a74f-2383625f9021",
   "metadata": {
    "user_expressions": []
   },
   "source": [
    "### Contribution statement\n",
    "\n",
    "Please include a list of the students you worked with during this project (including yourself). Include both names and GitHub usernames of the people you collaborated with. Maximum of three persons per group. \n",
    "- Member No1: Isaac Liu (ijyliu)\n",
    "- Member No2: Soren Rajani (SorenRajani)\n",
    "- Member No3:"
   ]
  }
 ],
 "metadata": {
  "kernelspec": {
   "display_name": "Python 3 (ipykernel)",
   "language": "python",
   "name": "python3"
  },
  "language_info": {
   "codemirror_mode": {
    "name": "ipython",
    "version": 3
   },
   "file_extension": ".py",
   "mimetype": "text/x-python",
   "name": "python",
   "nbconvert_exporter": "python",
   "pygments_lexer": "ipython3",
   "version": "3.11.4"
  }
 },
 "nbformat": 4,
 "nbformat_minor": 5
}
