{
 "cells": [
  {
   "cell_type": "markdown",
   "id": "4f2e3179-b4ae-4243-92eb-ed8d86df7c10",
   "metadata": {
    "user_expressions": []
   },
   "source": [
    "## Project No1 - The Mind\n",
    "\n",
    "Refer to the `README.md` for further information about how to play the game and the objectives for this first project. \n",
    "\n",
    "When writing code, we recommend you to be as modular as possible. For example, if you are running multiple experiments for different choices of parameters, it may be convenient to write a function that does one experiment and then make multiple calls to the same function. Follow the _do not repeat yourself_ rule when writing code! "
   ]
  },
  {
   "cell_type": "code",
   "execution_count": 2,
   "id": "130e891e-23be-4df7-8209-9c95c8ec6852",
   "metadata": {},
   "outputs": [],
   "source": [
    "import numpy as np\n",
    "import matplotlib.pyplot as plt"
   ]
  },
  {
   "cell_type": "code",
   "execution_count": 3,
   "id": "f6b1a276",
   "metadata": {},
   "outputs": [],
   "source": [
    "# Set seed for replicability\n",
    "import random\n",
    "random.seed(1234)"
   ]
  },
  {
   "cell_type": "markdown",
   "id": "d44bf2d2-6100-47ca-a6d3-55911388bc7e",
   "metadata": {
    "user_expressions": []
   },
   "source": [
    "Let's start by creating a function that generates one sample of the game. Feel free to change this code as you find it suitable, for example by changing how the sampling is created or if you want to sample cards with replacement (this could be useful for the last questions)."
   ]
  },
  {
   "cell_type": "code",
   "execution_count": 4,
   "id": "e4c2b253-1621-459a-ba5a-a76d6f46a64b",
   "metadata": {},
   "outputs": [],
   "source": [
    "def sample_cards(N, n, k):\n",
    "    \"\"\"\n",
    "    Generates a simulated sample of how the cards are shuffled among players. \n",
    "    \n",
    "    Arguments: \n",
    "        - N : Total number of cards\n",
    "        - n : Number of players\n",
    "        - k : Number of cards per player\n",
    "        \n",
    "    Returns: \n",
    "        - 2D numpy array where each row represent each player and each column their card in ascending order. \n",
    "    \"\"\"\n",
    "    \n",
    "    assert n * k <= N, \"There are not enough cards for all the players!\"\n",
    "    \n",
    "    _cards = np.random.choice(a=np.arange(1, N+1), size=n*k, replace=False)\n",
    "    _cards = _cards.reshape(n,k)\n",
    "    _cards.sort(axis=1)\n",
    "    return _cards"
   ]
  },
  {
   "cell_type": "markdown",
   "id": "efee53b7-0463-4c51-b106-e5d26fdc5a7e",
   "metadata": {
    "user_expressions": []
   },
   "source": [
    "Now we can just generate how cards are distributed among players by simply making a call to this function with the desired parameters. "
   ]
  },
  {
   "cell_type": "code",
   "execution_count": 5,
   "id": "1331d9b0-e485-4417-8c7d-4ce407c6e693",
   "metadata": {},
   "outputs": [
    {
     "data": {
      "text/plain": [
       "array([[ 4, 58, 88],\n",
       "       [10, 64, 80],\n",
       "       [14, 20, 29],\n",
       "       [ 9, 79, 84],\n",
       "       [38, 54, 94],\n",
       "       [11, 43, 95]])"
      ]
     },
     "execution_count": 5,
     "metadata": {},
     "output_type": "execute_result"
    }
   ],
   "source": [
    "cards = sample_cards(100, 6, 3)\n",
    "cards"
   ]
  },
  {
   "cell_type": "markdown",
   "id": "2f7cfb3b-b3bc-4064-92a4-35e96df2847d",
   "metadata": {
    "user_expressions": []
   },
   "source": [
    "and access the cards of each player with "
   ]
  },
  {
   "cell_type": "code",
   "execution_count": 6,
   "id": "36f4998e-61e0-4acd-b292-b447a0d6a8ed",
   "metadata": {},
   "outputs": [
    {
     "data": {
      "text/plain": [
       "(array([ 4, 58, 88]), array([10, 64, 80]))"
      ]
     },
     "execution_count": 6,
     "metadata": {},
     "output_type": "execute_result"
    }
   ],
   "source": [
    "player0 = cards[0,:]\n",
    "player1 = cards[1,:]\n",
    "player0, player1"
   ]
  },
  {
   "cell_type": "markdown",
   "id": "08d9de1a-3dc6-49ba-b08c-dba034839906",
   "metadata": {
    "user_expressions": []
   },
   "source": [
    "The lowest card in the game is"
   ]
  },
  {
   "cell_type": "code",
   "execution_count": 7,
   "id": "a68f743d",
   "metadata": {},
   "outputs": [
    {
     "data": {
      "text/plain": [
       "4"
      ]
     },
     "execution_count": 7,
     "metadata": {},
     "output_type": "execute_result"
    }
   ],
   "source": [
    "np.min(cards)"
   ]
  },
  {
   "cell_type": "markdown",
   "id": "68f581ae",
   "metadata": {},
   "source": [
    "This function creates a sequence of values from start (1) to stop (5) minus 1. "
   ]
  },
  {
   "cell_type": "code",
   "execution_count": 8,
   "id": "2f4766c6-7334-4d24-a0b5-20e5bfd44a63",
   "metadata": {},
   "outputs": [
    {
     "data": {
      "text/plain": [
       "array([1, 2, 3, 4])"
      ]
     },
     "execution_count": 8,
     "metadata": {},
     "output_type": "execute_result"
    }
   ],
   "source": [
    "np.arange(1, 5)"
   ]
  },
  {
   "cell_type": "markdown",
   "id": "755260c8-4ec3-49ed-a783-99629dd51cb8",
   "metadata": {
    "user_expressions": []
   },
   "source": [
    "### 1. What is the distribution of the lowest number? \n",
    "\n",
    "Repeat the sampling of the cards multiple times for the same choice of `N`, `n` and `k` and plot the distribution of the lowest number in the sample. Use an [histogram](https://matplotlib.org/stable/api/_as_gen/matplotlib.pyplot.hist.html) to plot the distribution and set the bins to be the available integer number cards. "
   ]
  },
  {
   "cell_type": "code",
   "execution_count": 9,
   "id": "12fe9c17-000b-472a-8380-915f6dfda5df",
   "metadata": {},
   "outputs": [
    {
     "data": {
      "text/plain": [
       "[array([[49, 84, 97],\n",
       "        [21, 28, 88],\n",
       "        [13, 22, 64],\n",
       "        [53, 76, 87],\n",
       "        [43, 59, 71],\n",
       "        [ 4, 65, 96]]),\n",
       " array([[15, 36, 44],\n",
       "        [14, 29, 69],\n",
       "        [41, 50, 80],\n",
       "        [33, 86, 90],\n",
       "        [37, 65, 85],\n",
       "        [ 1, 58, 88]]),\n",
       " array([[  2,  29,  36],\n",
       "        [ 58,  59,  70],\n",
       "        [ 64,  96, 100],\n",
       "        [ 11,  33,  78],\n",
       "        [ 41,  51,  94],\n",
       "        [  6,  19,  23]]),\n",
       " array([[ 22,  74,  76],\n",
       "        [ 31,  47,  94],\n",
       "        [  2,  19, 100],\n",
       "        [ 18,  35,  84],\n",
       "        [  1,   9,  38],\n",
       "        [ 12,  26,  63]]),\n",
       " array([[ 37,  49,  57],\n",
       "        [ 65,  97, 100],\n",
       "        [  1,  10,  55],\n",
       "        [ 23,  64,  83],\n",
       "        [ 22,  53,  67],\n",
       "        [ 18,  66,  72]]),\n",
       " array([[50, 71, 72],\n",
       "        [ 1,  8, 75],\n",
       "        [33, 45, 56],\n",
       "        [11, 67, 97],\n",
       "        [53, 73, 82],\n",
       "        [26, 28, 35]]),\n",
       " array([[53, 59, 78],\n",
       "        [46, 95, 98],\n",
       "        [15, 69, 86],\n",
       "        [56, 57, 85],\n",
       "        [17, 34, 80],\n",
       "        [33, 61, 99]]),\n",
       " array([[ 12,  36,  76],\n",
       "        [ 80,  89,  92],\n",
       "        [ 19,  29,  88],\n",
       "        [  5,  20,  77],\n",
       "        [  7,  63, 100],\n",
       "        [ 21,  27,  94]]),\n",
       " array([[ 31,  93, 100],\n",
       "        [ 18,  36,  37],\n",
       "        [ 81,  84,  90],\n",
       "        [ 59,  71,  91],\n",
       "        [  1,  46,  80],\n",
       "        [ 14,  30,  63]]),\n",
       " array([[ 33,  38,  82],\n",
       "        [ 16,  46,  71],\n",
       "        [ 35,  66,  80],\n",
       "        [ 86,  94,  99],\n",
       "        [ 15,  91, 100],\n",
       "        [  7,  34,  69]]),\n",
       " array([[24, 51, 66],\n",
       "        [50, 76, 79],\n",
       "        [19, 55, 57],\n",
       "        [42, 59, 90],\n",
       "        [20, 38, 43],\n",
       "        [14, 45, 46]]),\n",
       " array([[23, 58, 70],\n",
       "        [31, 32, 96],\n",
       "        [ 9, 21, 48],\n",
       "        [ 5, 62, 68],\n",
       "        [61, 83, 97],\n",
       "        [10, 73, 94]]),\n",
       " array([[36, 71, 83],\n",
       "        [37, 48, 80],\n",
       "        [ 5,  8, 32],\n",
       "        [29, 40, 62],\n",
       "        [58, 61, 77],\n",
       "        [17, 73, 94]]),\n",
       " array([[31, 88, 91],\n",
       "        [42, 63, 85],\n",
       "        [12, 49, 97],\n",
       "        [ 2, 64, 65],\n",
       "        [16, 41, 81],\n",
       "        [ 5, 38, 51]]),\n",
       " array([[40, 63, 74],\n",
       "        [11, 19, 57],\n",
       "        [12, 43, 55],\n",
       "        [24, 59, 60],\n",
       "        [ 6, 39, 88],\n",
       "        [47, 50, 83]]),\n",
       " array([[ 4,  7, 14],\n",
       "        [38, 53, 64],\n",
       "        [47, 56, 69],\n",
       "        [24, 51, 71],\n",
       "        [ 6, 18, 87],\n",
       "        [ 5, 66, 72]]),\n",
       " array([[ 12,  56,  68],\n",
       "        [  7,  28,  47],\n",
       "        [ 36,  79,  90],\n",
       "        [ 25,  55, 100],\n",
       "        [ 29,  33,  58],\n",
       "        [  9,  26,  45]]),\n",
       " array([[ 3, 67, 94],\n",
       "        [ 1, 28, 99],\n",
       "        [69, 80, 83],\n",
       "        [ 6, 11, 81],\n",
       "        [54, 93, 97],\n",
       "        [ 9, 25, 47]]),\n",
       " array([[ 3, 22, 66],\n",
       "        [ 9, 75, 98],\n",
       "        [13, 16, 19],\n",
       "        [ 8, 47, 79],\n",
       "        [10, 68, 90],\n",
       "        [18, 27, 73]]),\n",
       " array([[25, 52, 75],\n",
       "        [ 2, 19, 26],\n",
       "        [42, 63, 78],\n",
       "        [14, 49, 61],\n",
       "        [ 7,  9, 22],\n",
       "        [34, 45, 90]]),\n",
       " array([[  3,   7,  43],\n",
       "        [ 52,  90,  91],\n",
       "        [  5,  42,  88],\n",
       "        [ 57,  87, 100],\n",
       "        [ 20,  24,  25],\n",
       "        [ 11,  72,  73]]),\n",
       " array([[25, 71, 89],\n",
       "        [16, 95, 97],\n",
       "        [15, 39, 41],\n",
       "        [21, 68, 88],\n",
       "        [17, 24, 45],\n",
       "        [32, 75, 84]]),\n",
       " array([[ 5, 34, 79],\n",
       "        [61, 70, 87],\n",
       "        [50, 57, 95],\n",
       "        [20, 78, 93],\n",
       "        [59, 65, 83],\n",
       "        [35, 64, 96]]),\n",
       " array([[19, 29, 32],\n",
       "        [52, 92, 94],\n",
       "        [17, 44, 64],\n",
       "        [ 4, 11, 46],\n",
       "        [86, 89, 91],\n",
       "        [21, 43, 53]]),\n",
       " array([[ 12,  83, 100],\n",
       "        [ 52,  58,  92],\n",
       "        [ 11,  35,  36],\n",
       "        [  3,  26,  69],\n",
       "        [ 43,  86,  87],\n",
       "        [ 33,  54,  74]]),\n",
       " array([[25, 67, 96],\n",
       "        [19, 30, 37],\n",
       "        [ 9, 17, 58],\n",
       "        [68, 86, 89],\n",
       "        [24, 62, 87],\n",
       "        [42, 65, 77]]),\n",
       " array([[32, 73, 82],\n",
       "        [29, 67, 97],\n",
       "        [ 1, 35, 78],\n",
       "        [16, 52, 63],\n",
       "        [49, 76, 92],\n",
       "        [28, 30, 45]]),\n",
       " array([[12, 41, 92],\n",
       "        [ 6, 26, 31],\n",
       "        [14, 24, 77],\n",
       "        [18, 19, 38],\n",
       "        [46, 50, 86],\n",
       "        [37, 72, 82]]),\n",
       " array([[ 3, 11, 93],\n",
       "        [13, 75, 87],\n",
       "        [55, 58, 70],\n",
       "        [22, 41, 52],\n",
       "        [12, 29, 34],\n",
       "        [10, 19, 78]]),\n",
       " array([[29, 35, 94],\n",
       "        [20, 57, 93],\n",
       "        [ 9, 28, 32],\n",
       "        [24, 38, 75],\n",
       "        [22, 68, 98],\n",
       "        [18, 73, 83]]),\n",
       " array([[ 21,  34,  99],\n",
       "        [  5,  39,  53],\n",
       "        [  8,  19, 100],\n",
       "        [  9,  63,  82],\n",
       "        [  4,  44,  62],\n",
       "        [ 51,  70,  72]]),\n",
       " array([[47, 58, 61],\n",
       "        [40, 44, 97],\n",
       "        [ 3,  9, 22],\n",
       "        [17, 74, 99],\n",
       "        [20, 63, 77],\n",
       "        [12, 68, 87]]),\n",
       " array([[ 9, 16, 25],\n",
       "        [21, 24, 37],\n",
       "        [20, 45, 94],\n",
       "        [ 5, 34, 61],\n",
       "        [ 7, 13, 77],\n",
       "        [27, 41, 44]]),\n",
       " array([[ 1, 15, 79],\n",
       "        [19, 51, 58],\n",
       "        [20, 55, 61],\n",
       "        [16, 71, 94],\n",
       "        [42, 49, 53],\n",
       "        [18, 27, 41]]),\n",
       " array([[12, 37, 86],\n",
       "        [18, 48, 90],\n",
       "        [ 5,  7, 54],\n",
       "        [59, 76, 78],\n",
       "        [15, 33, 84],\n",
       "        [17, 25, 69]]),\n",
       " array([[ 4, 68, 85],\n",
       "        [18, 27, 57],\n",
       "        [44, 63, 69],\n",
       "        [ 8, 77, 88],\n",
       "        [ 1, 53, 82],\n",
       "        [12, 43, 73]]),\n",
       " array([[11, 28, 61],\n",
       "        [44, 50, 72],\n",
       "        [15, 46, 80],\n",
       "        [ 4, 36, 37],\n",
       "        [59, 69, 85],\n",
       "        [ 7, 57, 63]]),\n",
       " array([[18, 41, 69],\n",
       "        [64, 71, 74],\n",
       "        [11, 23, 59],\n",
       "        [35, 78, 94],\n",
       "        [14, 56, 84],\n",
       "        [30, 47, 50]]),\n",
       " array([[25, 44, 75],\n",
       "        [ 1, 23, 34],\n",
       "        [ 7, 89, 91],\n",
       "        [12, 59, 80],\n",
       "        [47, 54, 72],\n",
       "        [24, 39, 48]]),\n",
       " array([[67, 90, 97],\n",
       "        [41, 58, 93],\n",
       "        [ 4, 33, 81],\n",
       "        [25, 26, 52],\n",
       "        [17, 19, 95],\n",
       "        [ 5, 53, 78]]),\n",
       " array([[20, 65, 90],\n",
       "        [16, 41, 60],\n",
       "        [39, 46, 58],\n",
       "        [12, 87, 88],\n",
       "        [31, 75, 96],\n",
       "        [18, 78, 84]]),\n",
       " array([[13, 58, 66],\n",
       "        [19, 28, 91],\n",
       "        [62, 77, 96],\n",
       "        [39, 56, 74],\n",
       "        [29, 34, 99],\n",
       "        [27, 69, 80]]),\n",
       " array([[ 3, 34, 47],\n",
       "        [ 6, 37, 68],\n",
       "        [55, 70, 93],\n",
       "        [23, 26, 39],\n",
       "        [16, 80, 96],\n",
       "        [44, 53, 89]]),\n",
       " array([[34, 36, 81],\n",
       "        [16, 72, 77],\n",
       "        [ 9, 20, 85],\n",
       "        [31, 71, 89],\n",
       "        [56, 59, 90],\n",
       "        [10, 19, 62]]),\n",
       " array([[24, 41, 67],\n",
       "        [42, 60, 64],\n",
       "        [15, 22, 72],\n",
       "        [ 4, 19, 39],\n",
       "        [ 2, 85, 88],\n",
       "        [ 1, 46, 86]]),\n",
       " array([[ 3, 58, 86],\n",
       "        [47, 61, 84],\n",
       "        [18, 81, 99],\n",
       "        [32, 43, 46],\n",
       "        [54, 77, 78],\n",
       "        [ 1, 11, 42]]),\n",
       " array([[ 4, 41, 80],\n",
       "        [30, 44, 86],\n",
       "        [43, 55, 63],\n",
       "        [49, 59, 99],\n",
       "        [51, 69, 91],\n",
       "        [38, 62, 92]]),\n",
       " array([[  7,  24,  98],\n",
       "        [ 12,  40,  56],\n",
       "        [ 28,  55,  79],\n",
       "        [ 17,  63,  65],\n",
       "        [ 39,  87, 100],\n",
       "        [ 10,  38,  94]]),\n",
       " array([[25, 34, 86],\n",
       "        [21, 65, 75],\n",
       "        [31, 44, 82],\n",
       "        [ 8, 39, 64],\n",
       "        [23, 60, 71],\n",
       "        [43, 50, 88]]),\n",
       " array([[31, 41, 84],\n",
       "        [ 3, 63, 78],\n",
       "        [36, 45, 72],\n",
       "        [12, 30, 49],\n",
       "        [16, 22, 96],\n",
       "        [32, 33, 57]]),\n",
       " array([[12, 34, 45],\n",
       "        [ 4, 56, 65],\n",
       "        [ 6,  8,  9],\n",
       "        [ 5, 29, 72],\n",
       "        [ 3, 24, 74],\n",
       "        [ 1, 85, 86]]),\n",
       " array([[ 4, 13, 28],\n",
       "        [ 5,  7, 30],\n",
       "        [27, 43, 86],\n",
       "        [46, 55, 97],\n",
       "        [12, 25, 45],\n",
       "        [19, 95, 99]]),\n",
       " array([[19, 66, 70],\n",
       "        [27, 36, 88],\n",
       "        [ 8, 10, 29],\n",
       "        [ 4, 21, 91],\n",
       "        [30, 44, 56],\n",
       "        [39, 50, 68]]),\n",
       " array([[19, 46, 52],\n",
       "        [48, 64, 91],\n",
       "        [16, 32, 36],\n",
       "        [13, 15, 17],\n",
       "        [38, 40, 68],\n",
       "        [ 1, 51, 62]]),\n",
       " array([[ 8, 28, 42],\n",
       "        [ 5, 64, 78],\n",
       "        [22, 24, 86],\n",
       "        [32, 37, 69],\n",
       "        [45, 56, 62],\n",
       "        [77, 92, 96]]),\n",
       " array([[ 2, 34, 81],\n",
       "        [26, 32, 99],\n",
       "        [38, 68, 91],\n",
       "        [78, 86, 90],\n",
       "        [ 5, 84, 89],\n",
       "        [ 7, 56, 80]]),\n",
       " array([[34, 38, 54],\n",
       "        [57, 69, 87],\n",
       "        [10, 33, 95],\n",
       "        [11, 15, 94],\n",
       "        [ 1, 25, 32],\n",
       "        [45, 52, 90]]),\n",
       " array([[ 7, 67, 81],\n",
       "        [53, 59, 90],\n",
       "        [27, 34, 66],\n",
       "        [25, 69, 76],\n",
       "        [ 8,  9, 61],\n",
       "        [22, 36, 56]]),\n",
       " array([[20, 22, 73],\n",
       "        [ 4, 83, 99],\n",
       "        [26, 57, 67],\n",
       "        [21, 45, 88],\n",
       "        [ 9, 15, 47],\n",
       "        [11, 29, 59]]),\n",
       " array([[12, 64, 89],\n",
       "        [43, 84, 92],\n",
       "        [ 2, 16, 72],\n",
       "        [17, 52, 97],\n",
       "        [ 4, 38, 91],\n",
       "        [ 6, 26, 48]]),\n",
       " array([[26, 71, 91],\n",
       "        [24, 25, 62],\n",
       "        [ 2, 86, 90],\n",
       "        [53, 58, 61],\n",
       "        [76, 79, 89],\n",
       "        [28, 35, 67]]),\n",
       " array([[32, 33, 44],\n",
       "        [21, 74, 95],\n",
       "        [34, 37, 98],\n",
       "        [29, 50, 77],\n",
       "        [24, 89, 97],\n",
       "        [56, 60, 68]]),\n",
       " array([[ 3, 57, 97],\n",
       "        [74, 89, 96],\n",
       "        [38, 46, 51],\n",
       "        [ 8, 79, 99],\n",
       "        [65, 75, 82],\n",
       "        [24, 73, 91]]),\n",
       " array([[ 1, 35, 51],\n",
       "        [47, 69, 71],\n",
       "        [ 5, 24, 38],\n",
       "        [14, 60, 99],\n",
       "        [15, 52, 78],\n",
       "        [16, 34, 77]]),\n",
       " array([[51, 56, 79],\n",
       "        [22, 52, 90],\n",
       "        [10, 13, 31],\n",
       "        [35, 45, 74],\n",
       "        [14, 33, 93],\n",
       "        [ 2, 39, 54]]),\n",
       " array([[ 3, 18, 49],\n",
       "        [ 6, 22, 84],\n",
       "        [66, 72, 83],\n",
       "        [ 8, 24, 87],\n",
       "        [52, 57, 94],\n",
       "        [ 7, 27, 30]]),\n",
       " array([[28, 59, 85],\n",
       "        [34, 57, 93],\n",
       "        [29, 32, 39],\n",
       "        [11, 55, 58],\n",
       "        [10, 17, 65],\n",
       "        [35, 66, 74]]),\n",
       " array([[36, 52, 74],\n",
       "        [32, 83, 94],\n",
       "        [21, 55, 65],\n",
       "        [30, 56, 98],\n",
       "        [53, 62, 81],\n",
       "        [ 9, 11, 59]]),\n",
       " array([[ 5, 20, 65],\n",
       "        [19, 47, 98],\n",
       "        [31, 44, 81],\n",
       "        [ 8, 35, 93],\n",
       "        [ 4, 50, 91],\n",
       "        [14, 16, 49]]),\n",
       " array([[33, 50, 76],\n",
       "        [18, 20, 97],\n",
       "        [52, 72, 84],\n",
       "        [12, 41, 62],\n",
       "        [27, 56, 94],\n",
       "        [47, 69, 79]]),\n",
       " array([[38, 59, 83],\n",
       "        [17, 58, 94],\n",
       "        [ 4, 29, 75],\n",
       "        [31, 78, 99],\n",
       "        [77, 80, 95],\n",
       "        [28, 60, 79]]),\n",
       " array([[65, 77, 93],\n",
       "        [43, 80, 83],\n",
       "        [23, 31, 61],\n",
       "        [ 8, 49, 54],\n",
       "        [ 1, 69, 86],\n",
       "        [ 4, 21, 92]]),\n",
       " array([[ 5, 10, 48],\n",
       "        [22, 50, 81],\n",
       "        [34, 52, 56],\n",
       "        [11, 20, 33],\n",
       "        [ 1, 53, 65],\n",
       "        [57, 85, 99]]),\n",
       " array([[ 7, 39, 47],\n",
       "        [ 9, 26, 35],\n",
       "        [24, 27, 98],\n",
       "        [21, 36, 41],\n",
       "        [15, 17, 19],\n",
       "        [38, 53, 87]]),\n",
       " array([[ 7, 35, 61],\n",
       "        [53, 66, 98],\n",
       "        [10, 49, 71],\n",
       "        [28, 50, 78],\n",
       "        [27, 43, 80],\n",
       "        [ 4, 15, 31]]),\n",
       " array([[18, 41, 64],\n",
       "        [22, 39, 43],\n",
       "        [12, 15, 76],\n",
       "        [ 3, 69, 79],\n",
       "        [33, 65, 82],\n",
       "        [17, 61, 91]]),\n",
       " array([[ 28,  85,  96],\n",
       "        [ 24,  45, 100],\n",
       "        [ 13,  37,  42],\n",
       "        [  4,  58,  91],\n",
       "        [ 63,  71,  81],\n",
       "        [ 12,  17,  79]]),\n",
       " array([[  2,  47,  75],\n",
       "        [ 14,  27,  53],\n",
       "        [ 32,  33,  96],\n",
       "        [ 13,  42, 100],\n",
       "        [ 45,  52,  95],\n",
       "        [  1,  17,  86]]),\n",
       " array([[ 3, 92, 93],\n",
       "        [ 4, 16, 52],\n",
       "        [ 2, 51, 83],\n",
       "        [ 9, 62, 88],\n",
       "        [14, 27, 39],\n",
       "        [12, 33, 72]]),\n",
       " array([[59, 73, 80],\n",
       "        [17, 44, 49],\n",
       "        [12, 25, 92],\n",
       "        [ 6, 30, 66],\n",
       "        [19, 32, 72],\n",
       "        [71, 89, 96]]),\n",
       " array([[31, 72, 85],\n",
       "        [69, 80, 86],\n",
       "        [16, 19, 43],\n",
       "        [14, 95, 98],\n",
       "        [36, 84, 87],\n",
       "        [ 5, 66, 81]]),\n",
       " array([[ 5, 47, 72],\n",
       "        [27, 52, 97],\n",
       "        [ 1, 51, 82],\n",
       "        [ 7, 15, 36],\n",
       "        [28, 63, 64],\n",
       "        [57, 62, 83]]),\n",
       " array([[  3,  46, 100],\n",
       "        [  1,  15,  24],\n",
       "        [ 34,  51,  93],\n",
       "        [ 10,  31,  49],\n",
       "        [ 11,  64,  99],\n",
       "        [ 21,  73,  79]]),\n",
       " array([[40, 65, 91],\n",
       "        [ 6, 48, 92],\n",
       "        [24, 51, 53],\n",
       "        [ 2, 79, 96],\n",
       "        [15, 22, 52],\n",
       "        [32, 36, 77]]),\n",
       " array([[21, 61, 63],\n",
       "        [10, 49, 69],\n",
       "        [15, 45, 57],\n",
       "        [29, 74, 98],\n",
       "        [ 5, 17, 50],\n",
       "        [22, 27, 30]]),\n",
       " array([[19, 39, 86],\n",
       "        [22, 33, 46],\n",
       "        [53, 56, 85],\n",
       "        [ 9, 52, 59],\n",
       "        [ 2, 10, 66],\n",
       "        [48, 58, 64]]),\n",
       " array([[72, 77, 85],\n",
       "        [ 8, 22, 84],\n",
       "        [40, 52, 82],\n",
       "        [20, 50, 83],\n",
       "        [41, 45, 48],\n",
       "        [23, 24, 61]]),\n",
       " array([[ 1, 58, 81],\n",
       "        [26, 30, 51],\n",
       "        [33, 64, 92],\n",
       "        [28, 37, 77],\n",
       "        [56, 79, 95],\n",
       "        [19, 21, 68]]),\n",
       " array([[  5,  77,  88],\n",
       "        [ 17,  55,  65],\n",
       "        [ 51,  92, 100],\n",
       "        [  9,  36,  95],\n",
       "        [  2,  39,  74],\n",
       "        [ 25,  29,  78]]),\n",
       " array([[30, 69, 87],\n",
       "        [15, 33, 51],\n",
       "        [49, 68, 84],\n",
       "        [ 1,  5, 58],\n",
       "        [29, 38, 56],\n",
       "        [22, 45, 72]]),\n",
       " array([[ 5,  9, 94],\n",
       "        [ 7, 56, 63],\n",
       "        [39, 71, 85],\n",
       "        [26, 62, 66],\n",
       "        [10, 32, 79],\n",
       "        [ 8, 76, 81]]),\n",
       " array([[79, 86, 87],\n",
       "        [26, 53, 61],\n",
       "        [42, 44, 58],\n",
       "        [22, 29, 91],\n",
       "        [41, 85, 98],\n",
       "        [ 4,  6, 39]]),\n",
       " array([[27, 31, 38],\n",
       "        [47, 54, 77],\n",
       "        [79, 82, 84],\n",
       "        [10, 66, 68],\n",
       "        [50, 53, 63],\n",
       "        [ 3, 52, 80]]),\n",
       " array([[28, 83, 96],\n",
       "        [46, 87, 94],\n",
       "        [21, 74, 80],\n",
       "        [10, 33, 47],\n",
       "        [26, 48, 99],\n",
       "        [41, 51, 82]]),\n",
       " array([[ 1, 55, 61],\n",
       "        [ 3, 42, 82],\n",
       "        [39, 84, 98],\n",
       "        [ 6,  8, 89],\n",
       "        [16, 27, 48],\n",
       "        [ 2, 32, 41]]),\n",
       " array([[22, 26, 57],\n",
       "        [ 4, 32, 93],\n",
       "        [ 1, 11, 65],\n",
       "        [39, 47, 73],\n",
       "        [33, 52, 71],\n",
       "        [23, 42, 48]]),\n",
       " array([[ 6, 49, 99],\n",
       "        [ 7, 56, 75],\n",
       "        [70, 79, 94],\n",
       "        [22, 30, 51],\n",
       "        [12, 19, 39],\n",
       "        [47, 77, 97]]),\n",
       " array([[77, 94, 95],\n",
       "        [ 9, 12, 90],\n",
       "        [ 3, 73, 82],\n",
       "        [22, 30, 54],\n",
       "        [23, 59, 66],\n",
       "        [18, 75, 83]]),\n",
       " array([[17, 31, 61],\n",
       "        [25, 57, 88],\n",
       "        [36, 45, 63],\n",
       "        [20, 44, 90],\n",
       "        [34, 50, 98],\n",
       "        [32, 54, 87]]),\n",
       " array([[ 41,  73, 100],\n",
       "        [ 18,  52,  60],\n",
       "        [ 32,  65,  84],\n",
       "        [ 55,  72,  89],\n",
       "        [ 13,  49,  87],\n",
       "        [ 15,  50,  61]])]"
      ]
     },
     "execution_count": 9,
     "metadata": {},
     "output_type": "execute_result"
    }
   ],
   "source": [
    "# Make 100 draws\n",
    "card_draws = [sample_cards(100, 6, 3) for i in range(100)]\n",
    "card_draws"
   ]
  },
  {
   "cell_type": "code",
   "execution_count": 10,
   "id": "279964cb",
   "metadata": {},
   "outputs": [
    {
     "data": {
      "text/plain": [
       "[4,\n",
       " 1,\n",
       " 2,\n",
       " 1,\n",
       " 1,\n",
       " 1,\n",
       " 15,\n",
       " 5,\n",
       " 1,\n",
       " 7,\n",
       " 14,\n",
       " 5,\n",
       " 5,\n",
       " 2,\n",
       " 6,\n",
       " 4,\n",
       " 7,\n",
       " 1,\n",
       " 3,\n",
       " 2,\n",
       " 3,\n",
       " 15,\n",
       " 5,\n",
       " 4,\n",
       " 3,\n",
       " 9,\n",
       " 1,\n",
       " 6,\n",
       " 3,\n",
       " 9,\n",
       " 4,\n",
       " 3,\n",
       " 5,\n",
       " 1,\n",
       " 5,\n",
       " 1,\n",
       " 4,\n",
       " 11,\n",
       " 1,\n",
       " 4,\n",
       " 12,\n",
       " 13,\n",
       " 3,\n",
       " 9,\n",
       " 1,\n",
       " 1,\n",
       " 4,\n",
       " 7,\n",
       " 8,\n",
       " 3,\n",
       " 1,\n",
       " 4,\n",
       " 4,\n",
       " 1,\n",
       " 5,\n",
       " 2,\n",
       " 1,\n",
       " 7,\n",
       " 4,\n",
       " 2,\n",
       " 2,\n",
       " 21,\n",
       " 3,\n",
       " 1,\n",
       " 2,\n",
       " 3,\n",
       " 10,\n",
       " 9,\n",
       " 4,\n",
       " 12,\n",
       " 4,\n",
       " 1,\n",
       " 1,\n",
       " 7,\n",
       " 4,\n",
       " 3,\n",
       " 4,\n",
       " 1,\n",
       " 2,\n",
       " 6,\n",
       " 5,\n",
       " 1,\n",
       " 1,\n",
       " 2,\n",
       " 5,\n",
       " 2,\n",
       " 8,\n",
       " 1,\n",
       " 2,\n",
       " 1,\n",
       " 5,\n",
       " 4,\n",
       " 3,\n",
       " 10,\n",
       " 1,\n",
       " 1,\n",
       " 6,\n",
       " 3,\n",
       " 17,\n",
       " 13]"
      ]
     },
     "execution_count": 10,
     "metadata": {},
     "output_type": "execute_result"
    }
   ],
   "source": [
    "# Get minimum for each draw. Loop over draws, take array minimum\n",
    "draw_minimums = [np.min(a) for a in card_draws]\n",
    "draw_minimums"
   ]
  },
  {
   "cell_type": "code",
   "execution_count": 11,
   "id": "ce26cc59",
   "metadata": {},
   "outputs": [
    {
     "data": {
      "image/png": "[encoded data removed]",
      "text/plain": [
       "<Figure size 640x480 with 1 Axes>"
      ]
     },
     "metadata": {},
     "output_type": "display_data"
    }
   ],
   "source": [
    "from scipy import stats\n",
    "\n",
    "# Histogram, N bins for N cards available\n",
    "plt.hist(draw_minimums, bins = 100)\n",
    "# X ticks from 0 to largest value of the min\n",
    "plt.xticks(range(int(np.min(draw_minimums)), int(np.max(draw_minimums) + 1)))\n",
    "# Reduce size of X ticks\n",
    "plt.xticks(size = 8)\n",
    "# Y ticks from 0 to the number of values of the most frequent value\n",
    "plt.yticks(range(0, len([i for i in list(draw_minimums) if i == stats.mode(draw_minimums)[0]]) + 1))\n",
    "# Show plot\n",
    "plt.show()"
   ]
  },
  {
   "cell_type": "markdown",
   "id": "b9b63c3c-5cd0-4090-910b-06ded98c5497",
   "metadata": {
    "user_expressions": []
   },
   "source": [
    "### 2. What is the distribution of the largest gap?\n",
    "\n",
    "For each simulation, find the largest distance between consecutive numbers in the game. To make this easy, let us first consider the largest gap among the pool of **all** the cards among players (if the largest gap is happening in the hand of one single player, that is ok). This will make the analysis more simple. "
   ]
  },
  {
   "cell_type": "code",
   "execution_count": 12,
   "id": "e5f8d4c0",
   "metadata": {},
   "outputs": [],
   "source": [
    "# Function: Given a game/draw of cards, compute the maximum gap between consecutive cards\n",
    "def get_max_consecutive_gap(cards):\n",
    "    # Flatten array to one dimension\n",
    "    flat_cards = cards.flatten()\n",
    "    # Get the ordered list of indices that would sort flat_cards\n",
    "    order_ids = np.argsort(flat_cards)\n",
    "    # Compute differences between between consecutively ordered cards\n",
    "    gap_cards = np.diff(flat_cards[order_ids])\n",
    "    # Return maximum gap between between ordered cards\n",
    "    return np.max(gap_cards)"
   ]
  },
  {
   "cell_type": "code",
   "execution_count": 13,
   "id": "11dde92c",
   "metadata": {},
   "outputs": [
    {
     "name": "stdout",
     "output_type": "stream",
     "text": [
      "[[30 90]\n",
      " [ 2 25]]\n",
      "60\n"
     ]
    }
   ],
   "source": [
    "# Test function on a known result\n",
    "# player 1: {30, 90}\n",
    "# player 2: {2, 25}\n",
    "test_cards = np.array([[30, 90], [2, 25]])\n",
    "print(test_cards)\n",
    "# Should be 60\n",
    "print(get_max_consecutive_gap(test_cards))"
   ]
  },
  {
   "cell_type": "markdown",
   "id": "6c0d3228-b157-4b86-a28a-1e5dc629a17c",
   "metadata": {
    "user_expressions": []
   },
   "source": [
    "Repeat the experiment but now compute the largest gap between cards of different players. This is the gap that actually matters for the purposes of the game: what is the maximum number of numbers that a player will have to wait before playing the next card?"
   ]
  },
  {
   "cell_type": "code",
   "execution_count": 14,
   "id": "80c70a7d",
   "metadata": {},
   "outputs": [],
   "source": [
    "# Function: Given a game/draw of cards, compute the maximum gap between consecutive cards from different players\n",
    "# Similar to the earlier function, except that we now keep track of and test differences in player ids, keeping non-zero ones\n",
    "def get_max_consecutive_gap_between_players(cards):\n",
    "    # Number of players (n) is the number of rows\n",
    "    num_players = np.shape(cards)[0]\n",
    "    # Number of cards per player (k) is the number of columns\n",
    "    num_cards_per_player = np.shape(cards)[1]\n",
    "    # Create a template with the same shape as the cards, but with player id numbers for tracking after sorting\n",
    "    # arange creates an array of the player ids ([1, 2, 3, 4, 5, 6], etc.)\n",
    "    # tile repeats the array k/num_cards times, each time on a new row (since we passed k as a row argument, 1 as col argument)\n",
    "    # We transpose the result to match the card array shape\n",
    "    player_ids = np.tile(np.arange(1, num_players + 1), (num_cards_per_player, 1)).T\n",
    "    # Flatten arrays to one dimension\n",
    "    flat_cards, flat_ids = cards.flatten(), player_ids.flatten()\n",
    "    # Get the ordered list of indices that would sort flat_cards\n",
    "    order_ids = np.argsort(flat_cards)\n",
    "    # Compute differences between consecutively ordered cards\n",
    "    gap_cards = np.diff(flat_cards[order_ids])\n",
    "    # Compute gap in ids as well so we can see if the gap is between players with the same id\n",
    "    gap_ids = np.diff(flat_ids[order_ids])\n",
    "    # Set the gap to 0 when it is within the same player\n",
    "    # Element wise multiplication of gap_cards with an array of indicators for whether the gap is between cards of the same player\n",
    "    gap_unique = gap_cards * (gap_ids != 0)\n",
    "    # Return maximum gap between players\n",
    "    return np.max(gap_unique)"
   ]
  },
  {
   "cell_type": "code",
   "execution_count": 15,
   "id": "0fe3748d",
   "metadata": {},
   "outputs": [
    {
     "name": "stdout",
     "output_type": "stream",
     "text": [
      "[[50 75 78]\n",
      " [15 21 46]\n",
      " [14 39 77]\n",
      " [63 70 96]\n",
      " [19 26 33]]\n",
      "18\n"
     ]
    }
   ],
   "source": [
    "# Testing the function on a known result\n",
    "test_cards = np.array([[50, 75, 78], [15, 21, 46], [14, 39, 77], [63, 70, 96], [19, 26, 33]])\n",
    "print(test_cards)\n",
    "# Should be 18\n",
    "print(get_max_consecutive_gap_between_players(test_cards))"
   ]
  },
  {
   "cell_type": "code",
   "execution_count": 16,
   "id": "70b886f8",
   "metadata": {},
   "outputs": [
    {
     "name": "stdout",
     "output_type": "stream",
     "text": [
      "[[30 90]\n",
      " [ 2 25]]\n",
      "5\n"
     ]
    }
   ],
   "source": [
    "# Test function on a known result\n",
    "# player 1: {30, 90}\n",
    "# player 2: {2, 25}\n",
    "test_cards = np.array([[30, 90], [2, 25]])\n",
    "print(test_cards)\n",
    "# Should be 5\n",
    "print(get_max_consecutive_gap_between_players(test_cards))"
   ]
  },
  {
   "cell_type": "markdown",
   "id": "d16b0bb5-9d21-4b46-99ec-15b385e5214a",
   "metadata": {
    "user_expressions": []
   },
   "source": [
    "How do these compare? "
   ]
  },
  {
   "cell_type": "code",
   "execution_count": 17,
   "id": "6ebd8516",
   "metadata": {},
   "outputs": [],
   "source": [
    "# Compute max gaps under both methods in our original 100 card draws (card_draws)\n",
    "all_cards_max_gaps = [get_max_consecutive_gap(cards) for cards in card_draws]\n",
    "between_players_max_gaps = [get_max_consecutive_gap_between_players(cards) for cards in card_draws]"
   ]
  },
  {
   "cell_type": "code",
   "execution_count": 18,
   "id": "c81c4569",
   "metadata": {},
   "outputs": [
    {
     "name": "stdout",
     "output_type": "stream",
     "text": [
      "16.75\n",
      "16.01\n"
     ]
    }
   ],
   "source": [
    "# Going to check the mean\n",
    "print(np.mean(all_cards_max_gaps))\n",
    "print(np.mean(between_players_max_gaps))"
   ]
  },
  {
   "cell_type": "code",
   "execution_count": 36,
   "id": "eb6f69cd",
   "metadata": {},
   "outputs": [
    {
     "data": {
      "image/png": "[encoded data removed]",
      "text/plain": [
       "<Figure size 640x480 with 1 Axes>"
      ]
     },
     "metadata": {},
     "output_type": "display_data"
    },
    {
     "data": {
      "image/png": "[encoded data removed]",
      "text/plain": [
       "<Figure size 640x480 with 1 Axes>"
      ]
     },
     "metadata": {},
     "output_type": "display_data"
    }
   ],
   "source": [
    "# Plot histogram of distribution of max gaps under each method\n",
    "# Use the same x axis on both plots to make comparison easy\n",
    "\n",
    "plt.hist(all_cards_max_gaps, bins = 100)\n",
    "# X ticks standardized for both all cards and between players runs\n",
    "plt.xticks(range(0, 41))\n",
    "# Reduce size of X ticks\n",
    "plt.xticks(size = 6)\n",
    "# Y ticks from 0 to the number of values of the most frequent value\n",
    "plt.yticks(range(0, len([i for i in list(all_cards_max_gaps) if i == stats.mode(all_cards_max_gaps)[0]]) + 1))\n",
    "plt.title('All card comparisons')\n",
    "plt.show()\n",
    "\n",
    "plt.hist(between_players_max_gaps, bins = 100)\n",
    "# X ticks standardized for both all cards and between players runs\n",
    "plt.xticks(range(0, 41))\n",
    "# Reduce size of X ticks\n",
    "plt.xticks(size = 6)\n",
    "# Y ticks from 0 to the number of values of the most frequent value\n",
    "plt.yticks(range(0, len([i for i in list(between_players_max_gaps) if i == stats.mode(between_players_max_gaps)[0]]) + 1))\n",
    "plt.title('Comparisons between players')\n",
    "plt.show()\n",
    "\n",
    "\n",
    "# JUST SHOWING SHIFTING DISTRIBUTION"
   ]
  },
  {
   "cell_type": "code",
   "execution_count": 43,
   "id": "1871b923",
   "metadata": {},
   "outputs": [
    {
     "data": {
      "image/png": "[encoded data removed]",
      "text/plain": [
       "<Figure size 640x480 with 1 Axes>"
      ]
     },
     "metadata": {},
     "output_type": "display_data"
    }
   ],
   "source": [
    "# Overlaid histogram\n",
    "plt.hist(all_cards_max_gaps, bins = 100, alpha = 0.5, label = 'All cards')\n",
    "plt.hist(between_players_max_gaps, bins = 100, alpha = 0.5, label = 'Between players')\n",
    "# X ticks standardized for both all cards and between players runs\n",
    "plt.xticks(range(0, 41))\n",
    "# Reduce size of X ticks\n",
    "plt.xticks(size = 6)\n",
    "# Y ticks from 0 to the number of values of the most frequent value\n",
    "plt.yticks(range(0, np.max([len([i for i in list(all_cards_max_gaps) if i == stats.mode(all_cards_max_gaps)[0]]), len([i for i in list(all_cards_max_gaps) if i == stats.mode(all_cards_max_gaps)[0]])]) + 1))\n",
    "plt.title('Largest Gap')\n",
    "plt.legend(loc = 'upper right')\n",
    "plt.show()"
   ]
  },
  {
   "cell_type": "markdown",
   "id": "05fadc12",
   "metadata": {},
   "source": [
    "Answer: Gaps are slightly larger when we consider all card comparisons, not just those between players, though they are close."
   ]
  },
  {
   "cell_type": "markdown",
   "id": "dd731299",
   "metadata": {},
   "source": [
    "Run simulations for different choices of the number of cards and players and see when the difference between these two is larger.\n",
    "\n",
    "Compute the mean of the two distributions. When is this difference larger? How does this depends of the total number of players `n`?"
   ]
  },
  {
   "cell_type": "code",
   "execution_count": 20,
   "id": "7817dedb",
   "metadata": {},
   "outputs": [],
   "source": [
    "# Lists of N, n, and k to try\n",
    "# - N : Total number of cards\n",
    "# - n : Number of players\n",
    "# - k : Number of cards per player\n",
    "N_to_try = [50, 100, 200]\n",
    "n_to_try = [3, 6, 10]\n",
    "k_to_try = [2, 3, 5]\n",
    "\n",
    "# Empty dataframe to store results\n",
    "# For now, going to store the means\n",
    "import pandas as pd\n",
    "means_df = pd.DataFrame(columns=['N', 'n', 'k', 'All Comparisons Mean', 'Between Player Mean'])\n",
    "\n",
    "# Create list of 100 draws for each combination of N, n, k\n",
    "for N in N_to_try:\n",
    "    for n in n_to_try:\n",
    "        for k in k_to_try:\n",
    "            # Create 100 draws\n",
    "            parameter_draws = [sample_cards(N, n, k) for i in range(100)]\n",
    "            # List of max gaps with an entry for each of the 100 draws\n",
    "            ac_max_gaps = [get_max_consecutive_gap(cards) for cards in parameter_draws]\n",
    "            bp_max_gaps = [get_max_consecutive_gap_between_players(cards) for cards in parameter_draws]\n",
    "            # Compute means\n",
    "            mean_ac = np.mean(ac_max_gaps)\n",
    "            mean_bp = np.mean(bp_max_gaps)\n",
    "            # Add parameters and means to dataframe\n",
    "            means_df = pd.concat([means_df, pd.DataFrame([[N, n, k, mean_ac, mean_bp]], columns=['N', 'n', 'k', 'All Comparisons Mean', 'Between Player Mean'])])"
   ]
  },
  {
   "cell_type": "code",
   "execution_count": 21,
   "id": "b9a3d8e5",
   "metadata": {},
   "outputs": [],
   "source": [
    "# Add difference in means as a column\n",
    "means_df['AC minus BP'] = means_df['All Comparisons Mean'] - means_df['Between Player Mean']"
   ]
  },
  {
   "cell_type": "code",
   "execution_count": 22,
   "id": "608c3240",
   "metadata": {},
   "outputs": [
    {
     "name": "stdout",
     "output_type": "stream",
     "text": [
      "     N   n  k  All Comparisons Mean  Between Player Mean  AC minus BP\n",
      "0   50  10  5                  1.00                 1.00         0.00\n",
      "0   50  10  2                  7.50                 7.45         0.05\n",
      "0   50  10  3                  4.72                 4.64         0.08\n",
      "0  200  10  5                 15.75                15.65         0.10\n",
      "0   50   6  5                  4.54                 4.42         0.12\n",
      "0  100  10  5                  7.04                 6.91         0.13\n",
      "0  100  10  2                 16.08                15.94         0.14\n",
      "0  100   6  5                 11.54                11.36         0.18\n",
      "0   50   6  2                 10.77                10.57         0.20\n",
      "0  100  10  3                 11.30                11.08         0.22\n",
      "0   50   6  3                  7.72                 7.48         0.24\n",
      "0  100   6  2                 22.73                22.40         0.33\n",
      "0  100   6  3                 16.51                16.18         0.33\n",
      "0  200   6  2                 45.54                45.11         0.43\n",
      "0  200  10  2                 33.06                32.56         0.50\n",
      "0  200   6  5                 25.36                24.71         0.65\n",
      "0  200  10  3                 24.22                23.56         0.66\n",
      "0   50   3  2                 16.23                15.11         1.12\n",
      "0  200   6  3                 34.01                32.83         1.18\n",
      "0   50   3  5                  9.31                 8.08         1.23\n",
      "0   50   3  3                 12.45                11.21         1.24\n",
      "0  100   3  3                 25.78                23.41         2.37\n",
      "0  100   3  5                 19.16                16.79         2.37\n",
      "0  100   3  2                 30.98                27.35         3.63\n",
      "0  200   3  5                 38.75                34.75         4.00\n",
      "0  200   3  3                 51.50                47.00         4.50\n",
      "0  200   3  2                 58.99                51.63         7.36\n"
     ]
    }
   ],
   "source": [
    "# Print dataframe. Sort by AC minus BP\n",
    "print(means_df.sort_values(by='AC minus BP'))"
   ]
  },
  {
   "cell_type": "code",
   "execution_count": 23,
   "id": "e54ff325",
   "metadata": {},
   "outputs": [
    {
     "name": "stdout",
     "output_type": "stream",
     "text": [
      "[[ 1  9 16 33 38]\n",
      " [ 3 11 20 34 39]\n",
      " [12 31 32 41 49]\n",
      " [ 7 10 18 26 36]\n",
      " [ 8 24 29 35 37]\n",
      " [14 15 19 45 48]\n",
      " [ 2  6 13 25 43]\n",
      " [ 5 22 23 27 44]\n",
      " [ 4 17 28 46 50]\n",
      " [21 30 40 42 47]]\n",
      "1\n"
     ]
    }
   ],
   "source": [
    "# PROBLEM - for N = 50, n = 10, k = 5, why is the between player mean 1? \n",
    "# Though all the cards are in play, it seems like at least some comparisons would be ruled out...\n",
    "\n",
    "# NOTE - not a problem. when all cards are in play, the max gap between players should always be 1.\n",
    "# This is because we are computing the gaps, based on the order statistics, first (all 1). \n",
    "# Then we are throwing out those gaps that are not between players. The max of what remains is 1.\n",
    "\n",
    "# Try to test\n",
    "test_draw = sample_cards(50, 10, 5)\n",
    "print(test_draw)\n",
    "print(get_max_consecutive_gap_between_players(test_draw))"
   ]
  },
  {
   "cell_type": "code",
   "execution_count": 24,
   "id": "695a8b6e",
   "metadata": {},
   "outputs": [
    {
     "name": "stdout",
     "output_type": "stream",
     "text": [
      "     N   n  k  All Comparisons Mean  Between Player Mean  AC minus BP\n",
      "0   50  10  2                  7.50                 7.45         0.05\n",
      "0   50   6  2                 10.77                10.57         0.20\n",
      "0   50   3  2                 16.23                15.11         1.12\n",
      "0   50  10  3                  4.72                 4.64         0.08\n",
      "0   50   6  3                  7.72                 7.48         0.24\n",
      "0   50   3  3                 12.45                11.21         1.24\n",
      "0   50  10  5                  1.00                 1.00         0.00\n",
      "0   50   6  5                  4.54                 4.42         0.12\n",
      "0   50   3  5                  9.31                 8.08         1.23\n",
      "0  100  10  2                 16.08                15.94         0.14\n",
      "0  100   6  2                 22.73                22.40         0.33\n",
      "0  100   3  2                 30.98                27.35         3.63\n",
      "0  100  10  3                 11.30                11.08         0.22\n",
      "0  100   6  3                 16.51                16.18         0.33\n",
      "0  100   3  3                 25.78                23.41         2.37\n",
      "0  100  10  5                  7.04                 6.91         0.13\n",
      "0  100   6  5                 11.54                11.36         0.18\n",
      "0  100   3  5                 19.16                16.79         2.37\n",
      "0  200   6  2                 45.54                45.11         0.43\n",
      "0  200  10  2                 33.06                32.56         0.50\n",
      "0  200   3  2                 58.99                51.63         7.36\n",
      "0  200  10  3                 24.22                23.56         0.66\n",
      "0  200   6  3                 34.01                32.83         1.18\n",
      "0  200   3  3                 51.50                47.00         4.50\n",
      "0  200  10  5                 15.75                15.65         0.10\n",
      "0  200   6  5                 25.36                24.71         0.65\n",
      "0  200   3  5                 38.75                34.75         4.00\n"
     ]
    }
   ],
   "source": [
    "# Sort by N and k to see impact of n\n",
    "print(means_df.sort_values(by=['N', 'k', 'AC minus BP']))"
   ]
  },
  {
   "cell_type": "markdown",
   "id": "ff4856c3",
   "metadata": {},
   "source": [
    "We can see that the difference in mean maximum gaps tends to be largest when number of players `n` is low. When there are few players, limiting to gaps in between players has a large effect, as many more pairings of cards are not allowed when calculating the max."
   ]
  },
  {
   "cell_type": "markdown",
   "id": "c14b7f5b-23b7-4a73-b67b-8d4433fae9e2",
   "metadata": {
    "user_expressions": []
   },
   "source": [
    "### 3. Deriving distributions\n",
    "\n",
    "For this section, we are going to use the random sampling generating process from _The Mind_ to investigate and find some familiar distributions."
   ]
  },
  {
   "cell_type": "markdown",
   "id": "366396c5-7a5f-461c-a86e-0a5b528e3791",
   "metadata": {
    "user_expressions": []
   },
   "source": [
    "### 3.1. Binomial Distribution \n",
    "\n",
    "Can you think about any way of deriving the binomial distribution? Based on the output of one single game (function `sample_game()`), try to derive something that has Binomial distribution for certain parameter $p$. Run multiple simulations to see this and compare the obtained empirical distribution with the distribution of the binomial distribution (check `numpy.random.binomial` and `scipy.stats.binom`). "
   ]
  },
  {
   "cell_type": "markdown",
   "id": "7f18484b",
   "metadata": {},
   "source": [
    "If we modify our draws of cards for the game to be with replacement, the number of cards above `N/2` will be distributed binomial. The binomial parameter `n` is the number of cards in play (`n*k` for our card game sampling). A card is above `N/2` with probability `p = 1/2`."
   ]
  },
  {
   "cell_type": "code",
   "execution_count": 25,
   "id": "34da5242",
   "metadata": {},
   "outputs": [],
   "source": [
    "# Here I modify the card sampling to be with replacement\n",
    "def sample_cards_w_replacement(N, n, k):\n",
    "    \"\"\"\n",
    "    Generates a simulated sample of how the cards are shuffled among players. \n",
    "    \n",
    "    Arguments: \n",
    "        - N : Total number of cards\n",
    "        - n : Number of players\n",
    "        - k : Number of cards per player\n",
    "        \n",
    "    Returns: \n",
    "        - 2D numpy array where each row represent each player and each column their card in ascending order. \n",
    "    \"\"\"\n",
    "    \n",
    "    assert n * k <= N, \"There are not enough cards for all the players!\"\n",
    "    \n",
    "    _cards = np.random.choice(a=np.arange(1, N+1), size=n*k, replace=True)\n",
    "    _cards = _cards.reshape(n,k)\n",
    "    _cards.sort(axis=1)\n",
    "    return _cards"
   ]
  },
  {
   "cell_type": "code",
   "execution_count": 26,
   "id": "0b42a0be",
   "metadata": {},
   "outputs": [],
   "source": [
    "# Vector to store number of cards over N/2\n",
    "game_num_cards_over = []\n",
    "# Run 100 new games\n",
    "for game in range(100):\n",
    "    # Sample with replacement!\n",
    "    new_game = sample_cards_w_replacement(100, 6, 3)\n",
    "    # Count cards over N/2\n",
    "    num_cards_over_N_over_2 = len([card for card in new_game.flatten() if card > (100 / 2)])\n",
    "    # Append to list\n",
    "    game_num_cards_over.append(num_cards_over_N_over_2)"
   ]
  },
  {
   "cell_type": "code",
   "execution_count": 27,
   "id": "2a7d1bb2",
   "metadata": {},
   "outputs": [
    {
     "data": {
      "image/png": "[encoded data removed]",
      "text/plain": [
       "<Figure size 640x480 with 1 Axes>"
      ]
     },
     "metadata": {},
     "output_type": "display_data"
    }
   ],
   "source": [
    "# Plot distribution\n",
    "plt.hist(game_num_cards_over, bins = 100)\n",
    "plt.xticks(range(0, 19))\n",
    "plt.show()"
   ]
  },
  {
   "cell_type": "code",
   "execution_count": 28,
   "id": "e6e09c8b",
   "metadata": {},
   "outputs": [
    {
     "data": {
      "image/png": "[encoded data removed]",
      "text/plain": [
       "<Figure size 640x480 with 1 Axes>"
      ]
     },
     "metadata": {},
     "output_type": "display_data"
    }
   ],
   "source": [
    "# Numpy distribution to compare to\n",
    "actual_bin = np.random.binomial(n = 18, p = 0.5, size = 100)\n",
    "# Plot distribution\n",
    "plt.hist(actual_bin, bins = 100)\n",
    "plt.xticks(range(0, 19))\n",
    "plt.show()"
   ]
  },
  {
   "cell_type": "code",
   "execution_count": 29,
   "id": "e1533d63",
   "metadata": {},
   "outputs": [
    {
     "data": {
      "image/png": "[encoded data removed]",
      "text/plain": [
       "<Figure size 640x480 with 1 Axes>"
      ]
     },
     "metadata": {},
     "output_type": "display_data"
    }
   ],
   "source": [
    "# Scipy distribution to compare to\n",
    "# I couldn't get actual draws to work (maybe this is deprecated since the docs seem to reference numpy)\n",
    "# But we can still plot the pmf\n",
    "import scipy\n",
    "#actual_bin = scipy.stats.binom(n=18, p=0.5, size=100)\n",
    "# Plot distribution\n",
    "#plt.hist(actual_bin, bins = 100)\n",
    "#plt.xticks(range(0, 19))\n",
    "x = range(0, 19)\n",
    "pmf = scipy.stats.binom.pmf(x, 18, 0.5)\n",
    "plt.plot(x,pmf)\n",
    "plt.xticks(range(0, 19))\n",
    "plt.show()"
   ]
  },
  {
   "cell_type": "markdown",
   "id": "4fd361e5-2c9c-4c78-9987-d73833be1f19",
   "metadata": {
    "user_expressions": []
   },
   "source": [
    "### 3.2. Beta Distribution\n",
    "\n",
    "The [order statistics](https://en.wikipedia.org/wiki/Order_statistic) of the uniform distribution follow a Beta distribution. While here we are not exactly sampling real numbers in $[0,1]$ following the uniform distribution, you can imagine that sampling one single number without repetition from $\\{ 1, 2, 3, \\ldots, N \\}$ is not very different...\n",
    "\n",
    "Compare the distribution of the lowest number in the sample (Part 1) with a [Beta distribution](https://en.wikipedia.org/wiki/Beta_distribution) with adequate choices of parameters. In order to do this, notice that the $k$th order statistics of a sample of $n$ uniformly distributed points in $[0,1]$ is $\\text{Beta}(k, n+1-k)$ (These $n$ and $k$ are not the same as before, you need to pick the right values of these)."
   ]
  },
  {
   "cell_type": "code",
   "execution_count": 30,
   "id": "a323b0ca-7bf6-48c1-a9f1-b87bc08d080c",
   "metadata": {},
   "outputs": [
    {
     "data": {
      "image/png": "[encoded data removed]",
      "text/plain": [
       "<Figure size 640x480 with 1 Axes>"
      ]
     },
     "metadata": {},
     "output_type": "display_data"
    }
   ],
   "source": [
    "# Repeat our plot from part 1 of draw minimums\n",
    "plt.hist(draw_minimums, bins = 100)\n",
    "plt.xticks(range(int(np.min(draw_minimums)), int(np.max(draw_minimums) + 1)))\n",
    "plt.show()"
   ]
  },
  {
   "cell_type": "code",
   "execution_count": 31,
   "id": "6508f4b6",
   "metadata": {},
   "outputs": [
    {
     "data": {
      "image/png": "[encoded data removed]",
      "text/plain": [
       "<Figure size 640x480 with 1 Axes>"
      ]
     },
     "metadata": {},
     "output_type": "display_data"
    }
   ],
   "source": [
    "# SWITCH TO DENSITY\n",
    "\n",
    "# We are looking for the 1st order statistic (1st smallest value), so in the beta k = 1\n",
    "beta_k = 1\n",
    "# In part 1 our sample was of size n*k = 18, so in the beta n = 18\n",
    "beta_n = 18\n",
    "# Numpy distribution to compare to\n",
    "actual_beta = np.random.beta(a = beta_k, b = beta_n + 1 - beta_k, size = 100)\n",
    "# Plot distribution\n",
    "plt.hist(actual_beta, bins = 100)\n",
    "plt.show()"
   ]
  },
  {
   "cell_type": "markdown",
   "id": "5bc7456e-e4f1-48af-92ef-cbe4177f9871",
   "metadata": {
    "user_expressions": []
   },
   "source": [
    "### 3.3. Exponential Distribution\n",
    "\n",
    "If we call $U_1$ the minimum number in the sample (Part 1), then make an histogram with the distribution of the transformed random variable given by \n",
    "$$\n",
    "X = - \\ln \\left( 1 - \\frac{U_1}{N} \\right)\n",
    "$$\n",
    "and compare this with the distribution of an exponential random variable with parameter $nk$, the total number of cards in the game. "
   ]
  },
  {
   "cell_type": "code",
   "execution_count": 32,
   "id": "103113a0",
   "metadata": {},
   "outputs": [
    {
     "data": {
      "image/png": "[encoded data removed]",
      "text/plain": [
       "<Figure size 640x480 with 1 Axes>"
      ]
     },
     "metadata": {},
     "output_type": "display_data"
    }
   ],
   "source": [
    "# For 100 draws, use min number in the sample to calculate transformed variable X\n",
    "# N = 100\n",
    "X_vals = [- np.log(1 - (sample_min / 100)) for sample_min in draw_minimums]\n",
    "\n",
    "# Plot distribution\n",
    "plt.hist(X_vals, bins = 100)\n",
    "plt.show()"
   ]
  },
  {
   "cell_type": "code",
   "execution_count": 33,
   "id": "abe974d1",
   "metadata": {},
   "outputs": [
    {
     "data": {
      "image/png": "[encoded data removed]",
      "text/plain": [
       "<Figure size 640x480 with 1 Axes>"
      ]
     },
     "metadata": {},
     "output_type": "display_data"
    }
   ],
   "source": [
    "# SWITCH TO DENSITY\n",
    "\n",
    "# Plot 100 exponential draws with parameter n*k (6*3 = 18 in our initial game)\n",
    "actual_expo = np.random.exponential(scale = 6*3, size = 100)\n",
    "# Plot distribution\n",
    "plt.hist(actual_expo, bins = 100)\n",
    "plt.show()"
   ]
  },
  {
   "cell_type": "markdown",
   "id": "0ad19b6e-5603-4b66-b379-6b79f5aaedf6",
   "metadata": {
    "user_expressions": []
   },
   "source": [
    "### 4. What happens when $n * k << N$?\n",
    "\n",
    "Some of the distributions we saw in previous sections are just approximate. Study what happens when we increase the number of cards. Try to understand how the cases of sampling with and without replacement compare as $n * k << N$. What do you expect to see in these cases? When will the difference between the two sampling strategies lead to similar or different results?"
   ]
  },
  {
   "cell_type": "markdown",
   "id": "188dffc9",
   "metadata": {},
   "source": [
    "We expect to see convergence of sampling with and without replacement when $n * k << N$. When N is large removing a number from the potential outcomes for a draw when you sample without replacement does not have much of an impact on overall probabilities. Here I keep `n*k` fixed and increase `N`."
   ]
  },
  {
   "cell_type": "code",
   "execution_count": 34,
   "id": "51994000",
   "metadata": {},
   "outputs": [
    {
     "name": "stdout",
     "output_type": "stream",
     "text": [
      "N is 20\n",
      "without replacement\n"
     ]
    },
    {
     "data": {
      "image/png": "[encoded data removed]",
      "text/plain": [
       "<Figure size 640x480 with 1 Axes>"
      ]
     },
     "metadata": {},
     "output_type": "display_data"
    },
    {
     "name": "stdout",
     "output_type": "stream",
     "text": [
      "with replacement\n"
     ]
    },
    {
     "data": {
      "image/png": "[encoded data removed]",
      "text/plain": [
       "<Figure size 640x480 with 1 Axes>"
      ]
     },
     "metadata": {},
     "output_type": "display_data"
    },
    {
     "name": "stdout",
     "output_type": "stream",
     "text": [
      "N is 50\n",
      "without replacement\n"
     ]
    },
    {
     "data": {
      "image/png": "[encoded data removed]",
      "text/plain": [
       "<Figure size 640x480 with 1 Axes>"
      ]
     },
     "metadata": {},
     "output_type": "display_data"
    },
    {
     "name": "stdout",
     "output_type": "stream",
     "text": [
      "with replacement\n"
     ]
    },
    {
     "data": {
      "image/png": "[encoded data removed]",
      "text/plain": [
       "<Figure size 640x480 with 1 Axes>"
      ]
     },
     "metadata": {},
     "output_type": "display_data"
    },
    {
     "name": "stdout",
     "output_type": "stream",
     "text": [
      "N is 100\n",
      "without replacement\n"
     ]
    },
    {
     "data": {
      "image/png": "[encoded data removed]",
      "text/plain": [
       "<Figure size 640x480 with 1 Axes>"
      ]
     },
     "metadata": {},
     "output_type": "display_data"
    },
    {
     "name": "stdout",
     "output_type": "stream",
     "text": [
      "with replacement\n"
     ]
    },
    {
     "data": {
      "image/png": "[encoded data removed]",
      "text/plain": [
       "<Figure size 640x480 with 1 Axes>"
      ]
     },
     "metadata": {},
     "output_type": "display_data"
    },
    {
     "name": "stdout",
     "output_type": "stream",
     "text": [
      "N is 500\n",
      "without replacement\n"
     ]
    },
    {
     "data": {
      "image/png": "[encoded data removed]",
      "text/plain": [
       "<Figure size 640x480 with 1 Axes>"
      ]
     },
     "metadata": {},
     "output_type": "display_data"
    },
    {
     "name": "stdout",
     "output_type": "stream",
     "text": [
      "with replacement\n"
     ]
    },
    {
     "data": {
      "image/png": "[encoded data removed]",
      "text/plain": [
       "<Figure size 640x480 with 1 Axes>"
      ]
     },
     "metadata": {},
     "output_type": "display_data"
    },
    {
     "name": "stdout",
     "output_type": "stream",
     "text": [
      "N is 1000\n",
      "without replacement\n"
     ]
    },
    {
     "data": {
      "image/png": "[encoded data removed]",
      "text/plain": [
       "<Figure size 640x480 with 1 Axes>"
      ]
     },
     "metadata": {},
     "output_type": "display_data"
    },
    {
     "name": "stdout",
     "output_type": "stream",
     "text": [
      "with replacement\n"
     ]
    },
    {
     "data": {
      "image/png": "[encoded data removed]",
      "text/plain": [
       "<Figure size 640x480 with 1 Axes>"
      ]
     },
     "metadata": {},
     "output_type": "display_data"
    }
   ],
   "source": [
    "growing_N = [20, 50, 100, 500, 1000]\n",
    "# INCREASE AS NEEDED TO SHOW THEY ARE THE SAME\n",
    "\n",
    "# Overlay histograms of cards from draws without and with replacement\n",
    "for N in growing_N:\n",
    "    draw_without_replacement = sample_cards(N, 6, 3)\n",
    "    draw_with_replacement = sample_cards_w_replacement(N, 6, 3)\n",
    "    print(\"N is \" + str(N))\n",
    "    print('without replacement')\n",
    "    plt.hist(draw_without_replacement.flatten(), bins = 100)\n",
    "    plt.show()\n",
    "    print('with replacement')\n",
    "    plt.hist(draw_with_replacement.flatten(), bins = 100)\n",
    "    plt.show()\n",
    "\n",
    "# Potentially need means? Or some other summary statistic? Can't just plot results and necessarily expect it to work out..."
   ]
  },
  {
   "cell_type": "markdown",
   "id": "d944ef54-38c2-46dc-a74f-2383625f9021",
   "metadata": {
    "user_expressions": []
   },
   "source": [
    "### Contribution statement\n",
    "\n",
    "Please include a list of the students you worked with during this project (including yourself). Include both names and GitHub usernames of the people you collaborated with. Maximum of three persons per group. \n",
    "- Member No1: Isaac Liu (ijyliu)\n",
    "- Member No2: \n",
    "- Member No3:"
   ]
  }
 ],
 "metadata": {
  "kernelspec": {
   "display_name": "Python 3 (ipykernel)",
   "language": "python",
   "name": "python3"
  },
  "language_info": {
   "codemirror_mode": {
    "name": "ipython",
    "version": 3
   },
   "file_extension": ".py",
   "mimetype": "text/x-python",
   "name": "python",
   "nbconvert_exporter": "python",
   "pygments_lexer": "ipython3",
   "version": "3.11.4"
  }
 },
 "nbformat": 4,
 "nbformat_minor": 5
}
