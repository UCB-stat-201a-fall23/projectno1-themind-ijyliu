{
 "cells": [
  {
   "cell_type": "markdown",
   "id": "4f2e3179-b4ae-4243-92eb-ed8d86df7c10",
   "metadata": {
    "user_expressions": []
   },
   "source": [
    "## Project No1 - The Mind\n",
    "\n",
    "Refer to the `README.md` for further information about how to play the game and the objectives for this first project. \n",
    "\n",
    "When writing code, we recommend you to be as modular as possible. For example, if you are running multiple experiments for different choices of parameters, it may be convenient to write a function that does one experiment and then make multiple calls to the same function. Follow the _do not repeat yourself_ rule when writing code! "
   ]
  },
  {
   "cell_type": "code",
   "execution_count": 2,
   "id": "130e891e-23be-4df7-8209-9c95c8ec6852",
   "metadata": {},
   "outputs": [],
   "source": [
    "import numpy as np\n",
    "import matplotlib.pyplot as plt"
   ]
  },
  {
   "cell_type": "code",
   "execution_count": 3,
   "id": "f6b1a276",
   "metadata": {},
   "outputs": [],
   "source": [
    "# Set seed for replicability\n",
    "import random\n",
    "random.seed(1234)"
   ]
  },
  {
   "cell_type": "markdown",
   "id": "d44bf2d2-6100-47ca-a6d3-55911388bc7e",
   "metadata": {
    "user_expressions": []
   },
   "source": [
    "Let's start by creating a function that generates one sample of the game. Feel free to change this code as you find it suitable, for example by changing how the sampling is created or if you want to sample cards with replacement (this could be useful for the last questions)."
   ]
  },
  {
   "cell_type": "code",
   "execution_count": 4,
   "id": "e4c2b253-1621-459a-ba5a-a76d6f46a64b",
   "metadata": {},
   "outputs": [],
   "source": [
    "def sample_cards(N, n, k):\n",
    "    \"\"\"\n",
    "    Generates a simulated sample of how the cards are shuffled among players. \n",
    "    \n",
    "    Arguments: \n",
    "        - N : Total number of cards\n",
    "        - n : Number of players\n",
    "        - k : Number of cards per player\n",
    "        \n",
    "    Returns: \n",
    "        - 2D numpy array where each row represent each player and each column their card in ascending order. \n",
    "    \"\"\"\n",
    "    \n",
    "    assert n * k <= N, \"There are not enough cards for all the players!\"\n",
    "    \n",
    "    _cards = np.random.choice(a=np.arange(1, N+1), size=n*k, replace=False)\n",
    "    _cards = _cards.reshape(n,k)\n",
    "    _cards.sort(axis=1)\n",
    "    return _cards"
   ]
  },
  {
   "cell_type": "markdown",
   "id": "efee53b7-0463-4c51-b106-e5d26fdc5a7e",
   "metadata": {
    "user_expressions": []
   },
   "source": [
    "Now we can just generate how cards are distributed among players by simply making a call to this function with the desired parameters. "
   ]
  },
  {
   "cell_type": "code",
   "execution_count": 5,
   "id": "1331d9b0-e485-4417-8c7d-4ce407c6e693",
   "metadata": {},
   "outputs": [
    {
     "data": {
      "text/plain": [
       "array([[25, 39, 85],\n",
       "       [ 9, 20, 49],\n",
       "       [ 5, 21, 29],\n",
       "       [11, 22, 84],\n",
       "       [24, 64, 71],\n",
       "       [23, 38, 50]])"
      ]
     },
     "execution_count": 5,
     "metadata": {},
     "output_type": "execute_result"
    }
   ],
   "source": [
    "cards = sample_cards(100, 6, 3)\n",
    "cards"
   ]
  },
  {
   "cell_type": "markdown",
   "id": "2f7cfb3b-b3bc-4064-92a4-35e96df2847d",
   "metadata": {
    "user_expressions": []
   },
   "source": [
    "and access the cards of each player with "
   ]
  },
  {
   "cell_type": "code",
   "execution_count": 6,
   "id": "36f4998e-61e0-4acd-b292-b447a0d6a8ed",
   "metadata": {},
   "outputs": [
    {
     "data": {
      "text/plain": [
       "(array([25, 39, 85]), array([ 9, 20, 49]))"
      ]
     },
     "execution_count": 6,
     "metadata": {},
     "output_type": "execute_result"
    }
   ],
   "source": [
    "player0 = cards[0,:]\n",
    "player1 = cards[1,:]\n",
    "player0, player1"
   ]
  },
  {
   "cell_type": "markdown",
   "id": "08d9de1a-3dc6-49ba-b08c-dba034839906",
   "metadata": {
    "user_expressions": []
   },
   "source": [
    "The lowest card in the game is"
   ]
  },
  {
   "cell_type": "code",
   "execution_count": 7,
   "id": "a68f743d",
   "metadata": {},
   "outputs": [
    {
     "data": {
      "text/plain": [
       "5"
      ]
     },
     "execution_count": 7,
     "metadata": {},
     "output_type": "execute_result"
    }
   ],
   "source": [
    "np.min(cards)"
   ]
  },
  {
   "cell_type": "markdown",
   "id": "68f581ae",
   "metadata": {},
   "source": [
    "This function creates a sequence of values from start (1) to stop (5) minus 1. "
   ]
  },
  {
   "cell_type": "code",
   "execution_count": 8,
   "id": "2f4766c6-7334-4d24-a0b5-20e5bfd44a63",
   "metadata": {},
   "outputs": [
    {
     "data": {
      "text/plain": [
       "array([1, 2, 3, 4])"
      ]
     },
     "execution_count": 8,
     "metadata": {},
     "output_type": "execute_result"
    }
   ],
   "source": [
    "np.arange(1, 5)"
   ]
  },
  {
   "cell_type": "markdown",
   "id": "755260c8-4ec3-49ed-a783-99629dd51cb8",
   "metadata": {
    "user_expressions": []
   },
   "source": [
    "### 1. What is the distribution of the lowest number? \n",
    "\n",
    "Repeat the sampling of the cards multiple times for the same choice of `N`, `n` and `k` and plot the distribution of the lowest number in the sample. Use an [histogram](https://matplotlib.org/stable/api/_as_gen/matplotlib.pyplot.hist.html) to plot the distribution and set the bins to be the available integer number cards. "
   ]
  },
  {
   "cell_type": "code",
   "execution_count": 9,
   "id": "12fe9c17-000b-472a-8380-915f6dfda5df",
   "metadata": {},
   "outputs": [
    {
     "data": {
      "text/plain": [
       "[array([[30, 72, 74],\n",
       "        [ 6, 50, 99],\n",
       "        [66, 69, 79],\n",
       "        [ 8,  9, 52],\n",
       "        [28, 39, 92],\n",
       "        [23, 60, 65]]),\n",
       " array([[ 2, 29, 40],\n",
       "        [ 9, 17, 21],\n",
       "        [10, 23, 96],\n",
       "        [16, 52, 78],\n",
       "        [22, 44, 70],\n",
       "        [12, 64, 75]]),\n",
       " array([[16, 19, 25],\n",
       "        [ 5, 88, 91],\n",
       "        [15, 36, 43],\n",
       "        [ 1, 41, 83],\n",
       "        [ 2, 80, 86],\n",
       "        [30, 59, 98]]),\n",
       " array([[ 35,  83,  94],\n",
       "        [ 34,  59,  92],\n",
       "        [ 40,  66,  88],\n",
       "        [ 39,  75,  91],\n",
       "        [  3,  48,  51],\n",
       "        [ 20,  23, 100]]),\n",
       " array([[  2,  48,  86],\n",
       "        [ 23,  50,  53],\n",
       "        [ 12,  63,  76],\n",
       "        [ 22,  51,  67],\n",
       "        [ 55,  71,  83],\n",
       "        [ 10,  44, 100]]),\n",
       " array([[36, 44, 77],\n",
       "        [10, 90, 95],\n",
       "        [42, 67, 73],\n",
       "        [37, 56, 74],\n",
       "        [38, 71, 85],\n",
       "        [15, 35, 82]]),\n",
       " array([[10, 30, 66],\n",
       "        [12, 13, 33],\n",
       "        [ 9, 26, 44],\n",
       "        [68, 81, 92],\n",
       "        [22, 32, 52],\n",
       "        [53, 57, 69]]),\n",
       " array([[85, 95, 99],\n",
       "        [37, 45, 59],\n",
       "        [ 4, 64, 72],\n",
       "        [35, 77, 97],\n",
       "        [10, 23, 40],\n",
       "        [24, 38, 55]]),\n",
       " array([[14, 50, 94],\n",
       "        [23, 30, 60],\n",
       "        [39, 41, 98],\n",
       "        [ 6, 67, 96],\n",
       "        [40, 47, 93],\n",
       "        [ 7, 29, 49]]),\n",
       " array([[ 1, 68, 97],\n",
       "        [35, 48, 50],\n",
       "        [20, 28, 67],\n",
       "        [18, 33, 64],\n",
       "        [71, 74, 87],\n",
       "        [11, 19, 73]]),\n",
       " array([[ 8, 12, 25],\n",
       "        [45, 86, 92],\n",
       "        [15, 87, 93],\n",
       "        [16, 39, 82],\n",
       "        [62, 89, 98],\n",
       "        [48, 63, 69]]),\n",
       " array([[ 5, 29, 52],\n",
       "        [15, 30, 88],\n",
       "        [17, 68, 72],\n",
       "        [24, 65, 78],\n",
       "        [10, 57, 62],\n",
       "        [ 4, 23, 25]]),\n",
       " array([[32, 38, 91],\n",
       "        [ 7, 17, 28],\n",
       "        [ 8, 20, 47],\n",
       "        [62, 70, 79],\n",
       "        [13, 34, 96],\n",
       "        [23, 24, 48]]),\n",
       " array([[10, 36, 82],\n",
       "        [58, 62, 76],\n",
       "        [21, 23, 24],\n",
       "        [39, 51, 85],\n",
       "        [42, 90, 92],\n",
       "        [ 5,  7, 99]]),\n",
       " array([[38, 80, 89],\n",
       "        [ 5, 18, 22],\n",
       "        [57, 84, 88],\n",
       "        [72, 75, 83],\n",
       "        [61, 66, 92],\n",
       "        [ 1, 47, 58]]),\n",
       " array([[ 2, 57, 83],\n",
       "        [87, 93, 94],\n",
       "        [ 1, 39, 82],\n",
       "        [ 3, 62, 96],\n",
       "        [42, 47, 50],\n",
       "        [ 4, 86, 95]]),\n",
       " array([[ 5, 21, 96],\n",
       "        [35, 51, 75],\n",
       "        [ 7, 68, 81],\n",
       "        [16, 20, 49],\n",
       "        [14, 71, 98],\n",
       "        [32, 40, 58]]),\n",
       " array([[26, 47, 95],\n",
       "        [ 8, 52, 67],\n",
       "        [38, 59, 79],\n",
       "        [41, 51, 66],\n",
       "        [18, 35, 58],\n",
       "        [10, 20, 89]]),\n",
       " array([[27, 65, 98],\n",
       "        [ 3,  9, 57],\n",
       "        [33, 56, 69],\n",
       "        [11, 76, 93],\n",
       "        [ 4, 28, 45],\n",
       "        [ 6, 15, 23]]),\n",
       " array([[25, 74, 81],\n",
       "        [24, 46, 93],\n",
       "        [17, 26, 36],\n",
       "        [ 3, 43, 56],\n",
       "        [54, 80, 86],\n",
       "        [37, 45, 47]]),\n",
       " array([[27, 55, 88],\n",
       "        [36, 70, 84],\n",
       "        [ 2,  8, 41],\n",
       "        [52, 68, 83],\n",
       "        [23, 87, 90],\n",
       "        [22, 73, 91]]),\n",
       " array([[34, 42, 93],\n",
       "        [59, 78, 98],\n",
       "        [19, 33, 47],\n",
       "        [27, 84, 85],\n",
       "        [ 3, 20, 88],\n",
       "        [29, 70, 79]]),\n",
       " array([[ 9, 12, 51],\n",
       "        [10, 80, 93],\n",
       "        [16, 18, 34],\n",
       "        [31, 44, 62],\n",
       "        [14, 72, 79],\n",
       "        [ 1, 54, 70]]),\n",
       " array([[ 9, 59, 85],\n",
       "        [31, 51, 56],\n",
       "        [26, 40, 99],\n",
       "        [60, 79, 94],\n",
       "        [16, 81, 95],\n",
       "        [19, 22, 46]]),\n",
       " array([[ 5, 20, 77],\n",
       "        [42, 43, 63],\n",
       "        [35, 50, 66],\n",
       "        [13, 62, 67],\n",
       "        [ 3, 29, 40],\n",
       "        [10, 37, 89]]),\n",
       " array([[48, 57, 86],\n",
       "        [16, 32, 54],\n",
       "        [68, 69, 97],\n",
       "        [29, 46, 77],\n",
       "        [34, 87, 99],\n",
       "        [19, 43, 52]]),\n",
       " array([[17, 20, 65],\n",
       "        [60, 93, 97],\n",
       "        [22, 26, 62],\n",
       "        [ 9, 11, 35],\n",
       "        [15, 32, 49],\n",
       "        [44, 50, 57]]),\n",
       " array([[18, 53, 54],\n",
       "        [24, 80, 98],\n",
       "        [33, 71, 85],\n",
       "        [ 8, 17, 73],\n",
       "        [44, 52, 58],\n",
       "        [51, 75, 91]]),\n",
       " array([[16, 22, 83],\n",
       "        [ 6, 64, 78],\n",
       "        [30, 82, 99],\n",
       "        [37, 49, 59],\n",
       "        [33, 70, 86],\n",
       "        [62, 92, 94]]),\n",
       " array([[10, 48, 53],\n",
       "        [46, 66, 99],\n",
       "        [29, 78, 90],\n",
       "        [15, 39, 57],\n",
       "        [14, 34, 36],\n",
       "        [18, 24, 59]]),\n",
       " array([[20, 34, 68],\n",
       "        [12, 63, 74],\n",
       "        [67, 88, 93],\n",
       "        [15, 49, 54],\n",
       "        [50, 77, 92],\n",
       "        [17, 28, 76]]),\n",
       " array([[ 41,  51,  99],\n",
       "        [ 20,  35,  57],\n",
       "        [ 22,  62,  79],\n",
       "        [ 18,  78, 100],\n",
       "        [ 70,  73,  77],\n",
       "        [ 17,  19,  69]]),\n",
       " array([[11, 14, 30],\n",
       "        [10, 36, 80],\n",
       "        [ 6, 74, 91],\n",
       "        [40, 55, 99],\n",
       "        [25, 28, 35],\n",
       "        [47, 50, 97]]),\n",
       " array([[27, 47, 87],\n",
       "        [ 1, 35, 82],\n",
       "        [42, 59, 63],\n",
       "        [13, 46, 79],\n",
       "        [49, 86, 98],\n",
       "        [55, 61, 99]]),\n",
       " array([[49, 77, 98],\n",
       "        [25, 74, 97],\n",
       "        [27, 46, 66],\n",
       "        [22, 33, 51],\n",
       "        [ 7, 43, 99],\n",
       "        [29, 71, 81]]),\n",
       " array([[ 5, 54, 88],\n",
       "        [18, 28, 44],\n",
       "        [17, 36, 55],\n",
       "        [ 1, 22, 25],\n",
       "        [11, 35, 90],\n",
       "        [30, 63, 96]]),\n",
       " array([[ 3, 43, 50],\n",
       "        [49, 61, 65],\n",
       "        [18, 39, 51],\n",
       "        [32, 45, 85],\n",
       "        [ 6, 12, 82],\n",
       "        [66, 97, 98]]),\n",
       " array([[18, 66, 93],\n",
       "        [ 8, 37, 63],\n",
       "        [40, 81, 87],\n",
       "        [51, 55, 96],\n",
       "        [16, 27, 59],\n",
       "        [53, 70, 92]]),\n",
       " array([[ 7, 18, 19],\n",
       "        [37, 38, 79],\n",
       "        [ 9, 53, 59],\n",
       "        [15, 72, 98],\n",
       "        [ 1, 39, 81],\n",
       "        [48, 55, 85]]),\n",
       " array([[  4,  45,  55],\n",
       "        [ 38,  50,  71],\n",
       "        [ 35,  48, 100],\n",
       "        [ 57,  73,  88],\n",
       "        [ 11,  68,  79],\n",
       "        [  5,  52,  83]]),\n",
       " array([[10, 31, 43],\n",
       "        [42, 52, 80],\n",
       "        [14, 18, 63],\n",
       "        [ 4, 37, 82],\n",
       "        [84, 85, 91],\n",
       "        [19, 48, 70]]),\n",
       " array([[30, 60, 62],\n",
       "        [10, 21, 23],\n",
       "        [13, 25, 88],\n",
       "        [28, 54, 57],\n",
       "        [ 3, 44, 56],\n",
       "        [ 1, 18, 90]]),\n",
       " array([[ 47,  52,  55],\n",
       "        [ 16,  67,  89],\n",
       "        [ 12,  41,  50],\n",
       "        [  6,  65,  76],\n",
       "        [ 30,  72, 100],\n",
       "        [  2,   4,  86]]),\n",
       " array([[32, 33, 61],\n",
       "        [72, 83, 91],\n",
       "        [92, 95, 96],\n",
       "        [37, 51, 71],\n",
       "        [19, 35, 86],\n",
       "        [12, 31, 94]]),\n",
       " array([[16, 44, 71],\n",
       "        [11, 48, 99],\n",
       "        [49, 64, 74],\n",
       "        [17, 39, 94],\n",
       "        [37, 50, 80],\n",
       "        [13, 61, 97]]),\n",
       " array([[12, 32, 80],\n",
       "        [28, 49, 98],\n",
       "        [ 4, 58, 79],\n",
       "        [20, 35, 82],\n",
       "        [53, 91, 97],\n",
       "        [34, 40, 67]]),\n",
       " array([[67, 77, 96],\n",
       "        [42, 62, 92],\n",
       "        [ 7, 17, 76],\n",
       "        [23, 46, 65],\n",
       "        [ 3, 48, 58],\n",
       "        [13, 43, 74]]),\n",
       " array([[ 5,  7, 27],\n",
       "        [36, 52, 67],\n",
       "        [53, 73, 88],\n",
       "        [10, 34, 68],\n",
       "        [ 4, 19, 35],\n",
       "        [11, 16, 79]]),\n",
       " array([[ 9, 30, 80],\n",
       "        [ 1,  6, 85],\n",
       "        [53, 71, 73],\n",
       "        [37, 74, 97],\n",
       "        [ 4, 82, 95],\n",
       "        [42, 68, 86]]),\n",
       " array([[25, 30, 63],\n",
       "        [ 1,  3, 61],\n",
       "        [22, 68, 84],\n",
       "        [36, 38, 98],\n",
       "        [ 2, 65, 97],\n",
       "        [52, 91, 92]]),\n",
       " array([[26, 59, 67],\n",
       "        [33, 35, 73],\n",
       "        [ 4, 17, 95],\n",
       "        [ 7, 21, 91],\n",
       "        [15, 38, 65],\n",
       "        [16, 61, 87]]),\n",
       " array([[ 41,  91,  93],\n",
       "        [ 15,  36,  94],\n",
       "        [  3,  10,  61],\n",
       "        [ 14,  57,  90],\n",
       "        [ 60,  84, 100],\n",
       "        [ 23,  33,  37]]),\n",
       " array([[38, 44, 83],\n",
       "        [21, 34, 68],\n",
       "        [ 8, 16, 77],\n",
       "        [13, 61, 70],\n",
       "        [24, 35, 62],\n",
       "        [ 4, 22, 92]]),\n",
       " array([[39, 61, 75],\n",
       "        [15, 49, 81],\n",
       "        [41, 51, 68],\n",
       "        [56, 83, 93],\n",
       "        [17, 27, 28],\n",
       "        [34, 62, 70]]),\n",
       " array([[16, 60, 98],\n",
       "        [ 1, 17, 27],\n",
       "        [ 6, 55, 77],\n",
       "        [35, 74, 78],\n",
       "        [51, 58, 73],\n",
       "        [ 5, 61, 71]]),\n",
       " array([[15, 49, 53],\n",
       "        [45, 63, 67],\n",
       "        [60, 91, 93],\n",
       "        [77, 79, 81],\n",
       "        [20, 43, 55],\n",
       "        [85, 88, 95]]),\n",
       " array([[ 4,  9, 56],\n",
       "        [10, 24, 35],\n",
       "        [28, 54, 59],\n",
       "        [22, 43, 66],\n",
       "        [29, 47, 94],\n",
       "        [ 7, 30, 48]]),\n",
       " array([[59, 74, 95],\n",
       "        [19, 29, 94],\n",
       "        [ 6, 72, 91],\n",
       "        [11, 47, 87],\n",
       "        [15, 18, 42],\n",
       "        [13, 61, 70]]),\n",
       " array([[ 56,  94, 100],\n",
       "        [  4,   7,  60],\n",
       "        [ 25,  45,  49],\n",
       "        [ 22,  71,  87],\n",
       "        [ 23,  40,  44],\n",
       "        [ 41,  79,  80]]),\n",
       " array([[13, 65, 92],\n",
       "        [41, 78, 79],\n",
       "        [17, 47, 82],\n",
       "        [ 1, 46, 76],\n",
       "        [31, 60, 61],\n",
       "        [43, 63, 67]]),\n",
       " array([[42, 49, 63],\n",
       "        [10, 34, 45],\n",
       "        [89, 90, 98],\n",
       "        [14, 26, 86],\n",
       "        [54, 87, 94],\n",
       "        [25, 43, 56]]),\n",
       " array([[  7,  10, 100],\n",
       "        [  8,  76,  98],\n",
       "        [ 51,  71,  77],\n",
       "        [ 29,  43,  79],\n",
       "        [ 28,  80,  89],\n",
       "        [  9,  16,  90]]),\n",
       " array([[16, 26, 59],\n",
       "        [40, 87, 89],\n",
       "        [ 3, 60, 84],\n",
       "        [13, 27, 72],\n",
       "        [32, 36, 37],\n",
       "        [11, 24, 33]]),\n",
       " array([[24, 66, 88],\n",
       "        [10, 41, 65],\n",
       "        [13, 34, 39],\n",
       "        [40, 51, 56],\n",
       "        [ 1, 80, 91],\n",
       "        [48, 75, 79]]),\n",
       " array([[46, 70, 86],\n",
       "        [37, 57, 71],\n",
       "        [20, 29, 72],\n",
       "        [ 2, 12, 53],\n",
       "        [51, 67, 80],\n",
       "        [17, 66, 92]]),\n",
       " array([[ 2, 15, 88],\n",
       "        [ 6, 34, 42],\n",
       "        [20, 47, 96],\n",
       "        [32, 55, 66],\n",
       "        [18, 21, 57],\n",
       "        [ 1, 16, 95]]),\n",
       " array([[  1,  30,  37],\n",
       "        [ 22,  24,  39],\n",
       "        [  3,   6,  42],\n",
       "        [ 21,  53,  76],\n",
       "        [ 41,  55,  70],\n",
       "        [ 49,  73, 100]]),\n",
       " array([[ 8, 53, 86],\n",
       "        [20, 39, 93],\n",
       "        [21, 75, 97],\n",
       "        [51, 74, 87],\n",
       "        [13, 49, 81],\n",
       "        [26, 38, 66]]),\n",
       " array([[37, 86, 96],\n",
       "        [59, 70, 89],\n",
       "        [ 4, 23, 28],\n",
       "        [ 8, 38, 82],\n",
       "        [58, 71, 93],\n",
       "        [17, 43, 65]]),\n",
       " array([[ 8, 12, 84],\n",
       "        [ 7, 13, 75],\n",
       "        [48, 58, 60],\n",
       "        [53, 96, 97],\n",
       "        [43, 71, 73],\n",
       "        [38, 42, 82]]),\n",
       " array([[14, 33, 61],\n",
       "        [ 5, 30, 74],\n",
       "        [17, 50, 56],\n",
       "        [37, 75, 76],\n",
       "        [24, 36, 79],\n",
       "        [47, 53, 86]]),\n",
       " array([[ 11,  62,  81],\n",
       "        [ 34,  41, 100],\n",
       "        [ 55,  69,  78],\n",
       "        [ 50,  56,  85],\n",
       "        [ 16,  64,  80],\n",
       "        [  7,  22,  70]]),\n",
       " array([[ 1,  6, 15],\n",
       "        [22, 44, 85],\n",
       "        [14, 86, 90],\n",
       "        [ 5, 27, 91],\n",
       "        [ 4, 42, 57],\n",
       "        [60, 72, 92]]),\n",
       " array([[62, 77, 99],\n",
       "        [22, 31, 51],\n",
       "        [ 5, 66, 76],\n",
       "        [10, 24, 53],\n",
       "        [38, 45, 91],\n",
       "        [ 3, 20, 42]]),\n",
       " array([[11, 25, 86],\n",
       "        [16, 42, 69],\n",
       "        [32, 34, 72],\n",
       "        [ 4, 57, 93],\n",
       "        [43, 50, 95],\n",
       "        [37, 51, 80]]),\n",
       " array([[11, 39, 51],\n",
       "        [12, 56, 68],\n",
       "        [23, 28, 48],\n",
       "        [72, 92, 96],\n",
       "        [17, 44, 80],\n",
       "        [41, 53, 58]]),\n",
       " array([[62, 92, 95],\n",
       "        [69, 78, 91],\n",
       "        [22, 34, 90],\n",
       "        [ 2, 17, 43],\n",
       "        [58, 83, 93],\n",
       "        [18, 64, 84]]),\n",
       " array([[ 11,  50, 100],\n",
       "        [ 16,  77,  79],\n",
       "        [ 33,  80,  83],\n",
       "        [ 26,  29,  56],\n",
       "        [  6,  22,  71],\n",
       "        [ 45,  73,  82]]),\n",
       " array([[ 11,  91, 100],\n",
       "        [ 17,  67,  98],\n",
       "        [ 16,  47,  49],\n",
       "        [  9,  85,  94],\n",
       "        [ 25,  43,  84],\n",
       "        [ 50,  75,  81]]),\n",
       " array([[24, 42, 45],\n",
       "        [35, 47, 55],\n",
       "        [10, 53, 92],\n",
       "        [19, 80, 91],\n",
       "        [56, 62, 93],\n",
       "        [36, 68, 69]]),\n",
       " array([[ 4, 29, 39],\n",
       "        [23, 77, 83],\n",
       "        [27, 53, 65],\n",
       "        [10, 74, 92],\n",
       "        [20, 21, 36],\n",
       "        [31, 73, 96]]),\n",
       " array([[32, 83, 91],\n",
       "        [ 2, 30, 84],\n",
       "        [18, 22, 45],\n",
       "        [27, 50, 72],\n",
       "        [12, 57, 69],\n",
       "        [28, 70, 85]]),\n",
       " array([[ 7, 49, 88],\n",
       "        [40, 60, 78],\n",
       "        [54, 58, 83],\n",
       "        [ 2, 15, 71],\n",
       "        [52, 57, 68],\n",
       "        [ 9, 14, 44]]),\n",
       " array([[28, 41, 94],\n",
       "        [17, 78, 87],\n",
       "        [ 2, 24, 66],\n",
       "        [42, 58, 80],\n",
       "        [30, 35, 89],\n",
       "        [ 3, 16, 19]]),\n",
       " array([[ 34,  40,  57],\n",
       "        [ 30,  66,  95],\n",
       "        [ 60,  84, 100],\n",
       "        [  2,  22,  67],\n",
       "        [  4,  70,  71],\n",
       "        [ 36,  43,  88]]),\n",
       " array([[13, 46, 69],\n",
       "        [ 6, 30, 73],\n",
       "        [28, 42, 96],\n",
       "        [51, 56, 60],\n",
       "        [36, 53, 61],\n",
       "        [58, 86, 89]]),\n",
       " array([[ 3, 32, 87],\n",
       "        [42, 53, 63],\n",
       "        [15, 18, 90],\n",
       "        [ 9, 48, 78],\n",
       "        [50, 61, 72],\n",
       "        [14, 44, 83]]),\n",
       " array([[21, 33, 60],\n",
       "        [13, 44, 63],\n",
       "        [16, 27, 85],\n",
       "        [12, 59, 86],\n",
       "        [51, 52, 96],\n",
       "        [ 4, 10, 66]]),\n",
       " array([[29, 59, 86],\n",
       "        [26, 36, 67],\n",
       "        [50, 74, 96],\n",
       "        [30, 33, 60],\n",
       "        [37, 89, 91],\n",
       "        [28, 35, 54]]),\n",
       " array([[18, 47, 74],\n",
       "        [38, 68, 93],\n",
       "        [12, 14, 73],\n",
       "        [37, 44, 80],\n",
       "        [ 7, 41, 45],\n",
       "        [75, 78, 83]]),\n",
       " array([[38, 41, 78],\n",
       "        [ 5, 23, 52],\n",
       "        [ 2, 79, 93],\n",
       "        [24, 32, 82],\n",
       "        [21, 26, 94],\n",
       "        [14, 45, 74]]),\n",
       " array([[ 28,  81, 100],\n",
       "        [  7,  46,  80],\n",
       "        [  2,  39,  45],\n",
       "        [ 12,  30,  50],\n",
       "        [ 35,  37,  86],\n",
       "        [ 13,  67,  77]]),\n",
       " array([[ 3, 23, 60],\n",
       "        [29, 66, 87],\n",
       "        [11, 19, 79],\n",
       "        [55, 91, 96],\n",
       "        [31, 35, 57],\n",
       "        [41, 45, 67]]),\n",
       " array([[28, 40, 42],\n",
       "        [11, 50, 84],\n",
       "        [ 5, 23, 60],\n",
       "        [49, 54, 96],\n",
       "        [ 2, 34, 56],\n",
       "        [ 1, 53, 94]]),\n",
       " array([[ 36,  46,  59],\n",
       "        [  7,  11,  79],\n",
       "        [  8,  43,  78],\n",
       "        [  5,  22,  66],\n",
       "        [ 37,  77,  80],\n",
       "        [ 18,  47, 100]]),\n",
       " array([[21, 52, 66],\n",
       "        [41, 86, 99],\n",
       "        [ 5, 28, 79],\n",
       "        [50, 71, 98],\n",
       "        [10, 65, 89],\n",
       "        [56, 94, 97]]),\n",
       " array([[39, 60, 99],\n",
       "        [78, 90, 92],\n",
       "        [28, 65, 79],\n",
       "        [ 1, 41, 74],\n",
       "        [56, 67, 95],\n",
       "        [18, 61, 88]]),\n",
       " array([[49, 74, 76],\n",
       "        [14, 40, 68],\n",
       "        [35, 58, 64],\n",
       "        [ 5, 10, 91],\n",
       "        [12, 15, 39],\n",
       "        [36, 41, 99]]),\n",
       " array([[ 2, 45, 75],\n",
       "        [54, 67, 83],\n",
       "        [39, 65, 72],\n",
       "        [37, 38, 81],\n",
       "        [30, 44, 74],\n",
       "        [62, 78, 94]]),\n",
       " array([[31, 44, 71],\n",
       "        [15, 21, 83],\n",
       "        [43, 62, 94],\n",
       "        [ 5, 29, 47],\n",
       "        [20, 65, 75],\n",
       "        [27, 50, 74]])]"
      ]
     },
     "execution_count": 9,
     "metadata": {},
     "output_type": "execute_result"
    }
   ],
   "source": [
    "# Make 100 draws\n",
    "card_draws = [sample_cards(100, 6, 3) for i in range(100)]\n",
    "card_draws"
   ]
  },
  {
   "cell_type": "code",
   "execution_count": 10,
   "id": "279964cb",
   "metadata": {},
   "outputs": [
    {
     "data": {
      "text/plain": [
       "[6,\n",
       " 2,\n",
       " 1,\n",
       " 3,\n",
       " 2,\n",
       " 10,\n",
       " 9,\n",
       " 4,\n",
       " 6,\n",
       " 1,\n",
       " 8,\n",
       " 4,\n",
       " 7,\n",
       " 5,\n",
       " 1,\n",
       " 1,\n",
       " 5,\n",
       " 8,\n",
       " 3,\n",
       " 3,\n",
       " 2,\n",
       " 3,\n",
       " 1,\n",
       " 9,\n",
       " 3,\n",
       " 16,\n",
       " 9,\n",
       " 8,\n",
       " 6,\n",
       " 10,\n",
       " 12,\n",
       " 17,\n",
       " 6,\n",
       " 1,\n",
       " 7,\n",
       " 1,\n",
       " 3,\n",
       " 8,\n",
       " 1,\n",
       " 4,\n",
       " 4,\n",
       " 1,\n",
       " 2,\n",
       " 12,\n",
       " 11,\n",
       " 4,\n",
       " 3,\n",
       " 4,\n",
       " 1,\n",
       " 1,\n",
       " 4,\n",
       " 3,\n",
       " 4,\n",
       " 15,\n",
       " 1,\n",
       " 15,\n",
       " 4,\n",
       " 6,\n",
       " 4,\n",
       " 1,\n",
       " 10,\n",
       " 7,\n",
       " 3,\n",
       " 1,\n",
       " 2,\n",
       " 1,\n",
       " 1,\n",
       " 8,\n",
       " 4,\n",
       " 7,\n",
       " 5,\n",
       " 7,\n",
       " 1,\n",
       " 3,\n",
       " 4,\n",
       " 11,\n",
       " 2,\n",
       " 6,\n",
       " 9,\n",
       " 10,\n",
       " 4,\n",
       " 2,\n",
       " 2,\n",
       " 2,\n",
       " 2,\n",
       " 6,\n",
       " 3,\n",
       " 4,\n",
       " 26,\n",
       " 7,\n",
       " 2,\n",
       " 2,\n",
       " 3,\n",
       " 1,\n",
       " 5,\n",
       " 5,\n",
       " 1,\n",
       " 5,\n",
       " 2,\n",
       " 5]"
      ]
     },
     "execution_count": 10,
     "metadata": {},
     "output_type": "execute_result"
    }
   ],
   "source": [
    "# Get minimum for each draw. Loop over draws, take array minimum\n",
    "draw_minimums = [np.min(a) for a in card_draws]\n",
    "draw_minimums"
   ]
  },
  {
   "cell_type": "code",
   "execution_count": 60,
   "id": "ce26cc59",
   "metadata": {},
   "outputs": [
    {
     "data": {
      "image/png": "[encoded data removed]",
      "text/plain": [
       "<Figure size 640x480 with 1 Axes>"
      ]
     },
     "metadata": {},
     "output_type": "display_data"
    }
   ],
   "source": [
    "from scipy import stats\n",
    "\n",
    "# Histogram, N bins for N cards available\n",
    "plt.hist(draw_minimums, bins = 100)\n",
    "# X ticks from 0 to largest value of the min\n",
    "plt.xticks(range(int(np.min(draw_minimums)), int(np.max(draw_minimums) + 1)))\n",
    "# Reduce size of X ticks\n",
    "plt.xticks(size = 8)\n",
    "# Y ticks from 0 to the number of values of the most frequent value\n",
    "plt.yticks(range(0, len([i for i in list(draw_minimums) if i == stats.mode(draw_minimums)[0]]) + 1))\n",
    "# Show plot\n",
    "plt.show()"
   ]
  },
  {
   "cell_type": "markdown",
   "id": "b9b63c3c-5cd0-4090-910b-06ded98c5497",
   "metadata": {
    "user_expressions": []
   },
   "source": [
    "### 2. What is the distribution of the largest gap?\n",
    "\n",
    "For each simulation, find the largest distance between consecutive numbers in the game. To make this easy, let us first consider the largest gap among the pool of **all** the cards among players (if the largest gap is happening in the hand of one single player, that is ok). This will make the analysis more simple. "
   ]
  },
  {
   "cell_type": "code",
   "execution_count": 12,
   "id": "e5f8d4c0",
   "metadata": {},
   "outputs": [],
   "source": [
    "# Function: Given a game/draw of cards, compute the maximum gap between consecutive cards\n",
    "def get_max_consecutive_gap(cards):\n",
    "    # Flatten array to one dimension\n",
    "    flat_cards = cards.flatten()\n",
    "    # Get the ordered list of indices that would sort flat_cards\n",
    "    order_ids = np.argsort(flat_cards)\n",
    "    # Compute differences between between consecutively ordered cards\n",
    "    gap_cards = np.diff(flat_cards[order_ids])\n",
    "    # Return maximum gap between between ordered cards\n",
    "    return np.max(gap_cards)"
   ]
  },
  {
   "cell_type": "code",
   "execution_count": 13,
   "id": "11dde92c",
   "metadata": {},
   "outputs": [
    {
     "name": "stdout",
     "output_type": "stream",
     "text": [
      "[[30 90]\n",
      " [ 2 25]]\n",
      "60\n"
     ]
    }
   ],
   "source": [
    "# Test function on a known result\n",
    "# player 1: {30, 90}\n",
    "# player 2: {2, 25}\n",
    "test_cards = np.array([[30, 90], [2, 25]])\n",
    "print(test_cards)\n",
    "# Should be 60\n",
    "print(get_max_consecutive_gap(test_cards))"
   ]
  },
  {
   "cell_type": "markdown",
   "id": "6c0d3228-b157-4b86-a28a-1e5dc629a17c",
   "metadata": {
    "user_expressions": []
   },
   "source": [
    "Repeat the experiment but now compute the largest gap between cards of different players. This is the gap that actually matters for the purposes of the game: what is the maximum number of numbers that a player will have to wait before playing the next card?"
   ]
  },
  {
   "cell_type": "code",
   "execution_count": 14,
   "id": "80c70a7d",
   "metadata": {},
   "outputs": [],
   "source": [
    "# Function: Given a game/draw of cards, compute the maximum gap between consecutive cards from different players\n",
    "# Similar to the earlier function, except that we now keep track of and test differences in player ids, keeping non-zero ones\n",
    "def get_max_consecutive_gap_between_players(cards):\n",
    "    # Number of players (n) is the number of rows\n",
    "    num_players = np.shape(cards)[0]\n",
    "    # Number of cards per player (k) is the number of columns\n",
    "    num_cards_per_player = np.shape(cards)[1]\n",
    "    # Create a template with the same shape as the cards, but with player id numbers for tracking after sorting\n",
    "    # arange creates an array of the player ids ([1, 2, 3, 4, 5, 6], etc.)\n",
    "    # tile repeats the array k/num_cards times, each time on a new row (since we passed k as a row argument, 1 as col argument)\n",
    "    # We transpose the result to match the card array shape\n",
    "    player_ids = np.tile(np.arange(1, num_players + 1), (num_cards_per_player, 1)).T\n",
    "    # Flatten arrays to one dimension\n",
    "    flat_cards, flat_ids = cards.flatten(), player_ids.flatten()\n",
    "    # Get the ordered list of indices that would sort flat_cards\n",
    "    order_ids = np.argsort(flat_cards)\n",
    "    # Compute differences between consecutively ordered cards\n",
    "    gap_cards = np.diff(flat_cards[order_ids])\n",
    "    # Compute gap in ids as well so we can see if the gap is between players with the same id\n",
    "    gap_ids = np.diff(flat_ids[order_ids])\n",
    "    # Set the gap to 0 when it is within the same player\n",
    "    # Element wise multiplication of gap_cards with an array of indicators for whether the gap is between cards of the same player\n",
    "    gap_unique = gap_cards * (gap_ids != 0)\n",
    "    # Return maximum gap between players\n",
    "    return np.max(gap_unique)"
   ]
  },
  {
   "cell_type": "code",
   "execution_count": 15,
   "id": "0fe3748d",
   "metadata": {},
   "outputs": [
    {
     "name": "stdout",
     "output_type": "stream",
     "text": [
      "[[50 75 78]\n",
      " [15 21 46]\n",
      " [14 39 77]\n",
      " [63 70 96]\n",
      " [19 26 33]]\n",
      "18\n"
     ]
    }
   ],
   "source": [
    "# Testing the function on a known result\n",
    "test_cards = np.array([[50, 75, 78], [15, 21, 46], [14, 39, 77], [63, 70, 96], [19, 26, 33]])\n",
    "print(test_cards)\n",
    "# Should be 18\n",
    "print(get_max_consecutive_gap_between_players(test_cards))"
   ]
  },
  {
   "cell_type": "code",
   "execution_count": 16,
   "id": "70b886f8",
   "metadata": {},
   "outputs": [
    {
     "name": "stdout",
     "output_type": "stream",
     "text": [
      "[[30 90]\n",
      " [ 2 25]]\n",
      "5\n"
     ]
    }
   ],
   "source": [
    "# Test function on a known result\n",
    "# player 1: {30, 90}\n",
    "# player 2: {2, 25}\n",
    "test_cards = np.array([[30, 90], [2, 25]])\n",
    "print(test_cards)\n",
    "# Should be 5\n",
    "print(get_max_consecutive_gap_between_players(test_cards))"
   ]
  },
  {
   "cell_type": "markdown",
   "id": "d16b0bb5-9d21-4b46-99ec-15b385e5214a",
   "metadata": {
    "user_expressions": []
   },
   "source": [
    "How do these compare? "
   ]
  },
  {
   "cell_type": "code",
   "execution_count": 17,
   "id": "6ebd8516",
   "metadata": {},
   "outputs": [],
   "source": [
    "# Compute max gaps under both methods in our original 100 card draws (card_draws)\n",
    "all_cards_max_gaps = [get_max_consecutive_gap(cards) for cards in card_draws]\n",
    "between_players_max_gaps = [get_max_consecutive_gap_between_players(cards) for cards in card_draws]"
   ]
  },
  {
   "cell_type": "code",
   "execution_count": 18,
   "id": "c81c4569",
   "metadata": {},
   "outputs": [
    {
     "name": "stdout",
     "output_type": "stream",
     "text": [
      "17.17\n",
      "16.49\n"
     ]
    }
   ],
   "source": [
    "# Going to check the mean\n",
    "print(np.mean(all_cards_max_gaps))\n",
    "print(np.mean(between_players_max_gaps))"
   ]
  },
  {
   "cell_type": "code",
   "execution_count": 19,
   "id": "eb6f69cd",
   "metadata": {},
   "outputs": [
    {
     "data": {
      "image/png": "[encoded data removed]",
      "text/plain": [
       "<Figure size 640x480 with 1 Axes>"
      ]
     },
     "metadata": {},
     "output_type": "display_data"
    },
    {
     "data": {
      "image/png": "[encoded data removed]",
      "text/plain": [
       "<Figure size 640x480 with 1 Axes>"
      ]
     },
     "metadata": {},
     "output_type": "display_data"
    }
   ],
   "source": [
    "# Plot histogram of distribution of max gaps under each method\n",
    "# Use the same x axis on both plots to make comparison easy\n",
    "\n",
    "plt.hist(all_cards_max_gaps, bins = 100)\n",
    "plt.xticks(range(5, 30))\n",
    "plt.title('All card comparisons')\n",
    "plt.show()\n",
    "\n",
    "plt.hist(between_players_max_gaps, bins = 100)\n",
    "plt.xticks(range(5, 30))\n",
    "plt.title('Comparisons between players')\n",
    "plt.show()\n",
    "\n",
    "\n",
    "# JUST SHOWING SHIFTING DISTRIBUTION"
   ]
  },
  {
   "cell_type": "markdown",
   "id": "05fadc12",
   "metadata": {},
   "source": [
    "Answer: Gaps are slightly larger when we consider all card comparisons, not just those between players, though they are close."
   ]
  },
  {
   "cell_type": "markdown",
   "id": "dd731299",
   "metadata": {},
   "source": [
    "Run simulations for different choices of the number of cards and players and see when the difference between these two is larger.\n",
    "\n",
    "Compute the mean of the two distributions. When is this difference larger? How does this depends of the total number of players `n`?"
   ]
  },
  {
   "cell_type": "code",
   "execution_count": 20,
   "id": "7817dedb",
   "metadata": {},
   "outputs": [],
   "source": [
    "# Lists of N, n, and k to try\n",
    "# - N : Total number of cards\n",
    "# - n : Number of players\n",
    "# - k : Number of cards per player\n",
    "N_to_try = [50, 100, 200]\n",
    "n_to_try = [3, 6, 10]\n",
    "k_to_try = [2, 3, 5]\n",
    "\n",
    "# Empty dataframe to store results\n",
    "# For now, going to store the means\n",
    "import pandas as pd\n",
    "means_df = pd.DataFrame(columns=['N', 'n', 'k', 'All Comparisons Mean', 'Between Player Mean'])\n",
    "\n",
    "# Create list of 100 draws for each combination of N, n, k\n",
    "for N in N_to_try:\n",
    "    for n in n_to_try:\n",
    "        for k in k_to_try:\n",
    "            # Create 100 draws\n",
    "            parameter_draws = [sample_cards(N, n, k) for i in range(100)]\n",
    "            # List of max gaps with an entry for each of the 100 draws\n",
    "            ac_max_gaps = [get_max_consecutive_gap(cards) for cards in parameter_draws]\n",
    "            bp_max_gaps = [get_max_consecutive_gap_between_players(cards) for cards in parameter_draws]\n",
    "            # Compute means\n",
    "            mean_ac = np.mean(ac_max_gaps)\n",
    "            mean_bp = np.mean(bp_max_gaps)\n",
    "            # Add parameters and means to dataframe\n",
    "            means_df = pd.concat([means_df, pd.DataFrame([[N, n, k, mean_ac, mean_bp]], columns=['N', 'n', 'k', 'All Comparisons Mean', 'Between Player Mean'])])"
   ]
  },
  {
   "cell_type": "code",
   "execution_count": 21,
   "id": "b9a3d8e5",
   "metadata": {},
   "outputs": [],
   "source": [
    "# Add difference in means as a column\n",
    "means_df['AC minus BP'] = means_df['All Comparisons Mean'] - means_df['Between Player Mean']"
   ]
  },
  {
   "cell_type": "code",
   "execution_count": 22,
   "id": "608c3240",
   "metadata": {},
   "outputs": [
    {
     "name": "stdout",
     "output_type": "stream",
     "text": [
      "     N   n  k  All Comparisons Mean  Between Player Mean  AC minus BP\n",
      "0   50  10  5                  1.00                 1.00         0.00\n",
      "0   50  10  2                  6.92                 6.83         0.09\n",
      "0   50  10  3                  4.73                 4.64         0.09\n",
      "0  100  10  5                  7.02                 6.88         0.14\n",
      "0  100  10  2                 15.47                15.31         0.16\n",
      "0   50   6  3                  8.04                 7.85         0.19\n",
      "0  200  10  5                 16.18                15.98         0.20\n",
      "0  200  10  2                 31.52                31.28         0.24\n",
      "0   50   6  5                  4.81                 4.55         0.26\n",
      "0  100   6  3                 17.35                17.07         0.28\n",
      "0  100  10  3                 11.45                11.14         0.31\n",
      "0  100   6  5                 11.44                11.12         0.32\n",
      "0   50   6  2                 10.85                10.47         0.38\n",
      "0  200  10  3                 24.69                24.20         0.49\n",
      "0   50   3  5                  8.62                 7.74         0.88\n",
      "0  100   6  2                 22.34                21.43         0.91\n",
      "0  200   6  5                 24.22                23.03         1.19\n",
      "0  200   6  2                 45.54                44.30         1.24\n",
      "0   50   3  2                 14.92                13.66         1.26\n",
      "0  200   6  3                 34.98                33.69         1.29\n",
      "0   50   3  3                 12.71                11.41         1.30\n",
      "0  100   3  3                 24.84                23.22         1.62\n",
      "0  100   3  5                 18.90                16.95         1.95\n",
      "0  100   3  2                 31.87                28.83         3.04\n",
      "0  200   3  2                 68.37                64.57         3.80\n",
      "0  200   3  5                 40.97                36.87         4.10\n",
      "0  200   3  3                 55.05                49.71         5.34\n"
     ]
    }
   ],
   "source": [
    "# Print dataframe. Sort by AC minus BP\n",
    "print(means_df.sort_values(by='AC minus BP'))"
   ]
  },
  {
   "cell_type": "code",
   "execution_count": 23,
   "id": "e54ff325",
   "metadata": {},
   "outputs": [
    {
     "name": "stdout",
     "output_type": "stream",
     "text": [
      "[[ 2 14 27 42 45]\n",
      " [19 34 44 47 50]\n",
      " [ 4  9 13 16 23]\n",
      " [10 29 36 41 43]\n",
      " [ 1 15 30 35 48]\n",
      " [20 24 31 32 39]\n",
      " [ 8 21 33 37 40]\n",
      " [ 5  6 25 38 46]\n",
      " [11 12 17 18 26]\n",
      " [ 3  7 22 28 49]]\n",
      "1\n"
     ]
    }
   ],
   "source": [
    "# PROBLEM - for N = 50, n = 10, k = 5, why is the between player mean 1? \n",
    "# Though all the cards are in play, it seems like at least some comparisons would be ruled out...\n",
    "\n",
    "# NOTE - not a problem. when all cards are in play, the max gap between players should always be 1.\n",
    "# This is because we are computing the gaps, based on the order statistics, first (all 1). \n",
    "# Then we are throwing out those gaps that are not between players. The max of what remains is 1.\n",
    "\n",
    "# Try to test\n",
    "test_draw = sample_cards(50, 10, 5)\n",
    "print(test_draw)\n",
    "print(get_max_consecutive_gap_between_players(test_draw))"
   ]
  },
  {
   "cell_type": "code",
   "execution_count": 24,
   "id": "695a8b6e",
   "metadata": {},
   "outputs": [
    {
     "name": "stdout",
     "output_type": "stream",
     "text": [
      "     N   n  k  All Comparisons Mean  Between Player Mean  AC minus BP\n",
      "0   50  10  2                  6.92                 6.83         0.09\n",
      "0   50   6  2                 10.85                10.47         0.38\n",
      "0   50   3  2                 14.92                13.66         1.26\n",
      "0   50  10  3                  4.73                 4.64         0.09\n",
      "0   50   6  3                  8.04                 7.85         0.19\n",
      "0   50   3  3                 12.71                11.41         1.30\n",
      "0   50  10  5                  1.00                 1.00         0.00\n",
      "0   50   6  5                  4.81                 4.55         0.26\n",
      "0   50   3  5                  8.62                 7.74         0.88\n",
      "0  100  10  2                 15.47                15.31         0.16\n",
      "0  100   6  2                 22.34                21.43         0.91\n",
      "0  100   3  2                 31.87                28.83         3.04\n",
      "0  100   6  3                 17.35                17.07         0.28\n",
      "0  100  10  3                 11.45                11.14         0.31\n",
      "0  100   3  3                 24.84                23.22         1.62\n",
      "0  100  10  5                  7.02                 6.88         0.14\n",
      "0  100   6  5                 11.44                11.12         0.32\n",
      "0  100   3  5                 18.90                16.95         1.95\n",
      "0  200  10  2                 31.52                31.28         0.24\n",
      "0  200   6  2                 45.54                44.30         1.24\n",
      "0  200   3  2                 68.37                64.57         3.80\n",
      "0  200  10  3                 24.69                24.20         0.49\n",
      "0  200   6  3                 34.98                33.69         1.29\n",
      "0  200   3  3                 55.05                49.71         5.34\n",
      "0  200  10  5                 16.18                15.98         0.20\n",
      "0  200   6  5                 24.22                23.03         1.19\n",
      "0  200   3  5                 40.97                36.87         4.10\n"
     ]
    }
   ],
   "source": [
    "# Sort by N and k to see impact of n\n",
    "print(means_df.sort_values(by=['N', 'k', 'AC minus BP']))"
   ]
  },
  {
   "cell_type": "markdown",
   "id": "ff4856c3",
   "metadata": {},
   "source": [
    "We can see that the difference in mean maximum gaps tends to be largest when number of players `n` is low. When there are few players, limiting to gaps in between players has a large effect, as many more pairings of cards are not allowed when calculating the max."
   ]
  },
  {
   "cell_type": "markdown",
   "id": "c14b7f5b-23b7-4a73-b67b-8d4433fae9e2",
   "metadata": {
    "user_expressions": []
   },
   "source": [
    "### 3. Deriving distributions\n",
    "\n",
    "For this section, we are going to use the random sampling generating process from _The Mind_ to investigate and find some familiar distributions."
   ]
  },
  {
   "cell_type": "markdown",
   "id": "366396c5-7a5f-461c-a86e-0a5b528e3791",
   "metadata": {
    "user_expressions": []
   },
   "source": [
    "### 3.1. Binomial Distribution \n",
    "\n",
    "Can you think about any way of deriving the binomial distribution? Based on the output of one single game (function `sample_game()`), try to derive something that has Binomial distribution for certain parameter $p$. Run multiple simulations to see this and compare the obtained empirical distribution with the distribution of the binomial distribution (check `numpy.random.binomial` and `scipy.stats.binom`). "
   ]
  },
  {
   "cell_type": "markdown",
   "id": "7f18484b",
   "metadata": {},
   "source": [
    "If we modify our draws of cards for the game to be with replacement, the number of cards above `N/2` will be distributed binomial. The binomial parameter `n` is the number of cards in play (`n*k` for our card game sampling). A card is above `N/2` with probability `p = 1/2`."
   ]
  },
  {
   "cell_type": "code",
   "execution_count": 25,
   "id": "34da5242",
   "metadata": {},
   "outputs": [],
   "source": [
    "# Here I modify the card sampling to be with replacement\n",
    "def sample_cards_w_replacement(N, n, k):\n",
    "    \"\"\"\n",
    "    Generates a simulated sample of how the cards are shuffled among players. \n",
    "    \n",
    "    Arguments: \n",
    "        - N : Total number of cards\n",
    "        - n : Number of players\n",
    "        - k : Number of cards per player\n",
    "        \n",
    "    Returns: \n",
    "        - 2D numpy array where each row represent each player and each column their card in ascending order. \n",
    "    \"\"\"\n",
    "    \n",
    "    assert n * k <= N, \"There are not enough cards for all the players!\"\n",
    "    \n",
    "    _cards = np.random.choice(a=np.arange(1, N+1), size=n*k, replace=True)\n",
    "    _cards = _cards.reshape(n,k)\n",
    "    _cards.sort(axis=1)\n",
    "    return _cards"
   ]
  },
  {
   "cell_type": "code",
   "execution_count": 26,
   "id": "0b42a0be",
   "metadata": {},
   "outputs": [],
   "source": [
    "# Vector to store number of cards over N/2\n",
    "game_num_cards_over = []\n",
    "# Run 100 new games\n",
    "for game in range(100):\n",
    "    # Sample with replacement!\n",
    "    new_game = sample_cards_w_replacement(100, 6, 3)\n",
    "    # Count cards over N/2\n",
    "    num_cards_over_N_over_2 = len([card for card in new_game.flatten() if card > (100 / 2)])\n",
    "    # Append to list\n",
    "    game_num_cards_over.append(num_cards_over_N_over_2)"
   ]
  },
  {
   "cell_type": "code",
   "execution_count": 27,
   "id": "2a7d1bb2",
   "metadata": {},
   "outputs": [
    {
     "data": {
      "image/png": "[encoded data removed]",
      "text/plain": [
       "<Figure size 640x480 with 1 Axes>"
      ]
     },
     "metadata": {},
     "output_type": "display_data"
    }
   ],
   "source": [
    "# Plot distribution\n",
    "plt.hist(game_num_cards_over, bins = 100)\n",
    "plt.xticks(range(0, 19))\n",
    "plt.show()"
   ]
  },
  {
   "cell_type": "code",
   "execution_count": 28,
   "id": "e6e09c8b",
   "metadata": {},
   "outputs": [
    {
     "data": {
      "image/png": "[encoded data removed]",
      "text/plain": [
       "<Figure size 640x480 with 1 Axes>"
      ]
     },
     "metadata": {},
     "output_type": "display_data"
    }
   ],
   "source": [
    "# Numpy distribution to compare to\n",
    "actual_bin = np.random.binomial(n = 18, p = 0.5, size = 100)\n",
    "# Plot distribution\n",
    "plt.hist(actual_bin, bins = 100)\n",
    "plt.xticks(range(0, 19))\n",
    "plt.show()"
   ]
  },
  {
   "cell_type": "code",
   "execution_count": 29,
   "id": "e1533d63",
   "metadata": {},
   "outputs": [
    {
     "data": {
      "image/png": "[encoded data removed]",
      "text/plain": [
       "<Figure size 640x480 with 1 Axes>"
      ]
     },
     "metadata": {},
     "output_type": "display_data"
    }
   ],
   "source": [
    "# Scipy distribution to compare to\n",
    "# I couldn't get actual draws to work (maybe this is deprecated since the docs seem to reference numpy)\n",
    "# But we can still plot the pmf\n",
    "import scipy\n",
    "#actual_bin = scipy.stats.binom(n=18, p=0.5, size=100)\n",
    "# Plot distribution\n",
    "#plt.hist(actual_bin, bins = 100)\n",
    "#plt.xticks(range(0, 19))\n",
    "x = range(0, 19)\n",
    "pmf = scipy.stats.binom.pmf(x, 18, 0.5)\n",
    "plt.plot(x,pmf)\n",
    "plt.xticks(range(0, 19))\n",
    "plt.show()"
   ]
  },
  {
   "cell_type": "markdown",
   "id": "4fd361e5-2c9c-4c78-9987-d73833be1f19",
   "metadata": {
    "user_expressions": []
   },
   "source": [
    "### 3.2. Beta Distribution\n",
    "\n",
    "The [order statistics](https://en.wikipedia.org/wiki/Order_statistic) of the uniform distribution follow a Beta distribution. While here we are not exactly sampling real numbers in $[0,1]$ following the uniform distribution, you can imagine that sampling one single number without repetition from $\\{ 1, 2, 3, \\ldots, N \\}$ is not very different...\n",
    "\n",
    "Compare the distribution of the lowest number in the sample (Part 1) with a [Beta distribution](https://en.wikipedia.org/wiki/Beta_distribution) with adequate choices of parameters. In order to do this, notice that the $k$th order statistics of a sample of $n$ uniformly distributed points in $[0,1]$ is $\\text{Beta}(k, n+1-k)$ (These $n$ and $k$ are not the same as before, you need to pick the right values of these)."
   ]
  },
  {
   "cell_type": "code",
   "execution_count": 30,
   "id": "a323b0ca-7bf6-48c1-a9f1-b87bc08d080c",
   "metadata": {},
   "outputs": [
    {
     "data": {
      "image/png": "[encoded data removed]",
      "text/plain": [
       "<Figure size 640x480 with 1 Axes>"
      ]
     },
     "metadata": {},
     "output_type": "display_data"
    }
   ],
   "source": [
    "# Repeat our plot from part 1 of draw minimums\n",
    "plt.hist(draw_minimums, bins = 100)\n",
    "plt.xticks(range(int(np.min(draw_minimums)), int(np.max(draw_minimums) + 1)))\n",
    "plt.show()"
   ]
  },
  {
   "cell_type": "code",
   "execution_count": 31,
   "id": "6508f4b6",
   "metadata": {},
   "outputs": [
    {
     "data": {
      "image/png": "[encoded data removed]",
      "text/plain": [
       "<Figure size 640x480 with 1 Axes>"
      ]
     },
     "metadata": {},
     "output_type": "display_data"
    }
   ],
   "source": [
    "# SWITCH TO DENSITY\n",
    "\n",
    "# We are looking for the 1st order statistic (1st smallest value), so in the beta k = 1\n",
    "beta_k = 1\n",
    "# In part 1 our sample was of size n*k = 18, so in the beta n = 18\n",
    "beta_n = 18\n",
    "# Numpy distribution to compare to\n",
    "actual_beta = np.random.beta(a = beta_k, b = beta_n + 1 - beta_k, size = 100)\n",
    "# Plot distribution\n",
    "plt.hist(actual_beta, bins = 100)\n",
    "plt.show()"
   ]
  },
  {
   "cell_type": "markdown",
   "id": "5bc7456e-e4f1-48af-92ef-cbe4177f9871",
   "metadata": {
    "user_expressions": []
   },
   "source": [
    "### 3.3. Exponential Distribution\n",
    "\n",
    "If we call $U_1$ the minimum number in the sample (Part 1), then make an histogram with the distribution of the transformed random variable given by \n",
    "$$\n",
    "X = - \\ln \\left( 1 - \\frac{U_1}{N} \\right)\n",
    "$$\n",
    "and compare this with the distribution of an exponential random variable with parameter $nk$, the total number of cards in the game. "
   ]
  },
  {
   "cell_type": "code",
   "execution_count": 32,
   "id": "103113a0",
   "metadata": {},
   "outputs": [
    {
     "data": {
      "image/png": "[encoded data removed]",
      "text/plain": [
       "<Figure size 640x480 with 1 Axes>"
      ]
     },
     "metadata": {},
     "output_type": "display_data"
    }
   ],
   "source": [
    "# For 100 draws, use min number in the sample to calculate transformed variable X\n",
    "# N = 100\n",
    "X_vals = [- np.log(1 - (sample_min / 100)) for sample_min in draw_minimums]\n",
    "\n",
    "# Plot distribution\n",
    "plt.hist(X_vals, bins = 100)\n",
    "plt.show()"
   ]
  },
  {
   "cell_type": "code",
   "execution_count": 33,
   "id": "abe974d1",
   "metadata": {},
   "outputs": [
    {
     "data": {
      "image/png": "[encoded data removed]",
      "text/plain": [
       "<Figure size 640x480 with 1 Axes>"
      ]
     },
     "metadata": {},
     "output_type": "display_data"
    }
   ],
   "source": [
    "# SWITCH TO DENSITY\n",
    "\n",
    "# Plot 100 exponential draws with parameter n*k (6*3 = 18 in our initial game)\n",
    "actual_expo = np.random.exponential(scale = 6*3, size = 100)\n",
    "# Plot distribution\n",
    "plt.hist(actual_expo, bins = 100)\n",
    "plt.show()"
   ]
  },
  {
   "cell_type": "markdown",
   "id": "0ad19b6e-5603-4b66-b379-6b79f5aaedf6",
   "metadata": {
    "user_expressions": []
   },
   "source": [
    "### 4. What happens when $n * k << N$?\n",
    "\n",
    "Some of the distributions we saw in previous sections are just approximate. Study what happens when we increase the number of cards. Try to understand how the cases of sampling with and without replacement compare as $n * k << N$. What do you expect to see in these cases? When will the difference between the two sampling strategies lead to similar or different results?"
   ]
  },
  {
   "cell_type": "markdown",
   "id": "188dffc9",
   "metadata": {},
   "source": [
    "We expect to see convergence of sampling with and without replacement when $n * k << N$. When N is large removing a number from the potential outcomes for a draw when you sample without replacement does not have much of an impact on overall probabilities. Here I keep `n*k` fixed and increase `N`."
   ]
  },
  {
   "cell_type": "code",
   "execution_count": 34,
   "id": "51994000",
   "metadata": {},
   "outputs": [
    {
     "name": "stdout",
     "output_type": "stream",
     "text": [
      "N is 20\n",
      "without replacement\n"
     ]
    },
    {
     "data": {
      "image/png": "[encoded data removed]",
      "text/plain": [
       "<Figure size 640x480 with 1 Axes>"
      ]
     },
     "metadata": {},
     "output_type": "display_data"
    },
    {
     "name": "stdout",
     "output_type": "stream",
     "text": [
      "with replacement\n"
     ]
    },
    {
     "data": {
      "image/png": "[encoded data removed]",
      "text/plain": [
       "<Figure size 640x480 with 1 Axes>"
      ]
     },
     "metadata": {},
     "output_type": "display_data"
    },
    {
     "name": "stdout",
     "output_type": "stream",
     "text": [
      "N is 50\n",
      "without replacement\n"
     ]
    },
    {
     "data": {
      "image/png": "[encoded data removed]",
      "text/plain": [
       "<Figure size 640x480 with 1 Axes>"
      ]
     },
     "metadata": {},
     "output_type": "display_data"
    },
    {
     "name": "stdout",
     "output_type": "stream",
     "text": [
      "with replacement\n"
     ]
    },
    {
     "data": {
      "image/png": "[encoded data removed]",
      "text/plain": [
       "<Figure size 640x480 with 1 Axes>"
      ]
     },
     "metadata": {},
     "output_type": "display_data"
    },
    {
     "name": "stdout",
     "output_type": "stream",
     "text": [
      "N is 100\n",
      "without replacement\n"
     ]
    },
    {
     "data": {
      "image/png": "[encoded data removed]",
      "text/plain": [
       "<Figure size 640x480 with 1 Axes>"
      ]
     },
     "metadata": {},
     "output_type": "display_data"
    },
    {
     "name": "stdout",
     "output_type": "stream",
     "text": [
      "with replacement\n"
     ]
    },
    {
     "data": {
      "image/png": "[encoded data removed]",
      "text/plain": [
       "<Figure size 640x480 with 1 Axes>"
      ]
     },
     "metadata": {},
     "output_type": "display_data"
    },
    {
     "name": "stdout",
     "output_type": "stream",
     "text": [
      "N is 500\n",
      "without replacement\n"
     ]
    },
    {
     "data": {
      "image/png": "[encoded data removed]",
      "text/plain": [
       "<Figure size 640x480 with 1 Axes>"
      ]
     },
     "metadata": {},
     "output_type": "display_data"
    },
    {
     "name": "stdout",
     "output_type": "stream",
     "text": [
      "with replacement\n"
     ]
    },
    {
     "data": {
      "image/png": "[encoded data removed]",
      "text/plain": [
       "<Figure size 640x480 with 1 Axes>"
      ]
     },
     "metadata": {},
     "output_type": "display_data"
    },
    {
     "name": "stdout",
     "output_type": "stream",
     "text": [
      "N is 1000\n",
      "without replacement\n"
     ]
    },
    {
     "data": {
      "image/png": "[encoded data removed]",
      "text/plain": [
       "<Figure size 640x480 with 1 Axes>"
      ]
     },
     "metadata": {},
     "output_type": "display_data"
    },
    {
     "name": "stdout",
     "output_type": "stream",
     "text": [
      "with replacement\n"
     ]
    },
    {
     "data": {
      "image/png": "[encoded data removed]",
      "text/plain": [
       "<Figure size 640x480 with 1 Axes>"
      ]
     },
     "metadata": {},
     "output_type": "display_data"
    }
   ],
   "source": [
    "growing_N = [20, 50, 100, 500, 1000]\n",
    "# INCREASE AS NEEDED TO SHOW THEY ARE THE SAME\n",
    "\n",
    "# Overlay histograms of cards from draws without and with replacement\n",
    "for N in growing_N:\n",
    "    draw_without_replacement = sample_cards(N, 6, 3)\n",
    "    draw_with_replacement = sample_cards_w_replacement(N, 6, 3)\n",
    "    print(\"N is \" + str(N))\n",
    "    print('without replacement')\n",
    "    plt.hist(draw_without_replacement.flatten(), bins = 100)\n",
    "    plt.show()\n",
    "    print('with replacement')\n",
    "    plt.hist(draw_with_replacement.flatten(), bins = 100)\n",
    "    plt.show()\n",
    "\n",
    "# Potentially need means? Or some other summary statistic? Can't just plot results and necessarily expect it to work out..."
   ]
  },
  {
   "cell_type": "markdown",
   "id": "d944ef54-38c2-46dc-a74f-2383625f9021",
   "metadata": {
    "user_expressions": []
   },
   "source": [
    "### Contribution statement\n",
    "\n",
    "Please include a list of the students you worked with during this project (including yourself). Include both names and GitHub usernames of the people you collaborated with. Maximum of three persons per group. \n",
    "- Member No1: Isaac Liu (ijyliu)\n",
    "- Member No2: \n",
    "- Member No3:"
   ]
  }
 ],
 "metadata": {
  "kernelspec": {
   "display_name": "Python 3 (ipykernel)",
   "language": "python",
   "name": "python3"
  },
  "language_info": {
   "codemirror_mode": {
    "name": "ipython",
    "version": 3
   },
   "file_extension": ".py",
   "mimetype": "text/x-python",
   "name": "python",
   "nbconvert_exporter": "python",
   "pygments_lexer": "ipython3",
   "version": "3.11.4"
  }
 },
 "nbformat": 4,
 "nbformat_minor": 5
}
